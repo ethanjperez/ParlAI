{
 "cells": [
  {
   "cell_type": "code",
   "execution_count": 5,
   "metadata": {},
   "outputs": [
    {
     "name": "stdout",
     "output_type": "stream",
     "text": [
      "# HIT Files: 113\n",
      "# Passed Test: 27 / 86 = 31.4 %\n"
     ]
    }
   ],
   "source": [
    "import json\n",
    "import numpy as np\n",
    "import os\n",
    "from pprint import pprint\n",
    "\n",
    "task_dir = '/Users/ethanperez/research/ParlAI/parlai/mturk/core/run_data/live/context_evaluator_'\n",
    "\n",
    "### RACE: Unfiltered Workers\n",
    "# prompt_type, task_id = 'question', '1553982706'  # Q-only\n",
    "# prompt_type, task_id = 'context_question', 1553790696  # TFIDF\n",
    "# prompt_type, task_id = 'context_question', 1553901953  # FastText\n",
    "### RACE: Filtered Workers\n",
    "# prompt_type, task_id = 'question', '1554052233'  # Q-only\n",
    "# prompt_type, task_id = 'quote and question', 1554006689  # TFIDF(Q+O)\n",
    "# prompt_type, task_id = 'quote and question', 1554130485  # TFIDF(O)\n",
    "# prompt_type, task_id = 'quote and question', 1554069931  # Search\n",
    "# prompt_type, task_id = 'quote and question', 1554072277  # SL\n",
    "# prompt_type, task_id = 'quote and question', 1554132868  # SL-Influence\n",
    "# dataset = 'race'\n",
    "\n",
    "### DREAM\n",
    "dataset = 'dream'\n",
    "# prompt_type, task_id = 'question', 1554582693  # Q-only\n",
    "# prompt_type, task_id = 'quote and question', 1554596686  # TFIDF(Q+O)\n",
    "# prompt_type, task_id = 'quote and question', 1554587404  # TFIDF(O)\n",
    "# prompt_type, task_id = 'quote and question', 1554662280  # FastText(O)\n",
    "# prompt_type, task_id = 'quote and question', 1554675304  # Search\n",
    "# prompt_type, task_id = 'quote and question', 1554685131  # SL\n",
    "# prompt_type, task_id = 'quote and question', 1554692472  # SL-Sents\n",
    "# prompt_type, task_id = 'quote and question', 1554729998  # SL-Sents-Influence\n",
    "prompt_type, task_id = 'quote and question', 1555333992  # SL-Theory-of-Mind\n",
    "## All answers at once\n",
    "prompt_type, task_id = 'question, answers, and quotes', 1555707929  # TFIDF(O)\n",
    "# prompt_type, task_id = 'question, answers, and quotes', ?  # Search\n",
    "\n",
    "# split = 'middle'\n",
    "split = None\n",
    "\n",
    "# Set useful variables\n",
    "task_dir += str(task_id)\n",
    "num_options = 3 if dataset == 'dream' else 4\n",
    "options = ['A', 'B', 'C', 'D'][:num_options]\n",
    "debate_mode_to_option = {'Ⅰ': 'A', 'Ⅱ': 'B', 'Ⅲ': 'C', 'Ⅳ': 'D', 'ⅰ': 'A', 'ⅱ': 'B', 'ⅲ': 'C', 'ⅳ': 'D', None: None}\n",
    "\n",
    "# Read HIT data\n",
    "print('# HIT Files:', len(os.listdir(task_dir)))\n",
    "hit_results = []\n",
    "num_passed_test = 0\n",
    "for hit_dir in os.listdir(task_dir):\n",
    "    if hit_dir.startswith('o_'):\n",
    "        continue\n",
    "    num_passed_test += 1\n",
    "    with open(os.path.join(task_dir, hit_dir, 'custom/data.json'), 'r') as file:\n",
    "        hit_results.append(json.load(file))\n",
    "        file.close()\n",
    "if len(os.listdir(task_dir)) != num_passed_test:\n",
    "    num_total_tested = len(os.listdir(task_dir)) - num_passed_test\n",
    "    print('# Passed Test:', num_passed_test, '/', num_total_tested, '=', round((100. * num_passed_test) / num_total_tested, 2), '%')"
   ]
  },
  {
   "cell_type": "code",
   "execution_count": 7,
   "metadata": {
    "scrolled": false
   },
   "outputs": [
    {
     "name": "stdout",
     "output_type": "stream",
     "text": [
      "| Time: 386.3 | Acc: 55 | Max Freq: 55.0 | Rate: 7 | Feedback: nothing comes to mind, it seems fine | Quote Rating: None | Quote Desc: None\n",
      "| Time: 382.0 | Acc: 70 | Max Freq: 45.0 | Rate: 10 | Feedback: It's fine as is to be honest | Quote Rating: None | Quote Desc: None\n",
      "| Time: 882.0 | Acc: 65 | Max Freq: 60.0 | Rate: 6 | Feedback: Add a \"none of the above\" and a \"all of the above\" choice. | Quote Rating: None | Quote Desc: None\n",
      "| Time: 770.5 | Acc: 70 | Max Freq: 45.0 | Rate: 8 | Feedback: Nothing really. Its straightforward | Quote Rating: None | Quote Desc: None\n",
      "A3G50CZ5R70C36 3XCC1ODXDMQDPTBAX7TALKIYTHOQRY | reject_reasons: ['median_duration = 3126'] | block_reasons: [] | bonus_reasons: []\n",
      "| Time: 80.2 | Acc: 35 | Max Freq: 40.0 | Rate: 4 | Feedback: It smooth very well. Not necessary  | Quote Rating: None | Quote Desc: None\n",
      "| Time: 371.6 | Acc: 55 | Max Freq: 55.0 | Rate: 7 | Feedback: few more examples | Quote Rating: None | Quote Desc: None\n",
      "| Time: 299.2 | Acc: 65 | Max Freq: 45.0 | Rate: 10 | Feedback: I feel like the instructions need a bit more clarified. Other than that it was a fun task. | Quote Rating: None | Quote Desc: None\n",
      "| Time: 731.1 | Acc: 85 | Max Freq: 40.0 | Rate: 10 | Feedback: I think it's good as it is | Quote Rating: None | Quote Desc: None\n",
      "| Time: 462.9 | Acc: 70 | Max Freq: 50.0 | Rate: 7 | Feedback: Some questions seemed like they had no right answer so maybe there should be clearer questions. | Quote Rating: None | Quote Desc: None\n",
      "| Time: 591.9 | Acc: 65 | Max Freq: 40.0 | Rate: 5 | Feedback: By making the quotes more readable. | Quote Rating: None | Quote Desc: None\n",
      "| Time: 443.6 | Acc: 55 | Max Freq: 40.0 | Rate: 6 | Feedback: I'm not really sure. Other that it being hard, at least for me, the actual process of doing it seemed just fine. I guess knowing which ones I got wrong would be interesting for me. | Quote Rating: None | Quote Desc: None\n",
      "| Time: 383.3 | Acc: 55 | Max Freq: 40.0 | Rate: 7 | Feedback: It's a little jumpy inbetween questions so I'd fix that.  | Quote Rating: None | Quote Desc: None\n",
      "| Time: 690.1 | Acc: 85 | Max Freq: 50.0 | Rate: 9 | Feedback: Some of the questions are impossible to answer correctly but that's expected | Quote Rating: None | Quote Desc: None\n",
      "| Time: 588.6 | Acc: 65 | Max Freq: 45.0 | Rate: 8 | Feedback: some of the questions didn't make sense based on only the quotes. make quotes more accurate | Quote Rating: None | Quote Desc: None\n",
      "| Time: 299.5 | Acc: 80 | Max Freq: 45.0 | Rate: 8 | Feedback: The explanation was a little strange. | Quote Rating: None | Quote Desc: None\n",
      "| Time: 362.9 | Acc: 75 | Max Freq: 65.0 | Rate: 9 | Feedback: Nothing, everything worked well. | Quote Rating: None | Quote Desc: None\n",
      "| Time: 772.1 | Acc: 85 | Max Freq: 65.0 | Rate: 10 | Feedback: I can't think of anything. It was clear and fun. | Quote Rating: None | Quote Desc: None\n",
      "AAQ0H553B0Y6B 3ZPPDN2SLWBIOQPJUZYO0ITQ4SZE9S | reject_reasons: ['median_duration = 5840'] | block_reasons: [] | bonus_reasons: []\n",
      "| Time: 123.9 | Acc: 20 | Max Freq: 50.0 | Rate: 7 | Feedback: Not necessary  | Quote Rating: None | Quote Desc: None\n",
      "A3GMQWSGU3OS4D 3LO69W1SU4SB96MJPRR25U5XH2ULGC | reject_reasons: ['median_duration = 4830'] | block_reasons: [] | bonus_reasons: []\n",
      "| Time: 126.9 | Acc: 30 | Max Freq: 40.0 | Rate: 5 | Feedback: Not necessary  | Quote Rating: None | Quote Desc: None\n",
      "| Time: 225.1 | Acc: 80 | Max Freq: 50.0 | Rate: 7 | Feedback: The instructions could be a bit shorter and still make sense. | Quote Rating: None | Quote Desc: None\n",
      "| Time: 373.9 | Acc: 60 | Max Freq: 40.0 | Rate: 10 | Feedback: I had no issues | Quote Rating: None | Quote Desc: None\n",
      "| Time: 234.5 | Acc: 65 | Max Freq: 40.0 | Rate: 3 | Feedback: Provide a better explanation of the task. It was very ambiguous.  | Quote Rating: None | Quote Desc: None\n",
      "| Time: 619.8 | Acc: 65 | Max Freq: 45.0 | Rate: 5 | Feedback: not sure | Quote Rating: None | Quote Desc: None\n",
      "| Time: 402.8 | Acc: 60 | Max Freq: 45.0 | Rate: 0 | Feedback: show me what i got wrong.  | Quote Rating: None | Quote Desc: None\n",
      "| Time: 409.9 | Acc: 55 | Max Freq: 40.0 | Rate: 5 | Feedback: Explain on what the Quotes are trying to do in each question in the examples. | Quote Rating: None | Quote Desc: None\n",
      "| Time: 221.4 | Acc: 75 | Max Freq: 50.0 | Rate: 5 | Feedback: Better quotes | Quote Rating: None | Quote Desc: None\n",
      "| Time: 698.0 | Acc: 70 | Max Freq: 45.0 | Rate: 8 | Feedback: Was very unsure which option to choose or even if I should choose any. Maybe just a little more description. | Quote Rating: None | Quote Desc: None\n",
      "REJECTED: 3\n",
      "INCOMPLETE: 0\n",
      "VALID: 27\n",
      "Median Question Duration: 16.075499999999998\n",
      "Median Worker Duration: 386.315\n",
      "Median Worker Accuracy: 0.65\n",
      "Median Max Response Freq: 0.45\n",
      "Quote Rating: | Mean: nan | Median: nan | Std: nan\n"
     ]
    },
    {
     "name": "stderr",
     "output_type": "stream",
     "text": [
      "/anaconda3/lib/python3.6/site-packages/ipykernel_launcher.py:108: RuntimeWarning: Mean of empty slice.\n",
      "/anaconda3/lib/python3.6/site-packages/numpy/core/_methods.py:80: RuntimeWarning: invalid value encountered in double_scalars\n",
      "  ret = ret.dtype.type(ret / rcount)\n",
      "/anaconda3/lib/python3.6/site-packages/numpy/core/fromnumeric.py:2957: RuntimeWarning: Mean of empty slice.\n",
      "  out=out, **kwargs)\n",
      "/anaconda3/lib/python3.6/site-packages/numpy/core/_methods.py:135: RuntimeWarning: Degrees of freedom <= 0 for slice\n",
      "  keepdims=keepdims)\n",
      "/anaconda3/lib/python3.6/site-packages/numpy/core/_methods.py:105: RuntimeWarning: invalid value encountered in true_divide\n",
      "  arrmean, rcount, out=arrmean, casting='unsafe', subok=False)\n",
      "/anaconda3/lib/python3.6/site-packages/numpy/core/_methods.py:127: RuntimeWarning: invalid value encountered in double_scalars\n",
      "  ret = ret.dtype.type(ret / rcount)\n"
     ]
    }
   ],
   "source": [
    "num_valid_hits, num_rejected_hits, num_incomplete_hits = 0, 0, 0\n",
    "metrics = {}\n",
    "task_ratings = {i: 0 for i in range(11)}\n",
    "quote_ratings = []\n",
    "durations = []\n",
    "durations_by_worker = []\n",
    "accuracy_by_worker = {}\n",
    "max_response_freqs = []\n",
    "worker_ids = []\n",
    "\n",
    "for hit_result in hit_results:\n",
    "    if ((len(hit_result['reject_reasons']) > 0) or\n",
    "        (len(hit_result['block_reasons']) > 0)):\n",
    "        num_rejected_hits += 1\n",
    "        print(hit_result['worker_id'], hit_result['assignment_id'],\n",
    "              '| reject_reasons:', hit_result['reject_reasons'],\n",
    "              '| block_reasons:', hit_result['block_reasons'],\n",
    "              '| bonus_reasons: ' + str(hit_result['bonus_reasons']) if 'bonus_reasons' in hit_result else '')\n",
    "    elif hit_result['feedback'] is None:\n",
    "        num_incomplete_hits += 1\n",
    "        continue\n",
    "    \n",
    "    worker_ids.append(hit_result['worker_id'])\n",
    "#     if hit_result['worker_id'] == 'A1PUHCEBSOWETV':\n",
    "#         print('*** A1PUHCEBSOWETV ***', hit_result['assignment_id'])\n",
    "    num_valid_hits += 1\n",
    "    if (hit_result['task_rating'] is not None) and (hit_result['task_rating'].isdigit()):\n",
    "        task_ratings[int(hit_result['task_rating'])] += 1\n",
    "    if (hit_result['quote_rating'] is not None) and (hit_result['quote_rating'].isdigit()):\n",
    "        quote_ratings.append(int(hit_result['quote_rating']))\n",
    "    for qtype, qtype_accuracy in hit_result['accuracy'].items():\n",
    "        accuracy_by_worker[qtype] = accuracy_by_worker.get(qtype, []) + [qtype_accuracy]\n",
    "    \n",
    "    hit_durations = []\n",
    "    response_option_counts = {option: 0 for option in options}\n",
    "    responses = []\n",
    "    for prompt in hit_result['data']:\n",
    "        qid = prompt['sample']['qid']\n",
    "        if (split is not None) and (split not in qid):\n",
    "            continue\n",
    "        model_stance = debate_mode_to_option[prompt['sample']['debate_mode']]\n",
    "        answer = prompt['sample']['eval_labels'][0]\n",
    "        human_correct = (prompt['response'] == answer)\n",
    "        assert answer in options, 'Answer must be in options.'\n",
    "        \n",
    "        # Calculate metrics\n",
    "        if qid not in metrics:\n",
    "            metrics[qid] = {\n",
    "                option: {\n",
    "                    'num': 0,\n",
    "                    'num_correct': 0,\n",
    "                    'num_correct_debate_mode': 0,\n",
    "                    'num_incorrect_debate_mode': 0,\n",
    "                    'num_correct_with_correct_debate_mode': 0,\n",
    "                    'num_correct_with_incorrect_debate_mode': 0,\n",
    "                    'num_debate_mode_responses': 0,\n",
    "                }\n",
    "                for option in ([None] if model_stance is None else options)\n",
    "            }\n",
    "            metrics[qid]['answer'] = answer\n",
    "        prompt_metrics = metrics[qid][model_stance]\n",
    "        prompt_metrics['num'] += 1\n",
    "        prompt_metrics['num_correct'] += human_correct\n",
    "        if model_stance == answer:\n",
    "            prompt_metrics['num_correct_with_correct_debate_mode'] += human_correct\n",
    "            prompt_metrics['num_correct_debate_mode'] += 1\n",
    "        else:\n",
    "            prompt_metrics['num_correct_with_incorrect_debate_mode'] += human_correct\n",
    "            prompt_metrics['num_incorrect_debate_mode'] += 1\n",
    "        prompt_metrics['num_debate_mode_responses'] += (prompt['response'] == model_stance)\n",
    "        \n",
    "        hit_durations.append(prompt['duration'] / 1000.)\n",
    "        response_option_counts[prompt['response']] += 1\n",
    "        responses.append(prompt['response'])\n",
    "    duration = np.sum(np.array(hit_durations))\n",
    "    durations_by_worker.append(duration)\n",
    "    durations += hit_durations\n",
    "    response_options_array = np.array(list(response_option_counts.values()))\n",
    "    response_options_array = response_options_array / response_options_array.sum()\n",
    "    max_response_freq = response_options_array.max()\n",
    "    max_response_freqs.append(max_response_freq)\n",
    "    print('| Time:', round(duration, 1),\n",
    "          '| Acc:', round(100 * hit_result['accuracy'][prompt_type]),\n",
    "          '| Max Freq:', round(100 * max_response_freq, 1),\n",
    "          '| Rate:', hit_result['task_rating'],\n",
    "          '| Feedback:', hit_result['feedback'],\n",
    "          '| Quote Rating:', None if 'quote_rating' not in hit_result else hit_result['quote_rating'], \n",
    "          '| Quote Desc:', None if 'quote_description' not in hit_result else hit_result['quote_description'])\n",
    "\n",
    "quote_ratings = np.array(quote_ratings)\n",
    "durations = np.array(durations)\n",
    "durations_by_worker = np.array(durations_by_worker)\n",
    "max_response_freqs = np.array(max_response_freqs)\n",
    "durations.sort()\n",
    "durations_by_worker.sort()\n",
    "max_response_freqs.sort()\n",
    "for qtype in accuracy_by_worker:\n",
    "    accuracy_by_worker[qtype] = np.array(accuracy_by_worker[qtype])\n",
    "    accuracy_by_worker[qtype].sort()\n",
    "print('REJECTED:', num_rejected_hits)\n",
    "print('INCOMPLETE:', num_incomplete_hits)\n",
    "print('VALID:', num_valid_hits)\n",
    "print('Median Question Duration:', np.median(durations))\n",
    "print('Median Worker Duration:', np.median(durations_by_worker))\n",
    "print('Median Worker Accuracy:', np.median(accuracy_by_worker[prompt_type]))\n",
    "print('Median Max Response Freq:', np.median(max_response_freqs))\n",
    "print('Quote Rating:',\n",
    "      '| Mean:', round(quote_ratings.mean(), 2),\n",
    "      '| Median:', round(np.median(quote_ratings), 2),\n",
    "      '| Std:', round(np.std(quote_ratings), 2))\n",
    "# pprint(hit_results[0]['data'][0])\n",
    "# pprint(hit_results[0]['worker_id'])"
   ]
  },
  {
   "cell_type": "code",
   "execution_count": 8,
   "metadata": {
    "scrolled": false
   },
   "outputs": [
    {
     "name": "stdout",
     "output_type": "stream",
     "text": [
      "Evals per sample: 5.4\n",
      "Fraction insuffient evals: 0.2\n",
      "Convinced: nan %\n",
      "- Correct debater: nan %\n",
      "- Incorrect debater: nan %\n",
      "Accuracy: 64.21 %\n",
      "- Correct debater: nan %\n",
      "- Incorrect debater: nan %\n",
      "Extra Evals: 7.41 %\n",
      "Evals per sample distribution: [4 4 4 4 4 4 4 4 4 4 4 4 4 4 4 4 4 4 4 4 5 5 5 5 5 5 5 5 5 5 5 5 5 5 5 5 5\n",
      " 5 5 5 5 5 5 5 5 5 5 5 5 5 5 5 5 5 5 5 5 5 5 5 6 6 6 6 6 6 6 6 6 6 6 6 6 6\n",
      " 6 6 6 6 6 6 7 7 7 7 7 7 7 7 7 7 7 7 7 7 7 7 7 7 7 7]\n"
     ]
    },
    {
     "name": "stderr",
     "output_type": "stream",
     "text": [
      "/anaconda3/lib/python3.6/site-packages/ipykernel_launcher.py:42: RuntimeWarning: Mean of empty slice.\n",
      "/anaconda3/lib/python3.6/site-packages/numpy/core/_methods.py:80: RuntimeWarning: invalid value encountered in double_scalars\n",
      "  ret = ret.dtype.type(ret / rcount)\n",
      "/anaconda3/lib/python3.6/site-packages/ipykernel_launcher.py:44: RuntimeWarning: Mean of empty slice.\n",
      "/anaconda3/lib/python3.6/site-packages/ipykernel_launcher.py:46: RuntimeWarning: Mean of empty slice.\n",
      "/anaconda3/lib/python3.6/site-packages/ipykernel_launcher.py:51: RuntimeWarning: Mean of empty slice.\n",
      "/anaconda3/lib/python3.6/site-packages/ipykernel_launcher.py:53: RuntimeWarning: Mean of empty slice.\n"
     ]
    }
   ],
   "source": [
    "accuracy_by_sample = []\n",
    "accuracy_by_sample_correct_debate_mode = []\n",
    "accuracy_by_sample_incorrect_debate_mode = []\n",
    "convinced_freqs = []\n",
    "convinced_freqs_with_correct_debate_mode = []\n",
    "convinced_freqs_with_incorrect_debate_mode = []\n",
    "num_evals_by_sample = []\n",
    "for qid, qid_metrics in metrics.items():\n",
    "    answer = metrics[qid]['answer']\n",
    "    for model_stance, prompt in qid_metrics.items():\n",
    "        if not (model_stance in [None] + options):\n",
    "            continue\n",
    "\n",
    "        # Q-only stats\n",
    "        prompt_metrics = metrics[qid][model_stance]\n",
    "        num_evals_by_sample.append(prompt_metrics['num'])\n",
    "        accuracy_by_sample.append(prompt_metrics['num_correct'] / prompt_metrics['num'])\n",
    "        if model_stance is None:\n",
    "            continue\n",
    "        \n",
    "        # Debater stats\n",
    "        convinced_freq = prompt_metrics['num_debate_mode_responses'] / prompt_metrics['num']\n",
    "        if model_stance == answer:\n",
    "            convinced_freqs_with_correct_debate_mode.append(convinced_freq)\n",
    "            accuracy_by_sample_correct_debate_mode.append(\n",
    "                prompt_metrics['num_correct_with_correct_debate_mode'] /\n",
    "                prompt_metrics['num_correct_debate_mode'])\n",
    "        else:\n",
    "            convinced_freqs_with_incorrect_debate_mode.append(convinced_freq)\n",
    "            accuracy_by_sample_incorrect_debate_mode.append(\n",
    "                prompt_metrics['num_correct_with_incorrect_debate_mode'] /\n",
    "                prompt_metrics['num_incorrect_debate_mode'])\n",
    "        convinced_freqs.append(convinced_freq)\n",
    "\n",
    "worker_ids = set(worker_ids)\n",
    "        \n",
    "num_evals_by_sample = np.array(num_evals_by_sample)\n",
    "print('Evals per sample:', num_evals_by_sample.mean())\n",
    "print('Fraction insuffient evals:', (num_evals_by_sample < 5).mean())\n",
    "\n",
    "convinced_freqs = np.array(convinced_freqs)\n",
    "print('Convinced:', round(100 * convinced_freqs.mean(), 2), '%')\n",
    "convinced_freqs_with_correct_debate_mode = np.array(convinced_freqs_with_correct_debate_mode)\n",
    "print('- Correct debater:', round(100 * convinced_freqs_with_correct_debate_mode.mean(), 2), '%')\n",
    "convinced_freqs_with_incorrect_debate_mode = np.array(convinced_freqs_with_incorrect_debate_mode)\n",
    "print('- Incorrect debater:', round(100 * convinced_freqs_with_incorrect_debate_mode.mean(), 2), '%')\n",
    "\n",
    "accuracy_by_sample = np.array(accuracy_by_sample)\n",
    "print('Accuracy:', round(100 * accuracy_by_sample.mean(), 2), '%')\n",
    "accuracy_by_sample_correct_debate_mode = np.array(accuracy_by_sample_correct_debate_mode)\n",
    "print('- Correct debater:', round(100 * accuracy_by_sample_correct_debate_mode.mean(), 2), '%')\n",
    "accuracy_by_sample_incorrect_debate_mode = np.array(accuracy_by_sample_incorrect_debate_mode)\n",
    "print('- Incorrect debater:', round(100 * accuracy_by_sample_incorrect_debate_mode.mean(), 2), '%')\n",
    "\n",
    "num_target_evals = 5\n",
    "print('Extra Evals:', round(((100. * (num_evals_by_sample - num_target_evals).sum()) / num_evals_by_sample.sum()), 2), '%')\n",
    "num_evals_by_sample.sort()\n",
    "print('Evals per sample distribution:', num_evals_by_sample)"
   ]
  },
  {
   "cell_type": "code",
   "execution_count": 9,
   "metadata": {},
   "outputs": [
    {
     "name": "stdout",
     "output_type": "stream",
     "text": [
      "NPS, Mean: (-11.11, 6.89)\n"
     ]
    }
   ],
   "source": [
    "def nps(task_ratings):\n",
    "    num_ratings = sum(list(task_ratings.values()))\n",
    "    if num_ratings == 0:\n",
    "        return None\n",
    "\n",
    "    nps_sum_ratings = 0\n",
    "    sum_ratings = 0\n",
    "    for score, num_raters in task_ratings.items():\n",
    "        sum_ratings += num_raters * score\n",
    "        if score >= 9:\n",
    "            nps_sum_ratings += num_raters\n",
    "        elif score <= 6:\n",
    "            nps_sum_ratings -= num_raters\n",
    "    return round(100 * (nps_sum_ratings / float(num_ratings)), 2), round((sum_ratings / float(num_ratings)), 2)\n",
    "\n",
    "print('NPS, Mean:', nps(task_ratings))"
   ]
  },
  {
   "cell_type": "code",
   "execution_count": 11,
   "metadata": {},
   "outputs": [
    {
     "data": {
      "text/plain": [
       "array([ 80.22 , 123.927, 126.874, 221.402, 225.142, 234.48 , 299.212,\n",
       "       299.505, 362.879, 371.555, 373.932, 382.044, 383.323, 386.315,\n",
       "       402.808, 409.943, 443.628, 462.929, 588.616, 591.891, 619.801,\n",
       "       690.127, 698.009, 731.093, 770.491, 772.102, 882.009])"
      ]
     },
     "execution_count": 11,
     "metadata": {},
     "output_type": "execute_result"
    }
   ],
   "source": [
    "durations_by_worker"
   ]
  },
  {
   "cell_type": "code",
   "execution_count": 29,
   "metadata": {},
   "outputs": [
    {
     "data": {
      "text/plain": [
       "0.6372222222222224"
      ]
     },
     "execution_count": 29,
     "metadata": {},
     "output_type": "execute_result"
    }
   ],
   "source": [
    "np.mean(accuracy_by_worker[prompt_type])"
   ]
  },
  {
   "cell_type": "code",
   "execution_count": 10,
   "metadata": {},
   "outputs": [
    {
     "data": {
      "text/plain": [
       "{0: 1, 1: 0, 2: 0, 3: 1, 4: 1, 5: 5, 6: 2, 7: 6, 8: 4, 9: 2, 10: 5}"
      ]
     },
     "execution_count": 10,
     "metadata": {},
     "output_type": "execute_result"
    }
   ],
   "source": [
    "task_ratings"
   ]
  },
  {
   "cell_type": "code",
   "execution_count": null,
   "metadata": {},
   "outputs": [],
   "source": []
  }
 ],
 "metadata": {
  "kernelspec": {
   "display_name": "Python 3",
   "language": "python",
   "name": "python3"
  },
  "language_info": {
   "codemirror_mode": {
    "name": "ipython",
    "version": 3
   },
   "file_extension": ".py",
   "mimetype": "text/x-python",
   "name": "python",
   "nbconvert_exporter": "python",
   "pygments_lexer": "ipython3",
   "version": "3.6.5"
  }
 },
 "nbformat": 4,
 "nbformat_minor": 2
}

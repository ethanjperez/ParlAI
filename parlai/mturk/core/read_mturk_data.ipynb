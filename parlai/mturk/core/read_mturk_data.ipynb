{
 "cells": [
  {
   "cell_type": "code",
   "execution_count": 1257,
   "metadata": {},
   "outputs": [],
   "source": [
    "import json\n",
    "import matplotlib.pyplot as plt; plt.rcdefaults()\n",
    "import numpy as np\n",
    "import os\n",
    "from pprint import pprint\n",
    "from scipy.stats import ttest_ind\n",
    "\n",
    "num_evals = 5\n",
    "evals = {}"
   ]
  },
  {
   "cell_type": "code",
   "execution_count": 1448,
   "metadata": {},
   "outputs": [
    {
     "name": "stdout",
     "output_type": "stream",
     "text": [
      "Qualified: 52.31 %\n"
     ]
    }
   ],
   "source": [
    "task_dir = '/Users/ethanperez/research/ParlAI/parlai/mturk/core/run_data/live/context_evaluator_'\n",
    "\n",
    "task_setup = [\n",
    "# ## Persuading Humans (Dev)\n",
    "# ('race', 'question', 1554052233, 'No Passage'),\n",
    "# ('race', 'quote and question', 1554006689, 'TFIDF(S,[Q;A])'),\n",
    "# ('race', 'quote and question', 1554130485, 'TFIDF(S,A)'),\n",
    "# ('race', 'quote and question', 1554069931, 'BERT Base'),\n",
    "# ('race', 'quote and question', 1554072277, 'Pred search'),\n",
    "# ('race', 'quote and question', 1554132868, 'Pred Δp(A)'),\n",
    "# ## Persuading Humans\n",
    "# ('race', 'quote and question', 1556832343, 'Pred search (Almost complete)'),\n",
    "# ('race', 'quote and question', 1557155351, 'Bi-Ranker'),\n",
    "# ## Persuading Humans: FINAL\n",
    "# ('race', 'question', 1557351318, 'No Passage'),\n",
    "# ('race', 'quote and question', 1556671432, 'TFIDF(S,[Q;A])'),\n",
    "# ('race', 'quote and question', 1556725767, 'TFIDF(S,A)'),\n",
    "# ('race', 'quote and question', 1556739336, 'FastText(S,A)'),\n",
    "# ('race', 'quote and question', 1557144204, 'BERT Base'),\n",
    "# ('race', 'quote and question', 1558102264, 'BERT Large'),\n",
    "# ('race', 'quote and question', 1556892630, 'Pred search'),\n",
    "# ('race', 'quote and question', 1556809031, 'Pred p(A)'),\n",
    "# ('race', 'quote and question', 1556756789, 'Pred Δp(A)'),  # (race.m=sl-sents.i.best.e)\n",
    "# ('race', 'quote and question', 1557420471, 'Human 1'),\n",
    "# ('race', 'quote and question', 1558016111, 'Human 2'),\n",
    "# ('race', 'quote and question', 1558028902, 'Human 3'),\n",
    "# ## Human QA on Summary\n",
    "# ('race', 'quotes and question', 1555946909, 'FastText(S,A) (lower pay)'),\n",
    "# ('race', 'quotes and question', 1555952058, 'BERT Base Best Epoch'),  # (6-10 sentence incorrectly placed at end)\n",
    "# ('race', 'quotes and question', 1556939750, 'Pred Δp(A) (lower pay)'),\n",
    "# ('race', 'quotes and question', 1557093902, 'Bi-Ranker'),\n",
    "# ## Human QA on Summary: FINAL\n",
    "# ('race', 'passage and question', 1555823963, 'Full Passage'),\n",
    "# ('race', 'quotes and question', 1558238519, 'First N'),\n",
    "# ('race', 'quotes and question', 1558203764, 'TFIDF(S,Q)'),\n",
    "# ('race', 'quotes and question', 1558142288, 'FastText(S,Q)'),\n",
    "# ('race', 'quotes and question', 1557189780, 'TFIDF(S,[Q;A])'),\n",
    "# ('race', 'quotes and question', 1557164593, 'TFIDF(S,A)'),\n",
    "# ('race', 'quotes and question', 1557234076, 'FastText(S,A)'),\n",
    "# ('race', 'quotes and question', 1557085110, 'BERT Base'),  # Last Epoch\n",
    "# ('race', 'quotes and question', 1558119911, 'BERT Large'),  # Not sure if this completed\n",
    "# ('race', 'quotes and question', 1556987177, 'Pred search'),\n",
    "# ('race', 'quotes and question', 1556977072, 'Pred p(A)'),\n",
    "# ('race', 'quotes and question', 1556999857, 'Pred Δp(A)'),\n",
    "# ('race', 'quotes and question', 1557432288, 'Human 1'),\n",
    "# ('race', 'quotes and question', 1558039471, 'Human 2'),\n",
    "# ('race', 'quotes and question', 1558054770, 'Human 3'),\n",
    "# ## Persuading Humans\n",
    "# ('dream', 'quote and question', 1556670413, 'Bi-Ranker'),\n",
    "# ('dream', 'quote and question', 1555333992, 'Pred search (ToM)'),\n",
    "# ## Persuading Humans: FINAL\n",
    "# ('dream', 'question', 1554582693, 'No Passage'),\n",
    "# ('dream', 'quote and question', 1554596686, 'TFIDF(S,[Q;A])'),\n",
    "# ('dream', 'quote and question', 1554587404, 'TFIDF(S,A)'),\n",
    "# ('dream', 'quote and question', 1554662280, 'FastText(S,A)'),\n",
    "# ('dream', 'quote and question', 1554675304, 'BERT Base'),\n",
    "# ('dream', 'quote and question', 1558108101, 'BERT Large'),\n",
    "# ('dream', 'quote and question', 1554685131, 'Pred search'),\n",
    "# ('dream', 'quote and question', 1554692472, 'Pred p(A)'),\n",
    "# ('dream', 'quote and question', 1554729998, 'Pred Δp(A)'),\n",
    "# ('dream', 'quote and question', 1558028987, 'Human 1'),\n",
    "# ('dream', 'quotes and question', 1558362124, 'Human 2'),\n",
    "# ('dream', 'quotes and question', ?, 'Human 3'),\n",
    "# ## Human QA on Summary\n",
    "# ('dream', 'question, answers, and quotes', 1555707929, 'TFIDF(S,A)'),  # 64.21%: (Less filter / no feedback)\n",
    "# ('dream', 'question, answers, and quotes', 1555722489, 'BERT Base'),  # 65.38%: (Less filter / no feedback)\n",
    "# ('dream', 'question and quotes', 1555789302, 'Pred search'),  # 75.17% (4/5 filter)\n",
    "# ('dream', 'question and quotes', 1555812443, 'Pred search'),  # 79.32% Actually: quotes and question (4/5 filter)\n",
    "# ('dream', 'quotes and question', 1555946647, 'BERT Base (RACE -> DREAM)'),  # (4 sentences incorrectly placed at end) (80.84%)\n",
    "# ('dream', 'quotes and question', 1556740293, 'Bi-Ranker'),\n",
    "# ## Human QA on Summary: FINAL\n",
    "# ('dream', 'passage and question', 1555804551, 'Full Passage'),\n",
    "# ('dream', 'quotes and question', 1558142116, 'First N'),\n",
    "# ('dream', 'quotes and question', 1558120652, 'TFIDF(S,Q)'),\n",
    "# ('dream', 'quotes and question', 1558059069, 'FastText(S,Q)'),\n",
    "# ('dream', 'quotes and question', 1556811067, 'TFIDF(S,[Q;A])'),\n",
    "# ('dream', 'quotes and question', 1556757043, 'TFIDF(S,A)'),\n",
    "# ('dream', 'quotes and question', 1555823257, 'FastText(S,A)'),\n",
    "# ('dream', 'quotes and question', 1556727396, 'BERT Base'),\n",
    "# ('dream', 'quotes and question', 1558101763, 'BERT Large'),\n",
    "# ('dream', 'quotes and question', 1556832115, 'Pred search'),\n",
    "# ('dream', 'quotes and question', 1556892896, 'Pred p(A)'),\n",
    "# ('dream', 'quotes and question', 1556938429, 'Pred Δp(A)'),\n",
    "# ('dream', 'quotes and question', 1558016251, 'Human 1'),\n",
    "# ('dream', 'quotes and question', ?, 'Human 2'),\n",
    "# ('dream', 'quotes and question', ?, 'Human 3'),\n",
    "]\n",
    "\n",
    "dataset, prompt_type, task_id, name = task_setup[-1]\n",
    "split = None  # 'middle', 'high', None\n",
    "\n",
    "\n",
    "# Set useful variables\n",
    "task_dir += str(task_id)\n",
    "if dataset != 'race':\n",
    "    split = None\n",
    "num_options = 3 if dataset == 'dream' else 4\n",
    "options = ['A', 'B', 'C', 'D'][:num_options]\n",
    "debate_mode_to_option = {'Ⅰ': 'A', 'Ⅱ': 'B', 'Ⅲ': 'C', 'Ⅳ': 'D', 'ⅰ': 'A', 'ⅱ': 'B', 'ⅲ': 'C', 'ⅳ': 'D', None: None}\n",
    "option_to_debate_mode = {'A': 'Ⅰ', 'B': 'Ⅱ', 'C': 'Ⅲ', 'D': 'Ⅳ', 'A': 'ⅰ', 'B': 'ⅱ', 'C': 'ⅲ', 'D': 'ⅳ', None: None}\n",
    "question_type_labels = ['a', 'c', 'l', 'm', 's'] if dataset == 'dream' else ['a', 'b', 'c', 'd', 'e']\n",
    "\n",
    "# if (dataset == 'dream') and (prompt_type == 'quote and question'):\n",
    "#     question_type_labels = []\n",
    "\n",
    "# Read HIT data\n",
    "hit_results = []\n",
    "num_passed_test = 0\n",
    "for hit_dir in os.listdir(task_dir):\n",
    "    if hit_dir.startswith('o_'):\n",
    "        continue\n",
    "    num_passed_test += 1\n",
    "    with open(os.path.join(task_dir, hit_dir, 'custom/data.json'), 'r') as file:\n",
    "        hit_results.append(json.load(file))\n",
    "        file.close()\n",
    "if len(os.listdir(task_dir)) != num_passed_test:\n",
    "    num_total_tested = len(os.listdir(task_dir)) - num_passed_test\n",
    "    print('Qualified:', round((100. * num_passed_test) / num_total_tested, 2), '%')"
   ]
  },
  {
   "cell_type": "code",
   "execution_count": 1449,
   "metadata": {
    "scrolled": false
   },
   "outputs": [
    {
     "name": "stdout",
     "output_type": "stream",
     "text": [
      "| Time: 497.6 | Acc: 50 | Max Freq: 40.0 | Rate: 7 | Feedback: i don't know | Quote Rating: 6 | Quote Desc: so-so\n",
      "| Time: 1074.8 | Acc: 60 | Max Freq: 35.0 | Rate: 6 | Feedback: Put more questions like maybe 30 | Quote Rating: 4 | Quote Desc: They sometimes were useful, and other times they were confusing especially when they were describing a picture or something like that because it had capital letters\n",
      "| Time: 347.3 | Acc: 60 | Max Freq: 35.0 | Rate: 8 | Feedback: nothing | Quote Rating: 6 | Quote Desc: A bit confusing and scattered.\n",
      "| Time: 694.4 | Acc: 55 | Max Freq: 35.0 | Rate: 3 | Feedback: No idea | Quote Rating: 3 | Quote Desc: Mistical\n",
      "| Time: 939.2 | Acc: 40 | Max Freq: 35.0 | Rate: 5 | Feedback: I don't know that you can. It's intentionally vague and convoluted because that's the intent of the hit.  | Quote Rating: 4 | Quote Desc: vague and convuluted\n",
      "| Time: 527.2 | Acc: 40 | Max Freq: 40.0 | Rate: 9 | Feedback: I have no suggestions, was ok for me. | Quote Rating: 7 | Quote Desc: They were an assortment of quotes that a person needed to use judgment to answer.\n",
      "| Time: 470.1 | Acc: 60 | Max Freq: 30.0 | Rate: 8 | Feedback: Make sure grammar and punctuation is correct in passage excerpts. | Quote Rating: 2 | Quote Desc: Often unrelated to the question or so out of context that the relationship is hard to determine\n",
      "| Time: 487.7 | Acc: 50 | Max Freq: 35.0 | Rate: 5 | Feedback: Better quotes. | Quote Rating: 7 | Quote Desc: Random, some fit well others were very confusing.\n",
      "| Time: 445.1 | Acc: 65 | Max Freq: 30.0 | Rate: 7 | Feedback: I can't think of any improvements. | Quote Rating: 7 | Quote Desc: Brief and consisting of about two sentences worth of details.\n",
      "| Time: 362.2 | Acc: 50 | Max Freq: 45.0 | Rate: 5 | Feedback: make the quotes clearer | Quote Rating: 6 | Quote Desc: interesting\n",
      "| Time: 497.7 | Acc: 65 | Max Freq: 30.0 | Rate: 10 | Feedback: No improvements needed | Quote Rating: 5 | Quote Desc: Some were more complete. Others were nonsensical or incomplete\n",
      "| Time: 416.8 | Acc: 45 | Max Freq: 35.0 | Rate: 5 | Feedback: Better quotes maybe | Quote Rating: 4 | Quote Desc: Many of the passage quotes were a bit vague and didn't seem to relate to the answer options.\n",
      "| Time: 224.1 | Acc: 50 | Max Freq: 35.0 | Rate: 10 | Feedback: it's fine as it is | Quote Rating: 7 | Quote Desc: random\n",
      "| Time: 303.0 | Acc: 40 | Max Freq: 35.0 | Rate: 10 | Feedback: Inform task takers of the average worker accuracy so there is a goal to work toward. | Quote Rating: 9 | Quote Desc: I would describe them as detailed enough to make an educated guess about the subject.\n",
      "| Time: 596.1 | Acc: 45 | Max Freq: 50.0 | Rate: 10 | Feedback: More questions | Quote Rating: 10 | Quote Desc: They didn't give much information.\n",
      "| Time: 489.6 | Acc: 60 | Max Freq: 40.0 | Rate: 10 | Feedback: Many of the answer choices seemed random and didn't related to the question.  | Quote Rating: 5 | Quote Desc: Very random!\n",
      "| Time: 446.2 | Acc: 55 | Max Freq: 40.0 | Rate: 2 | Feedback: Make more quotes more relevant to the question | Quote Rating: 3 | Quote Desc: Some were relevant others weren't\n",
      "| Time: 757.3 | Acc: 40 | Max Freq: 40.0 | Rate: 5 | Feedback: Maybe provide more relevant quotes? | Quote Rating: 1 | Quote Desc: A lot of them did not provide relevant information into choosing an answer.\n",
      "| Time: 395.8 | Acc: 50 | Max Freq: 35.0 | Rate: 9 | Feedback: unkown | Quote Rating: 7 | Quote Desc: some times vague \n",
      "| Time: 568.7 | Acc: 55 | Max Freq: 40.0 | Rate: 10 | Feedback: Nothing to improve | Quote Rating: 3 | Quote Desc: Confusing\n",
      "| Time: 365.6 | Acc: 45 | Max Freq: 35.0 | Rate: 5 | Feedback: Nothing | Quote Rating: 2 | Quote Desc: They were mostly unrelated.\n",
      "| Time: 502.9 | Acc: 35 | Max Freq: 50.0 | Rate: 7 | Feedback: More work put into the description  | Quote Rating: 6 | Quote Desc: Very informative, pushing you to the right answer\n",
      "| Time: 454.1 | Acc: 60 | Max Freq: 35.0 | Rate: 5 | Feedback: Have a bit more information to provide a better answer. | Quote Rating: 4 | Quote Desc: Difficult to answer and sometimes did not seem to match the questions\n",
      "| Time: 549.6 | Acc: 45 | Max Freq: 35.0 | Rate: 4 | Feedback: ask more relevant questions  | Quote Rating: 7 | Quote Desc: a lot of help\n",
      "| Time: 733.9 | Acc: 40 | Max Freq: 45.0 | Rate: 8 | Feedback: More instructions | Quote Rating: 7 | Quote Desc: Short and sweet\n",
      "| Time: 461.0 | Acc: 60 | Max Freq: 35.0 | Rate: 7 | Feedback: N/A | Quote Rating: 4 | Quote Desc: They ranged from completely nonsensical to extremely relevant to at least one of the choices.\n",
      "| Time: 349.5 | Acc: 35 | Max Freq: 40.0 | Rate: 7 | Feedback: Pay, less incomplete passages | Quote Rating: 7 | Quote Desc: Some of them were incomplete, others helped me solve \n",
      "| Time: 1087.7 | Acc: 50 | Max Freq: 45.0 | Rate: 10 | Feedback: Not sure | Quote Rating: 2 | Quote Desc: irrelevant\n",
      "| Time: 880.3 | Acc: 40 | Max Freq: 40.0 | Rate: 8 | Feedback: more kittens | Quote Rating: 2 | Quote Desc: funny\n",
      "| Time: 605.1 | Acc: 55 | Max Freq: 40.0 | Rate: 8 | Feedback: qoutes that actually help answer the questions | Quote Rating: 1 | Quote Desc: Unnatural\n",
      "| Time: 347.8 | Acc: 40 | Max Freq: 30.0 | Rate: 3 | Feedback: n/a | Quote Rating: 3 | Quote Desc: It was something vaguely related to the question\n",
      "| Time: 705.6 | Acc: 30 | Max Freq: 50.0 | Rate: 10 | Feedback: I'm not sure really. I thought it was good.  | Quote Rating: 7 | Quote Desc: It's hard to pinpoint the general theme in all of them, which makes it a good thing. It made your think. \n",
      "| Time: 860.4 | Acc: 30 | Max Freq: 30.0 | Rate: 5 | Feedback: make the questions a bit easier to understand | Quote Rating: 8 | Quote Desc: some of them were good but some were hard to understand or the answers didn't match the questions too much from what i thought\n",
      "| Time: 724.3 | Acc: 40 | Max Freq: 30.0 | Rate: 8 | Feedback: No thoughts on that thought it was clear and easy to follow. | Quote Rating: 5 | Quote Desc: Brief but there were some clues at times which helped decifer what could potentially be the right answer.\n",
      "| Time: 306.0 | Acc: 35 | Max Freq: 35.0 | Rate: 8 | Feedback: Maybe have it work on a different screen.  | Quote Rating: 7 | Quote Desc: Some really helped the question. While others seemed like they were missing some information. \n",
      "| Time: 564.1 | Acc: 50 | Max Freq: 35.0 | Rate: 4 | Feedback: make them less confusing | Quote Rating: 3 | Quote Desc: not helpful at all\n",
      "| Time: 557.3 | Acc: 50 | Max Freq: 35.0 | Rate: 5 | Feedback: make the excerpts better | Quote Rating: 1 | Quote Desc: a lot of them had nothing to do with the questions\n",
      "| Time: 639.1 | Acc: 55 | Max Freq: 30.0 | Rate: 10 | Feedback: Unsure | Quote Rating: 7 | Quote Desc: conflicting\n",
      "| Time: 709.0 | Acc: 45 | Max Freq: 35.0 | Rate: 10 | Feedback: I'd like to know how I did, possibly after each question. | Quote Rating: 6 | Quote Desc: A hint, but not necessarily very helpful. \n",
      "| Time: 624.5 | Acc: 80 | Max Freq: 35.0 | Rate: 10 | Feedback: the quote needs to have a little more information to answer some of the questions. | Quote Rating: 6 | Quote Desc: interesting\n",
      "| Time: 445.5 | Acc: 55 | Max Freq: 40.0 | Rate: 8 | Feedback: I think it's very fun and interesting! | Quote Rating: 5 | Quote Desc: a little random\n",
      "| Time: 630.9 | Acc: 35 | Max Freq: 30.0 | Rate: 10 | Feedback: improved the provided quote with more evidents | Quote Rating: 8 | Quote Desc: challenging \n",
      "| Time: 554.3 | Acc: 50 | Max Freq: 35.0 | Rate: 4 | Feedback: better information in questions | Quote Rating: 2 | Quote Desc: didnt really clarify much to help with the answer\n",
      "| Time: 699.8 | Acc: 45 | Max Freq: 55.0 | Rate: 10 | Feedback: It was fun. No need to change anything. | Quote Rating: 2 | Quote Desc: Some could be helpful but others not at all. A few passages made sense but many were of no help.\n",
      "A2HFSWF75KDWLV 3URFVVM166XEJD4IOX7SHOHM89JZUU | reject_reasons: ['median_duration = 3433'] | block_reasons: ['median_duration = 3433'] | bonus_reasons: []\n",
      "| Time: 182.3 | Acc: 40 | Max Freq: 35.0 | Rate: 10 | Feedback: n/a | Quote Rating: 7 | Quote Desc: sometimes helpful, others times not applicable \n",
      "| Time: 582.5 | Acc: 50 | Max Freq: 30.0 | Rate: 6 | Feedback: nothing come to mind | Quote Rating: 7 | Quote Desc: they ran the range from clear to confusing\n",
      "| Time: 580.2 | Acc: 50 | Max Freq: 35.0 | Rate: 5 | Feedback: Better quotes  | Quote Rating: 4 | Quote Desc: Not helpful\n",
      "| Time: 468.6 | Acc: 65 | Max Freq: 35.0 | Rate: 4 | Feedback: Add context | Quote Rating: 3 | Quote Desc: Not related always\n",
      "| Time: 616.3 | Acc: 60 | Max Freq: 35.0 | Rate: 10 | Feedback: if the passage quotes were always relevant and directly related   | Quote Rating: 5 | Quote Desc: sometimes useful, other times not very useful\n",
      "| Time: 386.5 | Acc: 40 | Max Freq: 45.0 | Rate: 10 | Feedback: It was interesting.  Reveal the real answers perhaps? | Quote Rating: 2 | Quote Desc: Randomly related to the question.\n",
      "| Time: 362.5 | Acc: 35 | Max Freq: 50.0 | Rate: 8 | Feedback: Had to reload the webpage a few times as the selection bar wasn't being shown (on Chrome) so maybe see if others are having similar technical errors? Beyond that can't see much room for improvement. | Quote Rating: 4 | Quote Desc: Sometimes they were useful and pertinent to the questions, other times I questioned the logical leap between the passage given and the question being asked (#15 especially), but the instructions did say that would be the case so can't really complain.\n",
      "| Time: 424.7 | Acc: 45 | Max Freq: 45.0 | Rate: 10 | Feedback: Nothing | Quote Rating: 3 | Quote Desc: Some were obvious, some were out in left field\n",
      "| Time: 455.6 | Acc: 45 | Max Freq: 35.0 | Rate: 5 | Feedback: the screen is blinking when it's in the mode of answering questions, so your eyes get that tired bad feeling | Quote Rating: 1 | Quote Desc: not very helpful, at times there was no informationat all\n",
      "| Time: 243.4 | Acc: 50 | Max Freq: 30.0 | Rate: 7 | Feedback: Feedback after each question (if that wouldn't disrupt your purpose) | Quote Rating: 3 | Quote Desc: Odd\n",
      "| Time: 1103.6 | Acc: 45 | Max Freq: 50.0 | Rate: 7 | Feedback: not sure | Quote Rating: 8 | Quote Desc: interesting\n",
      "| Time: 1040.5 | Acc: 50 | Max Freq: 30.0 | Rate: 9 | Feedback: I really enjoy these HITS!   | Quote Rating: 8 | Quote Desc: Some were kind of odd\n",
      "| Time: 442.6 | Acc: 50 | Max Freq: 35.0 | Rate: 9 | Feedback: it is fine | Quote Rating: 7 | Quote Desc: somewhat obscure\n",
      "| Time: 464.8 | Acc: 35 | Max Freq: 30.0 | Rate: 8 | Feedback: More information in the passages. | Quote Rating: 5 | Quote Desc: A few of them seemed incomplete and didn't provide enough information.\n",
      "| Time: 561.5 | Acc: 45 | Max Freq: 55.0 | Rate: 10 | Feedback: Not sure you can - the format is great and it's fun puzzling these out. | Quote Rating: 2 | Quote Desc: Some of them didn't seem to relate to the question at all; some were fairly specific.\n",
      "| Time: 314.3 | Acc: 40 | Max Freq: 40.0 | Rate: 6 | Feedback: I am not sure. The task appears good as is. | Quote Rating: 5 | Quote Desc: Interesting\n",
      "| Time: 1085.7 | Acc: 25 | Max Freq: 40.0 | Rate: 10 | Feedback: A hint or two would be nice | Quote Rating: 7 | Quote Desc: They were interesting and made me think a bit longer before i can make my best guess\n",
      "| Time: 219.7 | Acc: 45 | Max Freq: 35.0 | Rate: 6 | Feedback: good task | Quote Rating: 6 | Quote Desc: different topics\n",
      "| Time: 473.1 | Acc: 35 | Max Freq: 30.0 | Rate: 8 | Feedback: Do nothing.  The task works very well in its current state. | Quote Rating: 7 | Quote Desc: Sometimes lacking in specific needed details.\n",
      "| Time: 436.1 | Acc: 65 | Max Freq: 30.0 | Rate: 10 | Feedback: Nothing I can think of. | Quote Rating: 4 | Quote Desc: They somehow made just enough sense but also no sense at all at the same time.\n",
      "| Time: 542.5 | Acc: 45 | Max Freq: 35.0 | Rate: 4 | Feedback: make the passages longer and with more context | Quote Rating: 5 | Quote Desc: very unrelated to the questions. Extremely difficult to make a guess\n",
      "| Time: 383.8 | Acc: 40 | Max Freq: 30.0 | Rate: 8 | Feedback: Add more information to the short quotes, and for some questions make it more relevant to the question. | Quote Rating: 7 | Quote Desc: Usually relevant or helpful, mostly short rather than dense. Most of the time the brief information it provided could help me decide on an answer.\n",
      "| Time: 477.8 | Acc: 65 | Max Freq: 30.0 | Rate: 3 | Feedback: Dunno | Quote Rating: 3 | Quote Desc: Mostly irrelevant\n",
      "| Time: 420.5 | Acc: 40 | Max Freq: 35.0 | Rate: 3 | Feedback: Provide more context so that we could get a higher percentage correct. | Quote Rating: 4 | Quote Desc: Some were helpful, and others were meaningless in the information that was provided.\n",
      "| Time: 845.6 | Acc: 60 | Max Freq: 45.0 | Rate: 7 | Feedback: Make the answers decipherable with the information given in the questions.  | Quote Rating: 5 | Quote Desc: Some of them had nothing to do with the question while others gave answers that you couldn't really decipher because of the lack of information in the question. \n",
      "| Time: 455.5 | Acc: 35 | Max Freq: 35.0 | Rate: 9 | Feedback: It's good! | Quote Rating: 4 | Quote Desc: Useful but still difficult to answer. I would have been completely lost without them.\n",
      "| Time: 539.5 | Acc: 55 | Max Freq: 30.0 | Rate: 8 | Feedback: It was fairly easy and straightforward. Leave it as is, please. | Quote Rating: 5 | Quote Desc: Some had nothing to do with the question asked so they were useless.\n",
      "| Time: 349.1 | Acc: 55 | Max Freq: 35.0 | Rate: 10 | Feedback: Nothing, it was enjoyable. | Quote Rating: 5 | Quote Desc: They were very basic with setting up the scene.\n",
      "| Time: 700.7 | Acc: 60 | Max Freq: 35.0 | Rate: 10 | Feedback: Expand the choices | Quote Rating: 7 | Quote Desc: A little ambiguous \n",
      "| Time: 456.0 | Acc: 45 | Max Freq: 45.0 | Rate: 5 | Feedback: i think the pay is a bit low or im a bit slow | Quote Rating: 7 | Quote Desc: some were helpful and some were pretty odd and of no use \n",
      "| Time: 560.6 | Acc: 70 | Max Freq: 45.0 | Rate: 8 | Feedback: more questions for more money | Quote Rating: 7 | Quote Desc: interesting\n",
      "| Time: 509.3 | Acc: 50 | Max Freq: 35.0 | Rate: 9 | Feedback: its fine as is | Quote Rating: 8 | Quote Desc: sometimes relevant\n",
      "| Time: 1062.4 | Acc: 50 | Max Freq: 40.0 | Rate: 8 | Feedback: Good as it is | Quote Rating: 6 | Quote Desc: Vague and clandestine\n",
      "| Time: 581.6 | Acc: 50 | Max Freq: 30.0 | Rate: 6 | Feedback: maybe add more random questions? | Quote Rating: 7 | Quote Desc: vague\n",
      "| Time: 254.4 | Acc: 55 | Max Freq: 35.0 | Rate: 8 | Feedback: I dont have any suggestions | Quote Rating: 2 | Quote Desc: confusing\n",
      "| Time: 1026.6 | Acc: 50 | Max Freq: 30.0 | Rate: 5 | Feedback: add more detail to the questions | Quote Rating: 5 | Quote Desc: insufficient information\n",
      "| Time: 215.0 | Acc: 30 | Max Freq: 40.0 | Rate: 10 | Feedback: Make sense | Quote Rating: 0 | Quote Desc: Confusing\n",
      "| Time: 297.8 | Acc: 40 | Max Freq: 40.0 | Rate: 9 | Feedback: n/a | Quote Rating: 2 | Quote Desc: very odd in most cases - and not helpful to answering the questions\n",
      "| Time: 308.2 | Acc: 40 | Max Freq: 35.0 | Rate: 10 | Feedback: It was perfect | Quote Rating: 8 | Quote Desc: Pretty ambiguous\n",
      "| Time: 438.5 | Acc: 40 | Max Freq: 35.0 | Rate: 2 | Feedback: It doesn't make sense. There is not nearly enough information in the passages to make determinations about the questions actually asked.  | Quote Rating: 3 | Quote Desc: Very unconnected in most cases to the questions\n",
      "| Time: 524.7 | Acc: 35 | Max Freq: 35.0 | Rate: 10 | Feedback: Not sure | Quote Rating: 4 | Quote Desc: Factoids\n",
      "| Time: 205.8 | Acc: 65 | Max Freq: 35.0 | Rate: 10 | Feedback: I don't think the task needs any improvement. | Quote Rating: 4 | Quote Desc: Brief snippets of information \n",
      "| Time: 477.5 | Acc: 65 | Max Freq: 40.0 | Rate: 7 | Feedback: The box at the bottom with the drop-down answer menu vibrates and it's kind of distracting. | Quote Rating: 3 | Quote Desc: Problematically short and often unrelated to the answer choices. The longer ones tended to be a lot better.\n",
      "| Time: 719.5 | Acc: 50 | Max Freq: 30.0 | Rate: 7 | Feedback: I think it does what its intended to do well | Quote Rating: 4 | Quote Desc: Purposely confusing\n",
      "| Time: 426.2 | Acc: 45 | Max Freq: 45.0 | Rate: 10 | Feedback: Can't it's all good ! | Quote Rating: 5 | Quote Desc: some are silly, some are straight and easy to understand.\n",
      "| Time: 492.4 | Acc: 50 | Max Freq: 35.0 | Rate: 5 | Feedback: less vague passages | Quote Rating: 0 | Quote Desc: extremely vague and short\n",
      "| Time: 1022.4 | Acc: 35 | Max Freq: 35.0 | Rate: 4 | Feedback: It can be improved if you provide more information on the passages. | Quote Rating: 6 | Quote Desc: They were vague and incomplete.\n",
      "| Time: 392.0 | Acc: 60 | Max Freq: 35.0 | Rate: 8 | Feedback: I just wish I could do better! | Quote Rating: 5 | Quote Desc: Some were quite ambiguous, a few were very specific.\n",
      "| Time: 539.6 | Acc: 65 | Max Freq: 40.0 | Rate: 8 | Feedback: The interface was a bit clunky but I enjoyed this task! | Quote Rating: 7 | Quote Desc: Some barely alluded to any answer I could think of, while others were fairly self evident.\n",
      "| Time: 542.6 | Acc: 75 | Max Freq: 30.0 | Rate: 10 | Feedback: The task was easy enough.  The only issue was that the examples didn't match the actual questions.   | Quote Rating: 2 | Quote Desc: The passages were vague, often too vague to answer the questions.  They were completely unlike the examples.\n",
      "| Time: 447.2 | Acc: 65 | Max Freq: 40.0 | Rate: 9 | Feedback: I can't think of anything to change on it. | Quote Rating: 4 | Quote Desc: Most of them made sense; it was a little difficult discerning the answer, though.\n",
      "| Time: 451.0 | Acc: 50 | Max Freq: 35.0 | Rate: 8 | Feedback: I don't know | Quote Rating: 6 | Quote Desc: Disconnected\n",
      "| Time: 584.5 | Acc: 50 | Max Freq: 45.0 | Rate: 8 | Feedback: Put some kind of hidden hint in the passage quote to answer the question correctly | Quote Rating: 3 | Quote Desc: Very short and sometimes no hint to answering the question\n",
      "| Time: 627.0 | Acc: 50 | Max Freq: 40.0 | Rate: 8 | Feedback: Maybe you can add in a short audio clip of the passage instead which might make it more interesting. | Quote Rating: 9 | Quote Desc: They were quite interesting but some of them were unrelated to the question.\n",
      "| Time: 583.1 | Acc: 35 | Max Freq: 35.0 | Rate: 8 | Feedback: Make the quotes more clear and check grammar. | Quote Rating: 4 | Quote Desc: I think the quotes were confusing sometimes.\n",
      "| Time: 369.3 | Acc: 60 | Max Freq: 35.0 | Rate: 8 | Feedback: N/A | Quote Rating: 5 | Quote Desc: They were hard to figure out. \n",
      "| Time: 347.2 | Acc: 60 | Max Freq: 35.0 | Rate: 9 | Feedback: I think it was a great task | Quote Rating: 6 | Quote Desc: Some were helpful, some were completely unhelpful and some had no context at all. \n",
      "| Time: 1811.7 | Acc: 45 | Max Freq: 50.0 | Rate: 9 | Feedback: Make it more concise. | Quote Rating: 8 | Quote Desc: Informative.\n",
      "| Time: 490.8 | Acc: 60 | Max Freq: 50.0 | Rate: 8 | Feedback: make your interface better | Quote Rating: 4 | Quote Desc: irrelevant to answers\n",
      "| Time: 474.5 | Acc: 30 | Max Freq: 35.0 | Rate: 9 | Feedback: Make the question be more logical? Though I think thats the people  | Quote Rating: D | Quote Desc: Confusing and random\n",
      "| Time: 354.5 | Acc: 55 | Max Freq: 30.0 | Rate: 7 | Feedback: none | Quote Rating: 1 | Quote Desc: confusing and vague\n",
      "| Time: 437.9 | Acc: 55 | Max Freq: 35.0 | Rate: 10 | Feedback: try to give us a better idea of the purpose of this experiment | Quote Rating: 7 | Quote Desc: a little confusing but able to be parsed out with enough thought\n",
      "| Time: 362.4 | Acc: 35 | Max Freq: 45.0 | Rate: 9 | Feedback: I have no suggestions.  | Quote Rating: 4 | Quote Desc: Some were straightforward, some were hard to understand without context. \n",
      "| Time: 999.0 | Acc: 50 | Max Freq: 40.0 | Rate: 5 | Feedback: Refine the questions better. | Quote Rating: 6 | Quote Desc: At times they left you guessing.\n",
      "| Time: 852.9 | Acc: 65 | Max Freq: 35.0 | Rate: 10 | Feedback: Could you explain exactly what you are trying to do. I think it is AI related, but I'm not sure. | Quote Rating: 9 | Quote Desc: They were interesting and for the most part helpful.\n",
      "REJECTED: 1\n",
      "INCOMPLETE: 4\n",
      "VALID: 109\n",
      "Median Question Duration: 21.7855\n",
      "Mean Question Duration: 23.541893922018346\n",
      "Min/Median/Mean/Max Worker Duration: 3.04 / 8.18 / 9.22 / 30.19\n",
      "Min/Median/Mean/Max Good Worker Durations: 3.43 / 7.96 / 8.54 / 17.91\n",
      "Median Worker Accuracy: 0.5\n",
      "Median Max Response Freq: 0.35\n",
      "Quote Rating: | Mean: 4.93 | Median: 5.0 | Std: 2.22\n",
      "debate_mode_counts: {'Ⅰ': 545, 'Ⅱ': 541, 'Ⅲ': 546, 'Ⅳ': 548, 'ⅰ': 0, 'ⅱ': 0, 'ⅲ': 0, 'ⅳ': 0, None: 0}\n"
     ]
    }
   ],
   "source": [
    "num_valid_hits, num_rejected_hits, num_incomplete_hits = 0, 0, 0\n",
    "metrics = {}\n",
    "task_ratings = {i: 0 for i in range(11)}\n",
    "quote_ratings = []\n",
    "durations = []\n",
    "worker_durations = []\n",
    "accuracy_by_worker = {}\n",
    "max_response_freqs = []\n",
    "worker_ids = []\n",
    "hits_by_qid = {}\n",
    "debate_mode_counts = {debate_mode: 0 for debate_mode in debate_mode_to_option.keys()}\n",
    "\n",
    "for hit_result in hit_results:\n",
    "    if ((len(hit_result['reject_reasons']) > 0) or\n",
    "        (len(hit_result['block_reasons']) > 0)):\n",
    "        num_rejected_hits += 1\n",
    "        print(hit_result['worker_id'], hit_result['assignment_id'],\n",
    "              '| reject_reasons:', hit_result['reject_reasons'],\n",
    "              '| block_reasons:', hit_result['block_reasons'],\n",
    "              '| bonus_reasons: ' + str(hit_result['bonus_reasons']) if 'bonus_reasons' in hit_result else '')\n",
    "    elif hit_result['feedback'] is None:\n",
    "        num_incomplete_hits += 1\n",
    "        continue\n",
    "    \n",
    "    worker_ids.append(hit_result['worker_id'])\n",
    "    num_valid_hits += 1\n",
    "    if (hit_result['task_rating'] is not None) and (hit_result['task_rating'].isdigit()):\n",
    "        task_ratings[int(hit_result['task_rating'])] += 1\n",
    "    if (hit_result.get('quote_rating') is not None) and (hit_result['quote_rating'].isdigit()):\n",
    "        quote_ratings.append(int(hit_result['quote_rating']))\n",
    "    for qtype, qtype_accuracy in hit_result['accuracy'].items():\n",
    "        accuracy_by_worker[qtype] = accuracy_by_worker.get(qtype, []) + [qtype_accuracy]\n",
    "    \n",
    "    hit_durations = []\n",
    "    response_option_counts = {option: 0 for option in options}\n",
    "    responses = []\n",
    "    for prompt in hit_result['data']:\n",
    "        qid = prompt['sample']['qid']\n",
    "        if (split is not None) and (split not in qid):\n",
    "            continue\n",
    "        hits_by_qid[qid] = hits_by_qid.get(qid, [])\n",
    "        hits_by_qid[qid].append(prompt)\n",
    "        debate_mode_counts[prompt['sample']['debate_mode']] += 1\n",
    "        stance = debate_mode_to_option[prompt['sample']['debate_mode']]\n",
    "        answer = prompt['sample']['eval_labels'][0]\n",
    "        human_correct = (prompt['response'] == answer)\n",
    "        assert answer in options, 'Answer must be in options.'\n",
    "        \n",
    "        # Calculate metrics\n",
    "        if qid not in metrics:\n",
    "            metrics[qid] = {\n",
    "                option: {\n",
    "                    'num': 0,\n",
    "                    'num_correct': 0,\n",
    "                    'num_correct_debate_mode': 0,\n",
    "                    'num_incorrect_debate_mode': 0,\n",
    "                    'num_correct_with_correct_debate_mode': 0,\n",
    "                    'num_correct_with_incorrect_debate_mode': 0,\n",
    "                    'num_debate_mode_responses': 0,\n",
    "                    'is_debate_mode_response': []\n",
    "                }\n",
    "                for option in ([None] if stance is None else options)\n",
    "            }\n",
    "#             for qtype in question_type_labels:\n",
    "#                 metrics[qid][qtype] = {\n",
    "#                     'num': 0,\n",
    "#                     'num_correct': 0,\n",
    "#                 }\n",
    "            metrics[qid]['answer'] = answer\n",
    "        metrics[qid]['qtype'] = metrics[qid].get('qtype', set([]))\n",
    "        for qtype in set(''.join(prompt['sample'].get('question_type_labels', []))):\n",
    "            qtype = qtype.lower()\n",
    "            metrics[qid]['qtype'].add(qtype)\n",
    "#             if qtype not in metrics[qid]:\n",
    "#                 print('Did you set `dataset` appropriately?')\n",
    "#             metrics[qid][qtype]['num'] += 1\n",
    "#             metrics[qid][qtype]['num_correct'] += human_correct\n",
    "        prompt_metrics = metrics[qid][stance]\n",
    "        prompt_metrics['num'] += 1\n",
    "        prompt_metrics['num_correct'] += human_correct\n",
    "        if stance == answer:\n",
    "            prompt_metrics['num_correct_with_correct_debate_mode'] += human_correct\n",
    "            prompt_metrics['num_correct_debate_mode'] += 1\n",
    "        else:\n",
    "            prompt_metrics['num_correct_with_incorrect_debate_mode'] += human_correct\n",
    "            prompt_metrics['num_incorrect_debate_mode'] += 1\n",
    "        prompt_metrics['num_debate_mode_responses'] += (prompt['response'] == stance)\n",
    "        prompt_metrics['is_debate_mode_response'].append(prompt['response'] == stance)\n",
    "        \n",
    "        hit_durations.append(prompt['duration'] / 1000.)\n",
    "        response_option_counts[prompt['response']] += 1\n",
    "        responses.append(prompt['response'])\n",
    "    duration = np.sum(np.array(hit_durations))\n",
    "    worker_durations.append(duration)\n",
    "    durations += hit_durations\n",
    "    response_options_array = np.array(list(response_option_counts.values()))\n",
    "    response_options_array = response_options_array / response_options_array.sum()\n",
    "    max_response_freq = response_options_array.max()\n",
    "    max_response_freqs.append(max_response_freq)\n",
    "    acc = round(100 * hit_result['accuracy'][prompt_type])\n",
    "    print('| Time:', round(duration, 1),\n",
    "          '| Acc:', acc,\n",
    "          '| Max Freq:', round(100 * max_response_freq, 1),\n",
    "          '| Rate:', hit_result['task_rating'],\n",
    "          '| Feedback:', hit_result['feedback'],\n",
    "          '| Quote Rating:', None if 'quote_rating' not in hit_result else hit_result['quote_rating'], \n",
    "          '| Quote Desc:', None if 'quote_description' not in hit_result else hit_result['quote_description'])\n",
    "\n",
    "debate_modes_used = list(filter(lambda x: debate_mode_counts[x] > 0, debate_mode_counts.keys()))\n",
    "debate_modes_used.sort()\n",
    "\n",
    "good_worker_durations = []\n",
    "assert len(worker_durations) == len(accuracy_by_worker[prompt_type])\n",
    "for worker_duration, worker_accuracy in zip(worker_durations, accuracy_by_worker[prompt_type]):\n",
    "    if worker_accuracy > np.median(np.array(accuracy_by_worker[prompt_type])):\n",
    "        good_worker_durations.append(worker_duration)\n",
    "\n",
    "quote_ratings = np.array(quote_ratings)\n",
    "durations = np.array(durations)\n",
    "worker_durations = np.array(worker_durations)\n",
    "good_worker_durations = np.array(good_worker_durations)\n",
    "max_response_freqs = np.array(max_response_freqs)\n",
    "\n",
    "quote_ratings.sort()\n",
    "durations.sort()\n",
    "worker_durations.sort()\n",
    "good_worker_durations.sort()\n",
    "max_response_freqs.sort()\n",
    "\n",
    "for qtype in accuracy_by_worker:\n",
    "    accuracy_by_worker[qtype] = np.array(accuracy_by_worker[qtype])\n",
    "    accuracy_by_worker[qtype].sort()\n",
    "print('REJECTED:', num_rejected_hits)\n",
    "print('INCOMPLETE:', num_incomplete_hits)\n",
    "print('VALID:', num_valid_hits)\n",
    "print('Median Question Duration:', np.median(durations))\n",
    "print('Mean Question Duration:', np.mean(durations[int(durations.shape[0] / 10.):int(9. * durations.shape[0] / 10.)]))\n",
    "print('Min/Median/Mean/Max Worker Duration:',\n",
    "      round(np.min(worker_durations / 60.), 2), '/',\n",
    "      round(np.median(worker_durations / 60.), 2), '/',\n",
    "      round(np.mean(worker_durations / 60.), 2), '/',\n",
    "      round(np.max(worker_durations / 60.), 2))\n",
    "print('Min/Median/Mean/Max Good Worker Durations:',\n",
    "      round(np.min(good_worker_durations / 60.), 2), '/',\n",
    "      round(np.median(good_worker_durations / 60.), 2),'/',\n",
    "      round(np.mean(good_worker_durations / 60.), 2), '/',\n",
    "      round(np.max(good_worker_durations / 60.), 2))\n",
    "print('Median Worker Accuracy:', np.median(accuracy_by_worker[prompt_type]))\n",
    "print('Median Max Response Freq:', np.median(max_response_freqs))\n",
    "print('Quote Rating:',\n",
    "      '| Mean:', round(quote_ratings.mean(), 2),\n",
    "      '| Median:', round(np.median(quote_ratings), 2),\n",
    "      '| Std:', round(np.std(quote_ratings), 2))\n",
    "# pprint(hit_results[0]['data'][0])\n",
    "# pprint(hit_results[0])\n",
    "print('debate_mode_counts:', debate_mode_counts)\n",
    "\n",
    "qids = list(metrics.keys())\n",
    "qids.sort()"
   ]
  },
  {
   "cell_type": "code",
   "execution_count": 1450,
   "metadata": {},
   "outputs": [
    {
     "name": "stdout",
     "output_type": "stream",
     "text": [
      "NPS, Mean: (9.17, 7.54)\n"
     ]
    }
   ],
   "source": [
    "def nps(task_ratings):\n",
    "    num_ratings = sum(list(task_ratings.values()))\n",
    "    if num_ratings == 0:\n",
    "        return None\n",
    "\n",
    "    nps_sum_ratings = 0\n",
    "    sum_ratings = 0\n",
    "    for score, num_raters in task_ratings.items():\n",
    "        sum_ratings += num_raters * score\n",
    "        if score >= 9:\n",
    "            nps_sum_ratings += num_raters\n",
    "        elif score <= 6:\n",
    "            nps_sum_ratings -= num_raters\n",
    "    return round(100 * (nps_sum_ratings / float(num_ratings)), 2), round((sum_ratings / float(num_ratings)), 2)\n",
    "\n",
    "print('NPS, Mean:', nps(task_ratings))"
   ]
  },
  {
   "cell_type": "code",
   "execution_count": 1451,
   "metadata": {},
   "outputs": [],
   "source": [
    "debate_logs_dir = '/Users/ethanperez/research/allennlp/eval/race/cross_ranker.large.best_epoch/test/'\n",
    "\n",
    "debate_logs = []\n",
    "for debate_mode in debate_modes_used:\n",
    "    debate_log_filename = os.path.join(debate_logs_dir, debate_mode + '.json')\n",
    "    with open(debate_log_filename, 'r') as f:\n",
    "        debate_logs.append({k: v for k, v in json.load(f).items() if k in qids})\n",
    "#         debate_logs.append({k.replace('dev/', 'test/'): v for k, v in json.load(f).items() if k.replace('dev/', 'test/') in qids})"
   ]
  },
  {
   "cell_type": "code",
   "execution_count": 1452,
   "metadata": {},
   "outputs": [
    {
     "data": {
      "text/plain": [
       "dict_keys(['test/high/7560.txt/4', 'test/high/7560.txt/1', 'test/middle/3481.txt/2', 'test/middle/3481.txt/1', 'test/high/7560.txt/2', 'test/middle/7476.txt/2', 'test/high/7560.txt/0', 'test/high/7560.txt/3', 'test/middle/118.txt/2', 'test/middle/7476.txt/3', 'test/middle/7476.txt/1', 'test/middle/3481.txt/3', 'test/middle/118.txt/3', 'test/middle/118.txt/4', 'test/middle/3481.txt/4', 'test/middle/118.txt/0', 'test/middle/3481.txt/0', 'test/middle/7476.txt/0', 'test/middle/7476.txt/4', 'test/middle/118.txt/1', 'test/high/16196.txt/3', 'test/high/16196.txt/1', 'test/middle/8101.txt/4', 'test/high/16196.txt/0', 'test/middle/4590.txt/0', 'test/middle/4590.txt/2', 'test/high/9216.txt/0', 'test/high/16196.txt/2', 'test/high/9216.txt/3', 'test/middle/8101.txt/1', 'test/middle/8101.txt/3', 'test/high/16196.txt/4', 'test/high/17032.txt/0', 'test/middle/4590.txt/3', 'test/middle/4590.txt/4', 'test/high/21191.txt/3', 'test/middle/1193.txt/2', 'test/middle/1193.txt/4', 'test/high/21191.txt/2', 'test/high/9216.txt/2', 'test/high/17032.txt/3', 'test/middle/8101.txt/2', 'test/high/17032.txt/2', 'test/middle/4590.txt/1', 'test/middle/1193.txt/1', 'test/middle/8101.txt/0', 'test/middle/1193.txt/3', 'test/high/17032.txt/1', 'test/middle/1193.txt/0', 'test/high/17032.txt/4', 'test/high/9216.txt/1', 'test/high/21191.txt/0', 'test/high/9216.txt/4', 'test/high/21191.txt/4', 'test/high/21191.txt/1', 'test/high/80.txt/1', 'test/high/80.txt/3', 'test/high/18692.txt/3', 'test/high/80.txt/0', 'test/high/18692.txt/1', 'test/high/80.txt/2', 'test/high/4008.txt/4', 'test/high/2839.txt/2', 'test/high/18692.txt/4', 'test/high/4008.txt/0', 'test/high/2839.txt/0', 'test/high/2839.txt/3', 'test/high/5843.txt/0', 'test/high/2839.txt/1', 'test/high/18692.txt/2', 'test/high/18692.txt/0', 'test/high/80.txt/4', 'test/high/1295.txt/3', 'test/high/5843.txt/1', 'test/high/5843.txt/2', 'test/high/4008.txt/2', 'test/high/1295.txt/1', 'test/high/23858.txt/0', 'test/high/1295.txt/2', 'test/high/1295.txt/0', 'test/high/4008.txt/3', 'test/high/23858.txt/1', 'test/high/23858.txt/4', 'test/high/5843.txt/4', 'test/high/23858.txt/3', 'test/high/2839.txt/4', 'test/high/5843.txt/3', 'test/high/4008.txt/1', 'test/high/23858.txt/2', 'test/high/1295.txt/4', 'test/high/15438.txt/4', 'test/high/15438.txt/2', 'test/high/22624.txt/2', 'test/high/22624.txt/0', 'test/high/15438.txt/1', 'test/high/22624.txt/3', 'test/high/15438.txt/3', 'test/high/22624.txt/4', 'test/high/22624.txt/1', 'test/high/15438.txt/0'])"
      ]
     },
     "execution_count": 1452,
     "metadata": {},
     "output_type": "execute_result"
    }
   ],
   "source": [
    "debate_logs[0].keys()"
   ]
  },
  {
   "cell_type": "code",
   "execution_count": 1453,
   "metadata": {
    "scrolled": false
   },
   "outputs": [
    {
     "name": "stdout",
     "output_type": "stream",
     "text": [
      "{'a': (0.49494047619047626, 96),\n",
      " 'b': (0.512016369047619, 128),\n",
      " 'c': (0.5087081128747796, 216),\n",
      " 'd': (0.4894654088050314, 212),\n",
      " 'e': (0.45223214285714286, 64)}\n",
      "[5 5 5 5 5 5 5 5 5 5 5 5 5 5 5 5 5 5 5 5 5 5 5 5 5 5 5 5 5 5 5 5 5 5 5 5 5\n",
      " 5 5 5 5 5 5 5 5 5 5 5 5 5 5 5 5 5 5 5 5 5 5 5 5 5 5 5 5 5 5 5 5 5 5 5 5 5\n",
      " 5 5 5 5 5 5 5 5 5 5 5 5 5 5 5 5 5 5 5 5 5 5 5 5 5 5 5 5 5 5 5 5 5 5 5 5 5\n",
      " 5 5 5 5 5 5 5 5 5 5 5 5 5 5 5 5 5 5 5 5 5 5 5 5 5 5 5 5 5 5 5 5 5 5 5 5 5\n",
      " 5 5 5 5 5 5 5 5 5 5 5 5 5 5 5 5 5 5 5 5 5 5 5 5 5 5 5 5 5 5 5 5 5 5 5 5 5\n",
      " 5 5 5 5 5 5 5 5 5 5 5 5 5 5 5 5 5 5 5 5 5 5 5 5 5 5 5 5 5 5 5 5 5 5 5 5 5\n",
      " 5 5 5 5 5 5 5 5 5 5 5 5 5 5 5 5 5 5 6 6 6 6 6 6 6 6 6 6 6 6 6 6 6 6 6 6 6\n",
      " 6 6 6 6 6 6 6 6 6 6 6 6 6 6 6 6 6 6 6 6 6 6 6 6 6 6 6 6 6 6 6 6 6 6 6 6 6\n",
      " 6 6 6 6 6 6 6 6 6 6 6 6 6 6 6 6 6 6 6 6 6 6 6 6 6 6 6 6 6 6 6 6 6 6 6 6 6\n",
      " 6 6 6 6 6 6 6 6 6 6 6 6 6 6 6 6 6 6 6 6 6 6 6 6 6 6 6 6 6 6 6 6 6 6 6 6 6\n",
      " 6 6 6 6 6 6 6 6 6 6 7 7 7 7 7 7 7 7 7 7 7 7 7 7 7 7 7 7 7 7]\n",
      "Evals per sample: 5.45\n",
      "Fraction insuffient evals: 0.0\n",
      "Convinced: 40.13 % ( 40.13214285714285 )\n",
      "- Agent is right: 70.96 % ( 70.96190476190476 )\n",
      "- Agent is wrong: 29.86 % ( 29.85555555555555 )\n",
      "24\n",
      "32\n",
      "54\n",
      "53\n",
      "16\n",
      "Accuracy: 49.38 %\n",
      "Accuracy: 49.375 %\n"
     ]
    }
   ],
   "source": [
    "accuracy_by_qtype = {qtype: [] for qtype in question_type_labels}\n",
    "accuracy_by_sample = []\n",
    "accuracy_by_sample_correct_debate_mode = []\n",
    "accuracy_by_sample_incorrect_debate_mode = []\n",
    "convinced_by_qtype = {qtype: [] for qtype in question_type_labels}\n",
    "convinced_freqs = []\n",
    "convinced_freqs_with_correct_debate_mode = []\n",
    "convinced_freqs_with_incorrect_debate_mode = []\n",
    "convinced_freqs_by_qtype = {qtype: [] for qtype in question_type_labels}\n",
    "convinced_freqs_with_correct_debate_mode_by_qtype = {qtype: [] for qtype in question_type_labels}\n",
    "convinced_freqs_with_incorrect_debate_mode_by_qtype = {qtype: [] for qtype in question_type_labels}\n",
    "num_evals_by_sample = []\n",
    "convinced_by_sample = []\n",
    "# qtypes = []\n",
    "# qtypes_with_correct_debate_mode = []\n",
    "# qtypes_with_incorrect_debate_mode = []\n",
    "stance_prob_to_convinced_freqs = {}\n",
    "bucket_size = .125\n",
    "\n",
    "for qid in qids:\n",
    "    qid_metrics = metrics[qid]\n",
    "    answer = qid_metrics['answer']\n",
    "    for qid_metric_key, prompt in qid_metrics.items():\n",
    "        if qid_metric_key in question_type_labels:\n",
    "#             qtype = qid_metric_key\n",
    "#             if qid_metrics[qtype]['num'] > 0:\n",
    "#                 accuracy_by_qtype[qtype].append(qid_metrics[qtype]['num_correct'] / qid_metrics[qtype]['num'])\n",
    "#                 convinced_by_qtype[qtype].append(qid_metrics[qtype][])\n",
    "            continue\n",
    "        if not (qid_metric_key in [None] + options):\n",
    "            continue\n",
    "        stance = qid_metric_key\n",
    "\n",
    "        # Q-only stats\n",
    "        prompt_metrics = qid_metrics[stance]\n",
    "        num_evals_by_sample.append(prompt_metrics['num'])\n",
    "        convinced_by_sample.append(prompt_metrics['is_debate_mode_response'])\n",
    "        accuracy_by_sample.append(prompt_metrics['num_correct'] / prompt_metrics['num'])\n",
    "        for qtype in qid_metrics['qtype']:\n",
    "            accuracy_by_qtype[qtype].append(prompt_metrics['num_correct'] / prompt_metrics['num'])\n",
    "        if stance is None:\n",
    "            continue\n",
    "        \n",
    "        # Debater stats\n",
    "#         if 'num_debate_mode_responses' not in prompt_metrics:\n",
    "#             print(qid_metric_key, prompt_metrics)\n",
    "        convinced_freq = prompt_metrics['num_debate_mode_responses'] / prompt_metrics['num']\n",
    "        if stance == answer:\n",
    "            convinced_freqs_with_correct_debate_mode.append(convinced_freq)\n",
    "            for qtype in qid_metrics['qtype']:\n",
    "                convinced_freqs_with_correct_debate_mode_by_qtype[qtype].append(convinced_freq)\n",
    "#             qtypes_with_correct_debate_mode.append(qid_metrics['qtype'])\n",
    "            accuracy_by_sample_correct_debate_mode.append(\n",
    "                prompt_metrics['num_correct_with_correct_debate_mode'] /\n",
    "                prompt_metrics['num_correct_debate_mode'])\n",
    "        else:\n",
    "            convinced_freqs_with_incorrect_debate_mode.append(convinced_freq)\n",
    "            for qtype in qid_metrics['qtype']:\n",
    "                convinced_freqs_with_incorrect_debate_mode_by_qtype[qtype].append(convinced_freq)\n",
    "#             qtypes_with_incorrect_debate_mode.append(qid_metrics['qtype'])\n",
    "            accuracy_by_sample_incorrect_debate_mode.append(\n",
    "                prompt_metrics['num_correct_with_incorrect_debate_mode'] /\n",
    "                prompt_metrics['num_incorrect_debate_mode'])\n",
    "        convinced_freqs.append(convinced_freq)\n",
    "        for qtype in qid_metrics['qtype']:\n",
    "            convinced_freqs_by_qtype[qtype].append(convinced_freq)\n",
    "#         qtypes.append(qid_metrics['qtype'])\n",
    "#         stance_prob = debate_logs[options.index(stance)][qid]['prob_dist'][0][options.index(stance)]\n",
    "        stance_prob = debate_logs[options.index(stance)][qid]['prob']\n",
    "        stance_prob_bucket = min(stance_prob // bucket_size, (1. / bucket_size) - 1)\n",
    "        \n",
    "        stance_prob_to_convinced_freqs[stance_prob_bucket] = stance_prob_to_convinced_freqs.get(stance_prob_bucket, [])\n",
    "        stance_prob_to_convinced_freqs[stance_prob_bucket].append(convinced_freq)\n",
    "#         print(qid, stance, stance_prob, convinced_freq)\n",
    "\n",
    "# qtypes = np.array(qtypes)\n",
    "# qtypes_with_correct_debate_mode = np.array(qtypes_with_correct_debate_mode)\n",
    "# qtypes_with_incorrect_debate_mode = np.array(qtypes_with_incorrect_debate_mode)\n",
    "\n",
    "# print(accuracy_by_qtype)\n",
    "accuracy_by_qtype = {qtype: (np.array(accuracy_by_qtype[qtype]).mean(), len(accuracy_by_qtype[qtype])) for qtype in question_type_labels}\n",
    "pprint(accuracy_by_qtype)\n",
    "\n",
    "num_evals_by_sample = np.array(num_evals_by_sample)\n",
    "num_evals_by_sample.sort()\n",
    "print(num_evals_by_sample)\n",
    "print('Evals per sample:', num_evals_by_sample.mean())\n",
    "print('Fraction insuffient evals:', (num_evals_by_sample < 5).mean())\n",
    "\n",
    "convinced_freqs = np.array(convinced_freqs)\n",
    "print('Convinced:', round(100 * convinced_freqs.mean(), 2), '% (', 100 * convinced_freqs.mean(), ')')\n",
    "convinced_freqs_with_correct_debate_mode = np.array(convinced_freqs_with_correct_debate_mode)\n",
    "print('- Agent is right:', round(100 * convinced_freqs_with_correct_debate_mode.mean(), 2), '% (', 100 * convinced_freqs_with_correct_debate_mode.mean(), ')')\n",
    "convinced_freqs_with_incorrect_debate_mode = np.array(convinced_freqs_with_incorrect_debate_mode)\n",
    "print('- Agent is wrong:', round(100 * convinced_freqs_with_incorrect_debate_mode.mean(), 2), '% (', 100 * convinced_freqs_with_incorrect_debate_mode.mean(), ')')\n",
    "\n",
    "for qtype in question_type_labels:\n",
    "#     print(len(convinced_freqs_by_qtype[qtype]))\n",
    "    convinced_freqs_by_qtype[qtype] = np.array(convinced_freqs_by_qtype[qtype]).mean()\n",
    "    print(len(convinced_freqs_with_correct_debate_mode_by_qtype[qtype]))\n",
    "    convinced_freqs_with_correct_debate_mode_by_qtype[qtype] = np.array(convinced_freqs_with_correct_debate_mode_by_qtype[qtype]).mean()\n",
    "#     print(len(convinced_freqs_with_incorrect_debate_mode_by_qtype[qtype]))\n",
    "    convinced_freqs_with_incorrect_debate_mode_by_qtype[qtype] = np.array(convinced_freqs_with_incorrect_debate_mode_by_qtype[qtype]).mean()\n",
    "\n",
    "accuracy_by_sample = np.array(accuracy_by_sample)\n",
    "print('Accuracy:', round(100 * accuracy_by_sample.mean(), 2), '%')\n",
    "print('Accuracy:', 100 * accuracy_by_sample.mean(), '%')\n",
    "accuracy_by_sample_correct_debate_mode = np.array(accuracy_by_sample_correct_debate_mode)\n",
    "\n",
    "num_target_evals = 5\n",
    "# print('Extra Evals:', round(((100. * (num_evals_by_sample - num_target_evals).sum()) / num_evals_by_sample.sum()), 2), '%')\n",
    "# num_evals_by_sample.sort()\n",
    "# print('Evals per sample distribution:', num_evals_by_sample)\n",
    "# 1.5*3.1*60/(917.5684545454544*26/(20*60))"
   ]
  },
  {
   "cell_type": "code",
   "execution_count": 1454,
   "metadata": {},
   "outputs": [
    {
     "data": {
      "text/plain": [
       "8.0"
      ]
     },
     "execution_count": 1454,
     "metadata": {},
     "output_type": "execute_result"
    }
   ],
   "source": [
    "1.0 // .125"
   ]
  },
  {
   "cell_type": "code",
   "execution_count": 1455,
   "metadata": {},
   "outputs": [
    {
     "data": {
      "text/plain": [
       "dict_keys([3.0, 7.0, 6.0, 4.0, 1.0, 5.0, 0.0, 2.0])"
      ]
     },
     "execution_count": 1455,
     "metadata": {},
     "output_type": "execute_result"
    }
   ],
   "source": [
    "stance_prob_to_convinced_freqs.keys()"
   ]
  },
  {
   "cell_type": "code",
   "execution_count": 1456,
   "metadata": {},
   "outputs": [],
   "source": [
    "stance_prob_to_convinced_freq = {k: np.array(v).mean() for k, v in stance_prob_to_convinced_freqs.items()}\n",
    "stance_probs = list(stance_prob_to_convinced_freq.keys())\n",
    "stance_probs.sort()\n",
    "\n",
    "stance_prob_by_convinced_freq = [stance_prob_to_convinced_freq[stance_prob] for stance_prob in stance_probs]"
   ]
  },
  {
   "cell_type": "code",
   "execution_count": 1460,
   "metadata": {},
   "outputs": [
    {
     "data": {
      "image/png": "[encoded data removed]",
      "text/plain": [
       "<Figure size 640x480 with 1 Axes>"
      ]
     },
     "metadata": {},
     "output_type": "display_data"
    }
   ],
   "source": [
    "# plt.plot([(i) * bucket_size for i in range(len(tfidf_o_q_stance_prob_by_convinced_freq))], tfidf_o_q_stance_prob_by_convinced_freq, label='TFIDF(S,[Q;A])')\n",
    "# plt.plot([(i) * bucket_size for i in range(len(tfidf_o_stance_prob_by_convinced_freq))], tfidf_o_stance_prob_by_convinced_freq, label='TFIDF(S,A)')\n",
    "# plt.plot([(i) * bucket_size for i in range(len(fasttext_o_stance_prob_by_convinced_freq))], fasttext_o_stance_prob_by_convinced_freq, label='FastText(S,A)')\n",
    "# plt.plot([(i) * bucket_size for i in range(len(bert_base_stance_prob_by_convinced_freq))], bert_base_stance_prob_by_convinced_freq, label='BERT Base')\n",
    "# plt.plot([(i) * bucket_size for i in range(len(bert_large_stance_prob_by_convinced_freq))], bert_large_stance_prob_by_convinced_freq, label='BERT Large')\n",
    "plt.plot([(i) * bucket_size + (bucket_size / 2.) for i in range(len(bert_base_stance_prob_by_convinced_freq_alt))], bert_base_stance_prob_by_convinced_freq_alt, label='BERT Base')\n",
    "plt.plot([(i) * bucket_size + (bucket_size / 2.) for i in range(len(bert_large_stance_prob_by_convinced_freq_alt))], bert_large_stance_prob_by_convinced_freq_alt, label='BERT Large')\n",
    "# plt.plot([(i) * bucket_size for i in range(len(stance_prob_by_convinced_freq))], stance_prob_by_convinced_freq, label='BERT Large')\n",
    "\n",
    "plt.xlabel('Judge Model Probability of Agent\\'s Answer')\n",
    "plt.ylabel('How Often Human Selects Agent\\'s Answer (%)')\n",
    "plt.xlim(0.0, 1.0)\n",
    "# plt.ylim(0, 1.0)\n",
    "plt.title('Evidence Quality by Judge Model Answer Probability')\n",
    "plt.legend(loc='upper left', title='Judge Model:')\n",
    "plt.savefig('/Users/ethanperez/research/scripts/debate/evidence_quality_by_judge_model_probability.pdf')\n",
    "plt.show()\n",
    "# plt.savefig('evidence_quality_by_judge_model_probability.pdf')"
   ]
  },
  {
   "cell_type": "code",
   "execution_count": 1447,
   "metadata": {},
   "outputs": [],
   "source": [
    "bert_base_stance_prob_by_convinced_freq_alt = stance_prob_by_convinced_freq.copy()"
   ]
  },
  {
   "cell_type": "code",
   "execution_count": 1457,
   "metadata": {},
   "outputs": [],
   "source": [
    "bert_large_stance_prob_by_convinced_freq_alt = stance_prob_by_convinced_freq.copy()"
   ]
  },
  {
   "cell_type": "code",
   "execution_count": 1256,
   "metadata": {},
   "outputs": [
    {
     "data": {
      "text/plain": [
       "[0.35828970331588134,\n",
       " 0.22424242424242422,\n",
       " 0.19688644688644688,\n",
       " 0.19393939393939394,\n",
       " 0.14666666666666667,\n",
       " 0.4880952380952381,\n",
       " 0.5037037037037037,\n",
       " 0.6324375294672324]"
      ]
     },
     "execution_count": 1256,
     "metadata": {},
     "output_type": "execute_result"
    }
   ],
   "source": [
    "stance_prob_by_convinced_freq"
   ]
  },
  {
   "cell_type": "code",
   "execution_count": 1248,
   "metadata": {},
   "outputs": [
    {
     "data": {
      "text/plain": [
       "[0.12222222222222226,\n",
       " 0.12083333333333333,\n",
       " 0.22643678160919542,\n",
       " 0.23142857142857143,\n",
       " 0.29191919191919197,\n",
       " 0.3201754385964912,\n",
       " 0.4319148936170213,\n",
       " 0.5281310211946051]"
      ]
     },
     "execution_count": 1248,
     "metadata": {},
     "output_type": "execute_result"
    }
   ],
   "source": [
    "bert_base_stance_prob_by_convinced_freq"
   ]
  },
  {
   "cell_type": "code",
   "execution_count": 1247,
   "metadata": {},
   "outputs": [
    {
     "data": {
      "text/plain": [
       "[0.3396449704142012,\n",
       " 0.26719576719576715,\n",
       " 0.22666666666666668,\n",
       " 0.23209876543209879,\n",
       " 0.2076923076923077,\n",
       " 0.2416666666666667,\n",
       " 0.545,\n",
       " 0.7173708920187792]"
      ]
     },
     "execution_count": 1247,
     "metadata": {},
     "output_type": "execute_result"
    }
   ],
   "source": [
    "stance_prob_by_convinced_freq"
   ]
  },
  {
   "cell_type": "code",
   "execution_count": 1149,
   "metadata": {},
   "outputs": [
    {
     "data": {
      "text/plain": [
       "[0.15656814449917897,\n",
       " 0.21388888888888888,\n",
       " 0.2565217391304348,\n",
       " 0.2409090909090909,\n",
       " 0.31870748299319723,\n",
       " 0.3592592592592593,\n",
       " 0.3998357963875206,\n",
       " 0.5286691086691087,\n",
       " 0.7833333333333333]"
      ]
     },
     "execution_count": 1149,
     "metadata": {},
     "output_type": "execute_result"
    }
   ],
   "source": [
    "bert_large_stance_prob_by_convinced_freq"
   ]
  },
  {
   "cell_type": "code",
   "execution_count": 1205,
   "metadata": {},
   "outputs": [],
   "source": [
    "tfidf_o_q_stance_prob_by_convinced_freq = stance_prob_by_convinced_freq.copy()"
   ]
  },
  {
   "cell_type": "code",
   "execution_count": 1197,
   "metadata": {},
   "outputs": [],
   "source": [
    "tfidf_o_stance_prob_by_convinced_freq = stance_prob_by_convinced_freq.copy()"
   ]
  },
  {
   "cell_type": "code",
   "execution_count": 1163,
   "metadata": {},
   "outputs": [],
   "source": [
    "fasttext_o_stance_prob_by_convinced_freq = stance_prob_by_convinced_freq.copy()"
   ]
  },
  {
   "cell_type": "code",
   "execution_count": 1146,
   "metadata": {},
   "outputs": [],
   "source": [
    "bert_base_stance_prob_by_convinced_freq = stance_prob_by_convinced_freq.copy()"
   ]
  },
  {
   "cell_type": "code",
   "execution_count": 1132,
   "metadata": {},
   "outputs": [],
   "source": [
    "bert_large_stance_prob_by_convinced_freq = stance_prob_by_convinced_freq.copy()"
   ]
  },
  {
   "cell_type": "code",
   "execution_count": 1110,
   "metadata": {
    "scrolled": false
   },
   "outputs": [
    {
     "name": "stdout",
     "output_type": "stream",
     "text": [
      "{'BERT Base': array([41.25, 39.25, 36.5 , 36.  , 39.  ]),\n",
      " 'BERT Large': array([44.25, 37.25, 39.5 , 38.75, 41.25])}\n",
      "***** BERT Large *****\n",
      "MEAN: 40.2\n",
      "STD: 2.4\n",
      "STDERR: 1.07\n",
      "\n",
      "***** BERT Base *****\n",
      "MEAN: 38.4\n",
      "STD: 1.93\n",
      "STDERR: 0.86\n",
      "\n",
      "BERT Large / BERT Large : 1.0\n",
      "BERT Large / BERT Base : 0.2774\n",
      "BERT Base / BERT Large : 0.2774\n",
      "BERT Base / BERT Base : 1.0\n"
     ]
    }
   ],
   "source": [
    "evals[name] = []\n",
    "for eval_no in range(num_evals):\n",
    "    evals[name].append([convinced_array[eval_no] for convinced_array in convinced_by_sample])\n",
    "\n",
    "evals[name] = 100. * np.array(evals[name]).mean(axis=1)\n",
    "pprint(evals)\n",
    "\n",
    "for n, eval_values in evals.items():\n",
    "    print('*****', n, '*****')\n",
    "    print('MEAN:', round(eval_values.mean(), 1))\n",
    "    print('STD:', round(eval_values.std(), 2))\n",
    "    print('STDERR:', round(eval_values.std() / np.sqrt(eval_values.shape[0]), 2))\n",
    "    print()\n",
    "\n",
    "for n1, eval_values1 in evals.items():\n",
    "    for n2, eval_values2 in evals.items():\n",
    "        print(n1, '/', n2, ':', round(ttest_ind(eval_values1, eval_values2, equal_var=False)[1], 4))"
   ]
  },
  {
   "cell_type": "code",
   "execution_count": 1111,
   "metadata": {},
   "outputs": [
    {
     "name": "stdout",
     "output_type": "stream",
     "text": [
      "49.49\n",
      "51.2\n",
      "50.87\n",
      "48.95\n",
      "45.22\n"
     ]
    }
   ],
   "source": [
    "# print('Accuracy/Num-Samples by Q Type:')\n",
    "if len(accuracy_by_qtype) > 0:\n",
    "    for qtype in question_type_labels:\n",
    "        print(round(100. * accuracy_by_qtype[qtype][0], 2))"
   ]
  },
  {
   "cell_type": "code",
   "execution_count": 1112,
   "metadata": {},
   "outputs": [],
   "source": [
    "# print(100. * convinced_freqs.mean())\n",
    "# print(100. * convinced_freqs_with_correct_debate_mode.mean())\n",
    "# print(100. * convinced_freqs_with_incorrect_debate_mode.mean())"
   ]
  },
  {
   "cell_type": "code",
   "execution_count": 1113,
   "metadata": {},
   "outputs": [],
   "source": [
    "# for qtype in question_type_labels:\n",
    "#     print(100. * convinced_freqs[qtypes == qtype].mean(), convinced_freqs[qtypes == qtype].sum())\n",
    "    \n",
    "# for qtype in question_type_labels:\n",
    "#     print(100. * convinced_freqs_with_correct_debate_mode[qtypes_with_correct_debate_mode == qtype].mean(), convinced_freqs_with_correct_debate_mode[qtypes_with_correct_debate_mode == qtype].sum())\n",
    "    \n",
    "# for qtype in question_type_labels:\n",
    "#     print(100. * convinced_freqs_with_incorrect_debate_mode[qtypes_with_incorrect_debate_mode == qtype].mean(), convinced_freqs_with_incorrect_debate_mode[qtypes_with_incorrect_debate_mode == qtype].sum())"
   ]
  },
  {
   "cell_type": "code",
   "execution_count": 1114,
   "metadata": {
    "scrolled": true
   },
   "outputs": [
    {
     "name": "stdout",
     "output_type": "stream",
     "text": [
      "41.29960317460317\n",
      "38.798363095238095\n",
      "39.854497354497354\n",
      "41.98562443845463\n",
      "39.0029761904762\n",
      "77.77777777777779\n",
      "68.52678571428571\n",
      "73.64197530864197\n",
      "72.51572327044025\n",
      "64.79166666666667\n",
      "29.14021164021164\n",
      "28.888888888888893\n",
      "28.592004703115816\n",
      "31.80892482779275\n",
      "30.406746031746028\n"
     ]
    }
   ],
   "source": [
    "for qtype in question_type_labels:\n",
    "    print(100. * convinced_freqs_by_qtype[qtype])\n",
    "for qtype in question_type_labels:\n",
    "    print(100. * convinced_freqs_with_correct_debate_mode_by_qtype[qtype])\n",
    "for qtype in question_type_labels:\n",
    "    print(100. * convinced_freqs_with_incorrect_debate_mode_by_qtype[qtype])"
   ]
  },
  {
   "cell_type": "code",
   "execution_count": 1115,
   "metadata": {},
   "outputs": [
    {
     "name": "stdout",
     "output_type": "stream",
     "text": [
      "49.375\n",
      "49.49404761904763\n",
      "51.201636904761905\n",
      "50.870811287477956\n",
      "48.94654088050314\n",
      "45.223214285714285\n"
     ]
    }
   ],
   "source": [
    "print(100. * accuracy_by_sample.mean())\n",
    "for qtype in question_type_labels:\n",
    "    print(100. * accuracy_by_qtype[qtype][0])"
   ]
  },
  {
   "cell_type": "code",
   "execution_count": 1116,
   "metadata": {},
   "outputs": [],
   "source": []
  },
  {
   "cell_type": "code",
   "execution_count": 1117,
   "metadata": {},
   "outputs": [],
   "source": []
  },
  {
   "cell_type": "code",
   "execution_count": 1124,
   "metadata": {},
   "outputs": [
    {
     "data": {
      "text/plain": [
       "[0.15656814449917897,\n",
       " 0.21388888888888888,\n",
       " 0.2565217391304348,\n",
       " 0.2409090909090909,\n",
       " 0.31870748299319723,\n",
       " 0.3592592592592593,\n",
       " 0.3998357963875206,\n",
       " 0.5286691086691087,\n",
       " 0.7833333333333333]"
      ]
     },
     "execution_count": 1124,
     "metadata": {},
     "output_type": "execute_result"
    }
   ],
   "source": [
    "stance_prob_by_convinced_freq"
   ]
  },
  {
   "cell_type": "code",
   "execution_count": 1122,
   "metadata": {},
   "outputs": [
    {
     "data": {
      "image/png": "[encoded data removed]",
      "text/plain": [
       "<Figure size 432x288 with 1 Axes>"
      ]
     },
     "metadata": {
      "needs_background": "light"
     },
     "output_type": "display_data"
    }
   ],
   "source": []
  },
  {
   "cell_type": "code",
   "execution_count": 1066,
   "metadata": {},
   "outputs": [],
   "source": [
    "\n"
   ]
  },
  {
   "cell_type": "code",
   "execution_count": 1105,
   "metadata": {},
   "outputs": [],
   "source": []
  },
  {
   "cell_type": "code",
   "execution_count": 1120,
   "metadata": {},
   "outputs": [],
   "source": []
  },
  {
   "cell_type": "code",
   "execution_count": null,
   "metadata": {},
   "outputs": [],
   "source": []
  }
 ],
 "metadata": {
  "kernelspec": {
   "display_name": "Python 3",
   "language": "python",
   "name": "python3"
  },
  "language_info": {
   "codemirror_mode": {
    "name": "ipython",
    "version": 3
   },
   "file_extension": ".py",
   "mimetype": "text/x-python",
   "name": "python",
   "nbconvert_exporter": "python",
   "pygments_lexer": "ipython3",
   "version": "3.6.8"
  }
 },
 "nbformat": 4,
 "nbformat_minor": 2
}

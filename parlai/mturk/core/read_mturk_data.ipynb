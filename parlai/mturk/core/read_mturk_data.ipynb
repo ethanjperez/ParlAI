{
 "cells": [
  {
   "cell_type": "code",
   "execution_count": 1018,
   "metadata": {},
   "outputs": [],
   "source": [
    "import json\n",
    "import matplotlib.pyplot as plt; plt.rcdefaults()\n",
    "import numpy as np\n",
    "import os\n",
    "from pprint import pprint\n",
    "from scipy.stats import ttest_ind\n",
    "\n",
    "num_evals = 5\n",
    "evals = {}"
   ]
  },
  {
   "cell_type": "code",
   "execution_count": 1198,
   "metadata": {},
   "outputs": [
    {
     "name": "stdout",
     "output_type": "stream",
     "text": [
      "Qualified: 64.67 %\n"
     ]
    }
   ],
   "source": [
    "task_dir = '/Users/ethanperez/research/ParlAI/parlai/mturk/core/run_data/live/context_evaluator_'\n",
    "\n",
    "task_setup = [\n",
    "# ## Persuading Humans (Dev)\n",
    "# ('race', 'question', 1554052233, 'No Passage'),\n",
    "# ('race', 'quote and question', 1554006689, 'TFIDF(S,[Q;A])'),\n",
    "# ('race', 'quote and question', 1554130485, 'TFIDF(S,A)'),\n",
    "# ('race', 'quote and question', 1554069931, 'BERT Base'),\n",
    "# ('race', 'quote and question', 1554072277, 'Pred search'),\n",
    "# ('race', 'quote and question', 1554132868, 'Pred Δp(A)'),\n",
    "# ## Persuading Humans\n",
    "# ('race', 'quote and question', 1556832343, 'Pred search (Almost complete)'),\n",
    "# ('race', 'quote and question', 1557155351, 'Bi-Ranker'),\n",
    "# ## Persuading Humans: FINAL\n",
    "# ('race', 'question', 1557351318, 'No Passage'),\n",
    "('race', 'quote and question', 1556671432, 'TFIDF(S,[Q;A])'),\n",
    "# ('race', 'quote and question', 1556725767, 'TFIDF(S,A)'),\n",
    "# ('race', 'quote and question', 1556739336, 'FastText(S,A)'),\n",
    "# ('race', 'quote and question', 1557144204, 'BERT Base'),\n",
    "# ('race', 'quote and question', 1558102264, 'BERT Large'),\n",
    "# ('race', 'quote and question', 1556892630, 'Pred search'),\n",
    "# ('race', 'quote and question', 1556809031, 'Pred p(A)'),\n",
    "# ('race', 'quote and question', 1556756789, 'Pred Δp(A)'),  # (race.m=sl-sents.i.best.e)\n",
    "# ('race', 'quote and question', 1557420471, 'Human 1'),\n",
    "# ('race', 'quote and question', 1558016111, 'Human 2'),\n",
    "# ('race', 'quote and question', 1558028902, 'Human 3'),\n",
    "# ## Human QA on Summary\n",
    "# ('race', 'quotes and question', 1555946909, 'FastText(S,A) (lower pay)'),\n",
    "# ('race', 'quotes and question', 1555952058, 'BERT Base Best Epoch'),  # (6-10 sentence incorrectly placed at end)\n",
    "# ('race', 'quotes and question', 1556939750, 'Pred Δp(A) (lower pay)'),\n",
    "# ('race', 'quotes and question', 1557093902, 'Bi-Ranker'),\n",
    "# ## Human QA on Summary: FINAL\n",
    "# ('race', 'passage and question', 1555823963, 'Full Passage'),\n",
    "# ('race', 'quotes and question', ?, 'First N'),\n",
    "# ('race', 'quotes and question', ?, 'TFIDF(S,Q)'),  # Running\n",
    "# ('race', 'quotes and question', 1558142288, 'FastText(S,Q)'),\n",
    "# ('race', 'quotes and question', 1557189780, 'TFIDF(S,[Q;A])'),\n",
    "# ('race', 'quotes and question', 1557164593, 'TFIDF(S,A)'),\n",
    "# ('race', 'quotes and question', 1557234076, 'FastText(S,A)'),\n",
    "# ('race', 'quotes and question', 1557085110, 'BERT Base'),  # Last Epoch\n",
    "# ('race', 'quotes and question', 1558119911, 'BERT Large'),  # Not sure if this completed\n",
    "# ('race', 'quotes and question', 1556987177, 'Pred search'),\n",
    "# ('race', 'quotes and question', 1556977072, 'Pred p(A)'),\n",
    "# ('race', 'quotes and question', 1556999857, 'Pred Δp(A)'),\n",
    "# ('race', 'quotes and question', 1557432288, 'Human 1'),\n",
    "# ('race', 'quotes and question', 1558039471, 'Human 2'),\n",
    "# ('race', 'quotes and question', 1558054770, 'Human 3'),\n",
    "# ## Persuading Humans\n",
    "# ('dream', 'quote and question', 1556670413, 'Bi-Ranker'),\n",
    "# ('dream', 'quote and question', 1555333992, 'Pred search (ToM)'),\n",
    "# ## Persuading Humans: FINAL\n",
    "# ('dream', 'question', 1554582693, 'No Passage'),\n",
    "# ('dream', 'quote and question', 1554596686, 'TFIDF(S,[Q;A])'),\n",
    "# ('dream', 'quote and question', 1554587404, 'TFIDF(S,A)'),\n",
    "# ('dream', 'quote and question', 1554662280, 'FastText(S,A)'),\n",
    "# ('dream', 'quote and question', 1554675304, 'BERT Base'),\n",
    "# ('dream', 'quote and question', 1558108101, 'BERT Large'),\n",
    "# ('dream', 'quote and question', 1554685131, 'Pred search'),\n",
    "# ('dream', 'quote and question', 1554692472, 'Pred p(A)'),\n",
    "# ('dream', 'quote and question', 1554729998, 'Pred Δp(A)'),\n",
    "# ('dream', 'quote and question', 1558028987, 'Human 1'),\n",
    "# ('dream', 'quotes and question', ?, 'Human 2'),\n",
    "# ('dream', 'quotes and question', ?, 'Human 3'),\n",
    "# ## Human QA on Summary\n",
    "# ('dream', 'question, answers, and quotes', 1555707929, 'TFIDF(S,A)'),  # 64.21%: (Less filter / no feedback)\n",
    "# ('dream', 'question, answers, and quotes', 1555722489, 'BERT Base'),  # 65.38%: (Less filter / no feedback)\n",
    "# ('dream', 'question and quotes', 1555789302, 'Pred search'),  # 75.17% (4/5 filter)\n",
    "# ('dream', 'question and quotes', 1555812443, 'Pred search'),  # 79.32% Actually: quotes and question (4/5 filter)\n",
    "# ('dream', 'quotes and question', 1555946647, 'BERT Base (RACE -> DREAM)'),  # (4 sentences incorrectly placed at end) (80.84%)\n",
    "# ('dream', 'quotes and question', 1556740293, 'Bi-Ranker'),\n",
    "# ## Human QA on Summary: FINAL\n",
    "# ('dream', 'passage and question', 1555804551, 'Full Passage'),\n",
    "# ('dream', 'quotes and question', 1558142116, 'First N'),\n",
    "# ('dream', 'quotes and question', 1558120652, 'TFIDF(S,Q)'),\n",
    "# ('dream', 'quotes and question', 1558059069, 'FastText(S,Q)'),\n",
    "# ('dream', 'quotes and question', 1556811067, 'TFIDF(S,[Q;A])'),\n",
    "# ('dream', 'quotes and question', 1556757043, 'TFIDF(S,A)'),\n",
    "# ('dream', 'quotes and question', 1555823257, 'FastText(S,A)'),\n",
    "# ('dream', 'quotes and question', 1556727396, 'BERT Base'),\n",
    "# ('dream', 'quotes and question', 1558101763, 'BERT Large'),\n",
    "# ('dream', 'quotes and question', 1556832115, 'Pred search'),\n",
    "# ('dream', 'quotes and question', 1556892896, 'Pred p(A)'),\n",
    "# ('dream', 'quotes and question', 1556938429, 'Pred Δp(A)'),\n",
    "# ('dream', 'quotes and question', 1558016251, 'Human 1'),\n",
    "# ('dream', 'quotes and question', ?, 'Human 2'),\n",
    "# ('dream', 'quotes and question', ?, 'Human 3'),\n",
    "]\n",
    "\n",
    "dataset, prompt_type, task_id, name = task_setup[-1]\n",
    "split = None  # 'middle', 'high', None\n",
    "\n",
    "\n",
    "# Set useful variables\n",
    "task_dir += str(task_id)\n",
    "if dataset != 'race':\n",
    "    split = None\n",
    "num_options = 3 if dataset == 'dream' else 4\n",
    "options = ['A', 'B', 'C', 'D'][:num_options]\n",
    "debate_mode_to_option = {'Ⅰ': 'A', 'Ⅱ': 'B', 'Ⅲ': 'C', 'Ⅳ': 'D', 'ⅰ': 'A', 'ⅱ': 'B', 'ⅲ': 'C', 'ⅳ': 'D', None: None}\n",
    "option_to_debate_mode = {'A': 'Ⅰ', 'B': 'Ⅱ', 'C': 'Ⅲ', 'D': 'Ⅳ', 'A': 'ⅰ', 'B': 'ⅱ', 'C': 'ⅲ', 'D': 'ⅳ', None: None}\n",
    "question_type_labels = ['a', 'c', 'l', 'm', 's'] if dataset == 'dream' else ['a', 'b', 'c', 'd', 'e']\n",
    "\n",
    "# if (dataset == 'dream') and (prompt_type == 'quote and question'):\n",
    "#     question_type_labels = []\n",
    "\n",
    "# Read HIT data\n",
    "hit_results = []\n",
    "num_passed_test = 0\n",
    "for hit_dir in os.listdir(task_dir):\n",
    "    if hit_dir.startswith('o_'):\n",
    "        continue\n",
    "    num_passed_test += 1\n",
    "    with open(os.path.join(task_dir, hit_dir, 'custom/data.json'), 'r') as file:\n",
    "        hit_results.append(json.load(file))\n",
    "        file.close()\n",
    "if len(os.listdir(task_dir)) != num_passed_test:\n",
    "    num_total_tested = len(os.listdir(task_dir)) - num_passed_test\n",
    "    print('Qualified:', round((100. * num_passed_test) / num_total_tested, 2), '%')"
   ]
  },
  {
   "cell_type": "code",
   "execution_count": 1199,
   "metadata": {
    "scrolled": false
   },
   "outputs": [
    {
     "name": "stdout",
     "output_type": "stream",
     "text": [
      "| Time: 1033.9 | Acc: 70 | Max Freq: 40.0 | Rate: 6 | Feedback: Provide better pay. And have better quotes. | Quote Rating: 7 | Quote Desc: Some were easy. Others were very vague.\n",
      "| Time: 352.2 | Acc: 55 | Max Freq: 35.0 | Rate: 1 | Feedback: Make the choices more relevant to the passages. | Quote Rating: 3 | Quote Desc: Largely unrelated to the choices.\n",
      "| Time: 289.2 | Acc: 55 | Max Freq: 40.0 | Rate: 5 | Feedback: It would help if there was a more clear connection between things. Some of them are very hard. | Quote Rating: 2 | Quote Desc: Many of them seemed random and disconnected from the questions.\n",
      "| Time: 336.1 | Acc: 65 | Max Freq: 30.0 | Rate: 8 | Feedback: No way that I can think of | Quote Rating: 6 | Quote Desc: Out of context\n",
      "| Time: 582.0 | Acc: 55 | Max Freq: 35.0 | Rate: 4 | Feedback: Add some more context or information to the passage. | Quote Rating: 6 | Quote Desc: Some of them were straightforward and easy to understand, while some seemed like they might be trick questions.\n",
      "| Time: 647.1 | Acc: 50 | Max Freq: 30.0 | Rate: 7 | Feedback: add more bonus will increase the quality of the survey | Quote Rating: 10 | Quote Desc: the passage are nice and hard to think the answer \n",
      "| Time: 429.7 | Acc: 45 | Max Freq: 35.0 | Rate: 9 | Feedback: Give better quotes | Quote Rating: 0 | Quote Desc: They didn't give any relevant information for answering the questions.\n",
      "| Time: 642.0 | Acc: 40 | Max Freq: 30.0 | Rate: 9 | Feedback: Show if they were right or wrong after each question, and highlight the correct answer if you were wrong.  That may help with understanding how to analyze the next question. | Quote Rating: 5 | Quote Desc: Some were direct and easy, others were logic puzzles, and some seemed totally disconnected from the answers.\n",
      "| Time: 482.6 | Acc: 55 | Max Freq: 30.0 | Rate: 10 | Feedback: I'm not sure. It was fun! | Quote Rating: 7 | Quote Desc: Random.\n",
      "| Time: 669.4 | Acc: 60 | Max Freq: 30.0 | Rate: 8 | Feedback: I think it's ok, meant to be weird | Quote Rating: 7 | Quote Desc: A bit wonky, but mostly ok\n",
      "| Time: 754.8 | Acc: 80 | Max Freq: 45.0 | Rate: 10 | Feedback: nothing I can think of. task was fun and instructions were clear | Quote Rating: 7 | Quote Desc: some were cryptic while others were very helpful\n",
      "| Time: 413.7 | Acc: 70 | Max Freq: 35.0 | Rate: 8 | Feedback: Nothing comes to mind | Quote Rating: 7 | Quote Desc: Sometimes they made sense and others they didn't\n",
      "| Time: 928.5 | Acc: 55 | Max Freq: 35.0 | Rate: 6 | Feedback: Point out the more nonsensical entries | Quote Rating: 4 | Quote Desc: Vague at best \n",
      "| Time: 269.2 | Acc: 30 | Max Freq: 40.0 | Rate: 3 | Feedback: Provide more hints. | Quote Rating: 5 | Quote Desc: Excerpts of the main concept\n",
      "| Time: 403.1 | Acc: 65 | Max Freq: 30.0 | Rate: 7 | Feedback: Don't know | Quote Rating: 3 | Quote Desc: The passages were rather vague and often hard to determine the correct answers for them.\n",
      "| Time: 363.6 | Acc: 40 | Max Freq: 35.0 | Rate: 6 | Feedback: more pay | Quote Rating: 6 | Quote Desc: sometimes ambiguous but often had clues\n",
      "| Time: 965.1 | Acc: 40 | Max Freq: 35.0 | Rate: 10 | Feedback: its a good task | Quote Rating: 8 | Quote Desc: makes you think\n",
      "| Time: 1010.3 | Acc: 70 | Max Freq: 30.0 | Rate: 2 | Feedback: I have no useful advice | Quote Rating: 4 | Quote Desc: Strange\n",
      "| Time: 465.9 | Acc: 75 | Max Freq: 35.0 | Rate: 7 | Feedback: more context | Quote Rating: 5 | Quote Desc: confusing\n",
      "| Time: 379.5 | Acc: 45 | Max Freq: 30.0 | Rate: 8 | Feedback: unsure, really | Quote Rating: 4 | Quote Desc: odd\n",
      "| Time: 327.8 | Acc: 65 | Max Freq: 35.0 | Rate: 5 | Feedback: The practice questions should be skippable for people who have completed the task before. | Quote Rating: 9 | Quote Desc: They were helpful but sometimes incomplete or too vague.\n",
      "| Time: 702.4 | Acc: 40 | Max Freq: 35.0 | Rate: 6 | Feedback: Include responses that would make more sense. | Quote Rating: 7 | Quote Desc: Not all of them made a lot of sense, especially with their respective responses.\n",
      "| Time: 349.2 | Acc: 55 | Max Freq: 35.0 | Rate: 7 | Feedback: i cant think of anything.  | Quote Rating: 7 | Quote Desc: vague\n",
      "| Time: 435.1 | Acc: 70 | Max Freq: 55.0 | Rate: 7 | Feedback: Not sure other than have more relevant passages but that might be the point | Quote Rating: 5 | Quote Desc: Some of them seemed to go with the question, some of them seemed completely random or incomplete\n",
      "| Time: 544.2 | Acc: 55 | Max Freq: 30.0 | Rate: 8 | Feedback: all good | Quote Rating: 7 | Quote Desc: interesting and ambiguous\n",
      "| Time: 300.9 | Acc: 60 | Max Freq: 35.0 | Rate: 7 | Feedback: I'm not sure. | Quote Rating: 4 | Quote Desc: Interesting.\n",
      "| Time: 457.0 | Acc: 50 | Max Freq: 45.0 | Rate: 3 | Feedback: Provide more information. | Quote Rating: 5 | Quote Desc: Some of the information was really understand and some was very confusing. \n",
      "| Time: 379.5 | Acc: 60 | Max Freq: 35.0 | Rate: 8 | Feedback: It's good as is | Quote Rating: 5 | Quote Desc: Some were good, others seemed unrelated to the answer\n",
      "| Time: 596.4 | Acc: 50 | Max Freq: 35.0 | Rate: 5 | Feedback: Perhaps add more context to the passages. | Quote Rating: 4 | Quote Desc: Most were not helpful at all and provided confusing answers to the question.\n",
      "| Time: 443.0 | Acc: 65 | Max Freq: 35.0 | Rate: 7 | Feedback: a longer passage with more information | Quote Rating: 4 | Quote Desc: a bit short of information\n",
      "| Time: 416.1 | Acc: 65 | Max Freq: 30.0 | Rate: 9 | Feedback: Few more test questions before start to get more understanding | Quote Rating: 9 | Quote Desc: Brain teasers made you think\n",
      "| Time: 1728.1 | Acc: 65 | Max Freq: 40.0 | Rate: 8 | Feedback: There were no issues with the task. | Quote Rating: 5 | Quote Desc: They were sometimes puzzling which made it more difficult to guess the answer\n",
      "| Time: 187.7 | Acc: 35 | Max Freq: 45.0 | Rate: 8 | Feedback: its fun as is | Quote Rating: 4 | Quote Desc: a bit confusing, some made sense while other didnt\n",
      "| Time: 668.0 | Acc: 50 | Max Freq: 45.0 | Rate: 6 | Feedback: Give detailed quotes | Quote Rating: 6 | Quote Desc: The information was not enough sufficient to guess the answers.\n",
      "| Time: 354.6 | Acc: 75 | Max Freq: 35.0 | Rate: 9 | Feedback: Give us two quotes, or feedback right away if we got the answer correct.  | Quote Rating: 7 | Quote Desc: They gave you some incite into the correct answer. \n",
      "| Time: 402.9 | Acc: 80 | Max Freq: 35.0 | Rate: 9 | Feedback: no opinion | Quote Rating: 8 | Quote Desc: Some seemed unrelated. Most seemed relevant\n",
      "| Time: 424.1 | Acc: 40 | Max Freq: 30.0 | Rate: 6 | Feedback: make the answers more fit with the questions | Quote Rating: 3 | Quote Desc: vague\n",
      "| Time: 362.9 | Acc: 65 | Max Freq: 30.0 | Rate: 8 | Feedback: I don't know | Quote Rating: 4 | Quote Desc: Inconsistent. Some were helpful, but other completely weren't.\n",
      "| Time: 399.6 | Acc: 55 | Max Freq: 35.0 | Rate: 10 | Feedback: N/A | Quote Rating: 6 | Quote Desc: Some helped me to answer the questions, whereas with others I had to try to imagine what the rest of the paragraph/story was.\n",
      "| Time: 807.4 | Acc: 70 | Max Freq: 45.0 | Rate: 8 | Feedback: Provide more answers that relate to the question somehow | Quote Rating: 5 | Quote Desc: Somewhat confusing, needed to think outside the box to answer\n",
      "| Time: 220.0 | Acc: 50 | Max Freq: 35.0 | Rate: 8 | Feedback: better variety of answer options | Quote Rating: 4 | Quote Desc: hit or miss\n",
      "| Time: 762.2 | Acc: 65 | Max Freq: 35.0 | Rate: 5 | Feedback: Use more coherent quotes, so the questions are easier to answer I suppose. | Quote Rating: 6 | Quote Desc: Some nonsense, but many were pretty coherent.\n",
      "| Time: 504.1 | Acc: 55 | Max Freq: 40.0 | Rate: 8 | Feedback: Increase pay a little :) | Quote Rating: 6 | Quote Desc: Sometimes, unusual.\n",
      "| Time: 607.3 | Acc: 55 | Max Freq: 35.0 | Rate: 10 | Feedback: making passage quotes more comprehensive | Quote Rating: 5 | Quote Desc: tricky\n",
      "| Time: 444.9 | Acc: 60 | Max Freq: 35.0 | Rate: 6 | Feedback: Perhaps more examples that aren't so easy.  For example, some of the questions were pretty difficult - and the examples didn't really showcase any difficult ones. | Quote Rating: 8 | Quote Desc: Some of them didn't provide adequate information to answer the questions, however the majority were decipherable and used for the answers.\n",
      "| Time: 580.7 | Acc: 60 | Max Freq: 35.0 | Rate: 8 | Feedback: It's fine | Quote Rating: 7 | Quote Desc: Strange\n",
      "| Time: 665.5 | Acc: 75 | Max Freq: 35.0 | Rate: 6 | Feedback: You could clean up the grammar by asking a native English speaker to edit it. | Quote Rating: 5 | Quote Desc: A lot of them were nonsensical, but still at least provided somewhat of a guide to choosing what I thought was the most likely correct answer.\n",
      "| Time: 370.0 | Acc: 60 | Max Freq: 40.0 | Rate: 9 | Feedback: higher pay never hurts | Quote Rating: 7 | Quote Desc: peculiar\n",
      "| Time: 996.1 | Acc: 55 | Max Freq: 30.0 | Rate: 9 | Feedback: Some of the questions and answers felt like I had to guess rather than figure things out but I think that was the point of the task.  I like solving things so guessing isn't very fun for me.  But overall I like this task and would do it again! | Quote Rating: 7 | Quote Desc: Half there.  It felt as if I was only given half the information I was supposed to have a majority of the time. It was like trying to answer someone when you only heard the last few words of the question.  You have an idea of whats going on but not completely.  It was fun though!\n",
      "| Time: 248.4 | Acc: 55 | Max Freq: 30.0 | Rate: 6 | Feedback: Nothing. | Quote Rating: 4 | Quote Desc: Hard to put in context to understand.\n",
      "| Time: 428.6 | Acc: 50 | Max Freq: 35.0 | Rate: 9 | Feedback: I don't think that it needs improvement | Quote Rating: 9 | Quote Desc: Easy to understand\n",
      "| Time: 597.4 | Acc: 35 | Max Freq: 25.0 | Rate: 7 | Feedback: Make some of the passages more relevant. | Quote Rating: 6 | Quote Desc: Some of them were not helpful at all.\n",
      "| Time: 507.4 | Acc: 60 | Max Freq: 30.0 | Rate: 6 | Feedback: nothing | Quote Rating: 8 | Quote Desc: useful\n",
      "| Time: 371.5 | Acc: 60 | Max Freq: 35.0 | Rate: 8 | Feedback: provide more clarity on questions | Quote Rating: 6 | Quote Desc: challenging to interpret\n",
      "| Time: 735.7 | Acc: 50 | Max Freq: 40.0 | Rate: 10 | Feedback: i do not know. Maybe longer passage quotes and people would get more answers right. | Quote Rating: 7 | Quote Desc: They were fairly helpful and were similiar to the passages. Most were easy to figure out the answer.\n",
      "| Time: 362.6 | Acc: 60 | Max Freq: 40.0 | Rate: 5 | Feedback: Have sentences that are more relevant to the questions. | Quote Rating: 6 | Quote Desc: They were mostly about fiction.\n",
      "| Time: 368.9 | Acc: 35 | Max Freq: 35.0 | Rate: 10 | Feedback: Everything was fine I dont think it can be improved.  | Quote Rating: 8 | Quote Desc: Somewhat informative but mostly not. Most weren't confusing but some were. \n",
      "| Time: 550.8 | Acc: 75 | Max Freq: 35.0 | Rate: 9 | Feedback: Not sure | Quote Rating: 7 | Quote Desc: Some were no help to answering the questions.\n",
      "| Time: 388.3 | Acc: 45 | Max Freq: 40.0 | Rate: 10 | Feedback: It was fine | Quote Rating: 10 | Quote Desc: Engaging\n",
      "| Time: 352.1 | Acc: 55 | Max Freq: 45.0 | Rate: 10 | Feedback: I love the UI. Post more! | Quote Rating: 10 | Quote Desc: Mostly made sense some seemed a little off.\n",
      "| Time: 322.7 | Acc: 35 | Max Freq: 45.0 | Rate: 10 | Feedback: increase pay | Quote Rating: 7 | Quote Desc: Friendly\n",
      "| Time: 392.1 | Acc: 60 | Max Freq: 30.0 | Rate: 10 | Feedback: Better passages | Quote Rating: 5 | Quote Desc: Some didn't give any context to the answers.\n",
      "| Time: 694.7 | Acc: 60 | Max Freq: 35.0 | Rate: 9 | Feedback: I like that it is vague. Improving it isn't necessary | Quote Rating: 3 | Quote Desc: Some were extraordinarily vague, with no real way to get to the answer other than luck\n",
      "| Time: 452.4 | Acc: 55 | Max Freq: 30.0 | Rate: 10 | Feedback: The user interface is already nice. Personally, if possible, I'd like to know more about the background of the experiment and what the end goal is. | Quote Rating: 6 | Quote Desc: somewhat confusing\n",
      "| Time: 396.4 | Acc: 80 | Max Freq: 45.0 | Rate: 10 | Feedback: Pay more. | Quote Rating: 8 | Quote Desc: As being helpful in the context.\n",
      "| Time: 586.0 | Acc: 40 | Max Freq: 40.0 | Rate: 10 | Feedback: The answers sometimes did not even match anything about the paragraph or the question | Quote Rating: 4 | Quote Desc: They did not seem to really match anything in the answers sometimes\n",
      "| Time: 315.2 | Acc: 55 | Max Freq: 45.0 | Rate: 10 | Feedback: Nothing. | Quote Rating: 7 | Quote Desc: Some were clear cut and some were ambiguous\n",
      "| Time: 393.6 | Acc: 60 | Max Freq: 50.0 | Rate: 9 | Feedback: If you could remove the small delay before the new thing popped up. otherwise it was quite good | Quote Rating: 8 | Quote Desc: Quite good\n",
      "| Time: 393.2 | Acc: 55 | Max Freq: 35.0 | Rate: 10 | Feedback: Its seems well enough in my opinion | Quote Rating: 10 | Quote Desc: Filled with necessary context to answer the questions\n",
      "| Time: 506.7 | Acc: 60 | Max Freq: 35.0 | Rate: 4 | Feedback: some cases, perhaps select better quotes. | Quote Rating: 6 | Quote Desc: some seemed completely random or ambiguous to the question presented, some were somewhat relevant.\n",
      "| Time: 619.0 | Acc: 55 | Max Freq: 35.0 | Rate: 9 | Feedback: The thing is, I don't know what you're trying to achieve here. I assume you're working on AI (ultimately the death of the human race), but I don't know how. | Quote Rating: 6 | Quote Desc: They were mostly inadequate to the purpose.  They usually didn't provide enough or coherent information.  \n",
      "| Time: 631.8 | Acc: 45 | Max Freq: 40.0 | Rate: 8 | Feedback: Perhaps more trivia-like questions that are based around pop culture. | Quote Rating: 3 | Quote Desc: A lot of theme seemed very ambigious and kind of unrelated to the questions.\n",
      "| Time: 302.3 | Acc: 45 | Max Freq: 35.0 | Rate: 6 | Feedback: The quotes should be more concrete.  A lot of the time it was very hard to find a correct answer | Quote Rating: 4 | Quote Desc: Some were pretty vague and very hard to determine a correct answer.  \n",
      "| Time: 678.0 | Acc: 50 | Max Freq: 40.0 | Rate: 7 | Feedback: There is a really annoying shaking on the screen. Please fix it. | Quote Rating: 3 | Quote Desc: Some of them were really weird and unrelated to the answer.\n",
      "| Time: 578.3 | Acc: 75 | Max Freq: 35.0 | Rate: 7 | Feedback: Do them more often! | Quote Rating: 5 | Quote Desc: Some of them were pretty straightforward. Others were a little whacked out.\n",
      "| Time: 589.0 | Acc: 50 | Max Freq: 30.0 | Rate: 8 | Feedback: Longer passage quotes. | Quote Rating: 6 | Quote Desc: A bit confusing and or short.  \n",
      "| Time: 780.0 | Acc: 55 | Max Freq: 30.0 | Rate: 10 | Feedback: n/a | Quote Rating: 6 | Quote Desc: somewhat helpful\n",
      "| Time: 378.4 | Acc: 45 | Max Freq: 35.0 | Rate: 0 | Feedback: provide more information on how to answer questions, provide more context, provide more direction, set up simpler instead of a chat feature  | Quote Rating: 1 | Quote Desc: missing information to answer questions, not very helpful\n",
      "| Time: 376.5 | Acc: 60 | Max Freq: 35.0 | Rate: 9 | Feedback: Host it externally rather than embedding it. As I was starting, I happened to notice from another tab that I was logged out of MTurk. If I'd done the task here before noticing and logging back in, I would have just been sent to the login page when I tried to submit and I'd either be looking at starting the HIT over or perhaps being told I'd already completed it.  | Quote Rating: 6 | Quote Desc: Often from the wrong point to answer the question (e.g. music shop sale details genres, not days the store is open, but that's what the question was about). But often still enough to read into.\n",
      "| Time: 593.4 | Acc: 40 | Max Freq: 40.0 | Rate: 10 | Feedback: make the passage more updated | Quote Rating: 8 | Quote Desc: they were not as good\n",
      "| Time: 591.8 | Acc: 50 | Max Freq: 30.0 | Rate: 5 | Feedback: perhaps more testing | Quote Rating: 6 | Quote Desc: somewhat relevant\n",
      "| Time: 630.3 | Acc: 65 | Max Freq: 35.0 | Rate: 10 | Feedback: I liked it! I really enjoy doing these!  | Quote Rating: 8 | Quote Desc: Articles, or inspirational article titles. \n",
      "| Time: 318.3 | Acc: 40 | Max Freq: 35.0 | Rate: 4 | Feedback: use better quotes that aren't vague | Quote Rating: 5 | Quote Desc: some of the quotes helped but a lot were too vague to guess a correct answer\n",
      "| Time: 1066.2 | Acc: 45 | Max Freq: 30.0 | Rate: 8 | Feedback: I guess it depends on what you are trying to do with the task and what you are testing. If you want me to do better than provide me with more helpful quotes! | Quote Rating: 5 | Quote Desc: Random. A few of them were very helpful, but many of them did not help me at all and sometimes confused me even more.\n",
      "| Time: 565.9 | Acc: 60 | Max Freq: 35.0 | Rate: 9 | Feedback: Not sure, everything was fine to me | Quote Rating: 7 | Quote Desc: Most were good, there were a few I wasn't sure about.\n",
      "| Time: 390.8 | Acc: 50 | Max Freq: 35.0 | Rate: 7 | Feedback: make the passages less vague | Quote Rating: 6 | Quote Desc: short and vague\n",
      "| Time: 556.3 | Acc: 60 | Max Freq: 45.0 | Rate: 10 | Feedback: I think it is good and easy to understand. | Quote Rating: 6 | Quote Desc: I enjoyed most of them, but some of them stumped me.\n",
      "| Time: 335.1 | Acc: 65 | Max Freq: 45.0 | Rate: 10 | Feedback: progress counter  | Quote Rating: 10 | Quote Desc: short but descriptive\n",
      "| Time: 494.8 | Acc: 60 | Max Freq: 35.0 | Rate: 10 | Feedback: More of the passage, but they may go against the intent. :) | Quote Rating: 5 | Quote Desc: Some were helpful, others were not as helpful. I would consider them to be mediocre.\n",
      "| Time: 455.3 | Acc: 50 | Max Freq: 30.0 | Rate: 9 | Feedback: More examples | Quote Rating: 9 | Quote Desc: Interesting and thought provoking\n",
      "| Time: 413.3 | Acc: 55 | Max Freq: 40.0 | Rate: 10 | Feedback: none | Quote Rating: 6 | Quote Desc: some were easy but some were vague\n",
      "| Time: 675.0 | Acc: 60 | Max Freq: 45.0 | Rate: 4 | Feedback: increase base pay for first hit. lot of prep and reading time | Quote Rating: 7 | Quote Desc: Relevant in most cases but vague in a few.\n",
      "| Time: 573.5 | Acc: 65 | Max Freq: 30.0 | Rate: 7 | Feedback: make it so there is only one right answer and not some that could be right but are not | Quote Rating: 8 | Quote Desc: taken from news or magazine articles \n",
      "| Time: 518.3 | Acc: 70 | Max Freq: 30.0 | Rate: 7 | Feedback: Perhaps providing more context.  | Quote Rating: 4 | Quote Desc: Some passage quotes were hard to choose given the the topic presented. \n",
      "| Time: 415.3 | Acc: 55 | Max Freq: 35.0 | Rate: 7 | Feedback: I'm not sure. | Quote Rating: 8 | Quote Desc: They didn't always make sense.\n",
      "| Time: 613.4 | Acc: 35 | Max Freq: 30.0 | Rate: 4 | Feedback: Not sure. | Quote Rating: 3 | Quote Desc: Most of them seemed completely irrelevant to the passage.  Some of them were just barely enough to answer the questions.\n",
      "| Time: 519.6 | Acc: 55 | Max Freq: 35.0 | Rate: 5 | Feedback: I enjoyed it and thought it was challenging. I don't love the scrolling though. | Quote Rating: 4 | Quote Desc: A small indication of the topic.\n",
      "| Time: 399.5 | Acc: 70 | Max Freq: 40.0 | Rate: 7 | Feedback: Feedback about answers. | Quote Rating: 7 | Quote Desc: Helpful\n",
      "| Time: 373.7 | Acc: 60 | Max Freq: 30.0 | Rate: 10 | Feedback: Maybe include just a little more information in the passages. | Quote Rating: 6 | Quote Desc: extensions of the passage.\n",
      "| Time: 497.1 | Acc: 55 | Max Freq: 35.0 | Rate: 10 | Feedback: i like it the way it is now | Quote Rating: 5 | Quote Desc: some of them were very interesting!\n",
      "| Time: 249.8 | Acc: 60 | Max Freq: 30.0 | Rate: 6 | Feedback: Make questions easier to solve. | Quote Rating: 4 | Quote Desc: Random\n",
      "| Time: 773.1 | Acc: 65 | Max Freq: 40.0 | Rate: 8 | Feedback: I don't know. | Quote Rating: 7 | Quote Desc: Vague \n",
      "| Time: 209.6 | Acc: 60 | Max Freq: 55.0 | Rate: 9 | Feedback: It is fine as is | Quote Rating: 7 | Quote Desc: Most were very relevant\n",
      "| Time: 687.5 | Acc: 75 | Max Freq: 35.0 | Rate: 7 | Feedback: no suggestions. | Quote Rating: 4 | Quote Desc: context to narrow down the choices so you can pick one.\n",
      "| Time: 263.6 | Acc: 55 | Max Freq: 30.0 | Rate: 0 | Feedback: Correct the error in the interface which causes the frame to constantly move up and down roughly 2 pixels at roughly 30hz, increase the hourly compensation by ~$0.35/HIT | Quote Rating: 5 | Quote Desc: Roughly half seemed clearly related to the following questions.\n",
      "REJECTED: 0\n",
      "INCOMPLETE: 3\n",
      "VALID: 105\n",
      "Median Question Duration: 20.0835\n",
      "Mean Question Duration: 21.961255357142857\n",
      "Min/Median/Mean/Max Worker Duration: 3.13 / 7.59 / 8.62 / 28.8\n",
      "Min/Median/Mean/Max Good Worker Durations: 3.49 / 7.41 / 8.86 / 28.8\n",
      "Median Worker Accuracy: 0.55\n",
      "Median Max Response Freq: 0.35\n",
      "Quote Rating: | Mean: 5.9 | Median: 6.0 | Std: 1.95\n",
      "debate_mode_counts: {'Ⅰ': 522, 'Ⅱ': 523, 'Ⅲ': 527, 'Ⅳ': 528, 'ⅰ': 0, 'ⅱ': 0, 'ⅲ': 0, 'ⅳ': 0, None: 0}\n"
     ]
    }
   ],
   "source": [
    "num_valid_hits, num_rejected_hits, num_incomplete_hits = 0, 0, 0\n",
    "metrics = {}\n",
    "task_ratings = {i: 0 for i in range(11)}\n",
    "quote_ratings = []\n",
    "durations = []\n",
    "worker_durations = []\n",
    "accuracy_by_worker = {}\n",
    "max_response_freqs = []\n",
    "worker_ids = []\n",
    "hits_by_qid = {}\n",
    "debate_mode_counts = {debate_mode: 0 for debate_mode in debate_mode_to_option.keys()}\n",
    "\n",
    "for hit_result in hit_results:\n",
    "    if ((len(hit_result['reject_reasons']) > 0) or\n",
    "        (len(hit_result['block_reasons']) > 0)):\n",
    "        num_rejected_hits += 1\n",
    "        print(hit_result['worker_id'], hit_result['assignment_id'],\n",
    "              '| reject_reasons:', hit_result['reject_reasons'],\n",
    "              '| block_reasons:', hit_result['block_reasons'],\n",
    "              '| bonus_reasons: ' + str(hit_result['bonus_reasons']) if 'bonus_reasons' in hit_result else '')\n",
    "    elif hit_result['feedback'] is None:\n",
    "        num_incomplete_hits += 1\n",
    "        continue\n",
    "    \n",
    "    worker_ids.append(hit_result['worker_id'])\n",
    "    num_valid_hits += 1\n",
    "    if (hit_result['task_rating'] is not None) and (hit_result['task_rating'].isdigit()):\n",
    "        task_ratings[int(hit_result['task_rating'])] += 1\n",
    "    if (hit_result.get('quote_rating') is not None) and (hit_result['quote_rating'].isdigit()):\n",
    "        quote_ratings.append(int(hit_result['quote_rating']))\n",
    "    for qtype, qtype_accuracy in hit_result['accuracy'].items():\n",
    "        accuracy_by_worker[qtype] = accuracy_by_worker.get(qtype, []) + [qtype_accuracy]\n",
    "    \n",
    "    hit_durations = []\n",
    "    response_option_counts = {option: 0 for option in options}\n",
    "    responses = []\n",
    "    for prompt in hit_result['data']:\n",
    "        qid = prompt['sample']['qid']\n",
    "        if (split is not None) and (split not in qid):\n",
    "            continue\n",
    "        hits_by_qid[qid] = hits_by_qid.get(qid, [])\n",
    "        hits_by_qid[qid].append(prompt)\n",
    "        debate_mode_counts[prompt['sample']['debate_mode']] += 1\n",
    "        stance = debate_mode_to_option[prompt['sample']['debate_mode']]\n",
    "        answer = prompt['sample']['eval_labels'][0]\n",
    "        human_correct = (prompt['response'] == answer)\n",
    "        assert answer in options, 'Answer must be in options.'\n",
    "        \n",
    "        # Calculate metrics\n",
    "        if qid not in metrics:\n",
    "            metrics[qid] = {\n",
    "                option: {\n",
    "                    'num': 0,\n",
    "                    'num_correct': 0,\n",
    "                    'num_correct_debate_mode': 0,\n",
    "                    'num_incorrect_debate_mode': 0,\n",
    "                    'num_correct_with_correct_debate_mode': 0,\n",
    "                    'num_correct_with_incorrect_debate_mode': 0,\n",
    "                    'num_debate_mode_responses': 0,\n",
    "                    'is_debate_mode_response': []\n",
    "                }\n",
    "                for option in ([None] if stance is None else options)\n",
    "            }\n",
    "#             for qtype in question_type_labels:\n",
    "#                 metrics[qid][qtype] = {\n",
    "#                     'num': 0,\n",
    "#                     'num_correct': 0,\n",
    "#                 }\n",
    "            metrics[qid]['answer'] = answer\n",
    "        metrics[qid]['qtype'] = metrics[qid].get('qtype', set([]))\n",
    "        for qtype in set(''.join(prompt['sample'].get('question_type_labels', []))):\n",
    "            qtype = qtype.lower()\n",
    "            metrics[qid]['qtype'].add(qtype)\n",
    "#             if qtype not in metrics[qid]:\n",
    "#                 print('Did you set `dataset` appropriately?')\n",
    "#             metrics[qid][qtype]['num'] += 1\n",
    "#             metrics[qid][qtype]['num_correct'] += human_correct\n",
    "        prompt_metrics = metrics[qid][stance]\n",
    "        prompt_metrics['num'] += 1\n",
    "        prompt_metrics['num_correct'] += human_correct\n",
    "        if stance == answer:\n",
    "            prompt_metrics['num_correct_with_correct_debate_mode'] += human_correct\n",
    "            prompt_metrics['num_correct_debate_mode'] += 1\n",
    "        else:\n",
    "            prompt_metrics['num_correct_with_incorrect_debate_mode'] += human_correct\n",
    "            prompt_metrics['num_incorrect_debate_mode'] += 1\n",
    "        prompt_metrics['num_debate_mode_responses'] += (prompt['response'] == stance)\n",
    "        prompt_metrics['is_debate_mode_response'].append(prompt['response'] == stance)\n",
    "        \n",
    "        hit_durations.append(prompt['duration'] / 1000.)\n",
    "        response_option_counts[prompt['response']] += 1\n",
    "        responses.append(prompt['response'])\n",
    "    duration = np.sum(np.array(hit_durations))\n",
    "    worker_durations.append(duration)\n",
    "    durations += hit_durations\n",
    "    response_options_array = np.array(list(response_option_counts.values()))\n",
    "    response_options_array = response_options_array / response_options_array.sum()\n",
    "    max_response_freq = response_options_array.max()\n",
    "    max_response_freqs.append(max_response_freq)\n",
    "    acc = round(100 * hit_result['accuracy'][prompt_type])\n",
    "    print('| Time:', round(duration, 1),\n",
    "          '| Acc:', acc,\n",
    "          '| Max Freq:', round(100 * max_response_freq, 1),\n",
    "          '| Rate:', hit_result['task_rating'],\n",
    "          '| Feedback:', hit_result['feedback'],\n",
    "          '| Quote Rating:', None if 'quote_rating' not in hit_result else hit_result['quote_rating'], \n",
    "          '| Quote Desc:', None if 'quote_description' not in hit_result else hit_result['quote_description'])\n",
    "\n",
    "debate_modes_used = list(filter(lambda x: debate_mode_counts[x] > 0, debate_mode_counts.keys()))\n",
    "debate_modes_used.sort()\n",
    "\n",
    "good_worker_durations = []\n",
    "assert len(worker_durations) == len(accuracy_by_worker[prompt_type])\n",
    "for worker_duration, worker_accuracy in zip(worker_durations, accuracy_by_worker[prompt_type]):\n",
    "    if worker_accuracy > np.median(np.array(accuracy_by_worker[prompt_type])):\n",
    "        good_worker_durations.append(worker_duration)\n",
    "\n",
    "quote_ratings = np.array(quote_ratings)\n",
    "durations = np.array(durations)\n",
    "worker_durations = np.array(worker_durations)\n",
    "good_worker_durations = np.array(good_worker_durations)\n",
    "max_response_freqs = np.array(max_response_freqs)\n",
    "\n",
    "quote_ratings.sort()\n",
    "durations.sort()\n",
    "worker_durations.sort()\n",
    "good_worker_durations.sort()\n",
    "max_response_freqs.sort()\n",
    "\n",
    "for qtype in accuracy_by_worker:\n",
    "    accuracy_by_worker[qtype] = np.array(accuracy_by_worker[qtype])\n",
    "    accuracy_by_worker[qtype].sort()\n",
    "print('REJECTED:', num_rejected_hits)\n",
    "print('INCOMPLETE:', num_incomplete_hits)\n",
    "print('VALID:', num_valid_hits)\n",
    "print('Median Question Duration:', np.median(durations))\n",
    "print('Mean Question Duration:', np.mean(durations[int(durations.shape[0] / 10.):int(9. * durations.shape[0] / 10.)]))\n",
    "print('Min/Median/Mean/Max Worker Duration:',\n",
    "      round(np.min(worker_durations / 60.), 2), '/',\n",
    "      round(np.median(worker_durations / 60.), 2), '/',\n",
    "      round(np.mean(worker_durations / 60.), 2), '/',\n",
    "      round(np.max(worker_durations / 60.), 2))\n",
    "print('Min/Median/Mean/Max Good Worker Durations:',\n",
    "      round(np.min(good_worker_durations / 60.), 2), '/',\n",
    "      round(np.median(good_worker_durations / 60.), 2),'/',\n",
    "      round(np.mean(good_worker_durations / 60.), 2), '/',\n",
    "      round(np.max(good_worker_durations / 60.), 2))\n",
    "print('Median Worker Accuracy:', np.median(accuracy_by_worker[prompt_type]))\n",
    "print('Median Max Response Freq:', np.median(max_response_freqs))\n",
    "print('Quote Rating:',\n",
    "      '| Mean:', round(quote_ratings.mean(), 2),\n",
    "      '| Median:', round(np.median(quote_ratings), 2),\n",
    "      '| Std:', round(np.std(quote_ratings), 2))\n",
    "# pprint(hit_results[0]['data'][0])\n",
    "# pprint(hit_results[0])\n",
    "print('debate_mode_counts:', debate_mode_counts)\n",
    "\n",
    "qids = list(metrics.keys())\n",
    "qids.sort()"
   ]
  },
  {
   "cell_type": "code",
   "execution_count": 1200,
   "metadata": {},
   "outputs": [
    {
     "name": "stdout",
     "output_type": "stream",
     "text": [
      "NPS, Mean: (10.48, 7.49)\n"
     ]
    }
   ],
   "source": [
    "def nps(task_ratings):\n",
    "    num_ratings = sum(list(task_ratings.values()))\n",
    "    if num_ratings == 0:\n",
    "        return None\n",
    "\n",
    "    nps_sum_ratings = 0\n",
    "    sum_ratings = 0\n",
    "    for score, num_raters in task_ratings.items():\n",
    "        sum_ratings += num_raters * score\n",
    "        if score >= 9:\n",
    "            nps_sum_ratings += num_raters\n",
    "        elif score <= 6:\n",
    "            nps_sum_ratings -= num_raters\n",
    "    return round(100 * (nps_sum_ratings / float(num_ratings)), 2), round((sum_ratings / float(num_ratings)), 2)\n",
    "\n",
    "print('NPS, Mean:', nps(task_ratings))"
   ]
  },
  {
   "cell_type": "code",
   "execution_count": 1201,
   "metadata": {},
   "outputs": [],
   "source": [
    "debate_logs_dir = '/Users/ethanperez/research/allennlp/eval/race/tfidf.o_q/test/'\n",
    "\n",
    "debate_logs = []\n",
    "for debate_mode in debate_modes_used:\n",
    "    debate_log_filename = os.path.join(debate_logs_dir, debate_mode + '.json')\n",
    "    with open(debate_log_filename, 'r') as f:\n",
    "#         debate_logs.append({k: v for k, v in json.load(f).items() if k in qids})\n",
    "        debate_logs.append({k.replace('dev/', 'test/'): v for k, v in json.load(f).items() if k.replace('dev/', 'test/') in qids})"
   ]
  },
  {
   "cell_type": "code",
   "execution_count": 1202,
   "metadata": {},
   "outputs": [
    {
     "data": {
      "text/plain": [
       "dict_keys(['test/high/15438.txt/0', 'test/high/15438.txt/1', 'test/high/15438.txt/2', 'test/high/15438.txt/3', 'test/high/15438.txt/4', 'test/high/7560.txt/0', 'test/high/7560.txt/1', 'test/high/7560.txt/2', 'test/high/7560.txt/3', 'test/high/7560.txt/4', 'test/high/5843.txt/0', 'test/high/5843.txt/1', 'test/high/5843.txt/2', 'test/high/5843.txt/3', 'test/high/5843.txt/4', 'test/high/9216.txt/0', 'test/high/9216.txt/1', 'test/high/9216.txt/2', 'test/high/9216.txt/3', 'test/high/9216.txt/4', 'test/high/1295.txt/0', 'test/high/1295.txt/1', 'test/high/1295.txt/2', 'test/high/1295.txt/3', 'test/high/1295.txt/4', 'test/high/80.txt/0', 'test/high/80.txt/1', 'test/high/80.txt/2', 'test/high/80.txt/3', 'test/high/80.txt/4', 'test/high/17032.txt/0', 'test/high/17032.txt/1', 'test/high/17032.txt/2', 'test/high/17032.txt/3', 'test/high/17032.txt/4', 'test/high/18692.txt/0', 'test/high/18692.txt/1', 'test/high/18692.txt/2', 'test/high/18692.txt/3', 'test/high/18692.txt/4', 'test/high/22624.txt/0', 'test/high/22624.txt/1', 'test/high/22624.txt/2', 'test/high/22624.txt/3', 'test/high/22624.txt/4', 'test/high/16196.txt/0', 'test/high/16196.txt/1', 'test/high/16196.txt/2', 'test/high/16196.txt/3', 'test/high/16196.txt/4', 'test/high/2839.txt/0', 'test/high/2839.txt/1', 'test/high/2839.txt/2', 'test/high/2839.txt/3', 'test/high/2839.txt/4', 'test/high/23858.txt/0', 'test/high/23858.txt/1', 'test/high/23858.txt/2', 'test/high/23858.txt/3', 'test/high/23858.txt/4', 'test/high/21191.txt/0', 'test/high/21191.txt/1', 'test/high/21191.txt/2', 'test/high/21191.txt/3', 'test/high/21191.txt/4', 'test/high/4008.txt/0', 'test/high/4008.txt/1', 'test/high/4008.txt/2', 'test/high/4008.txt/3', 'test/high/4008.txt/4', 'test/middle/3481.txt/0', 'test/middle/3481.txt/1', 'test/middle/3481.txt/2', 'test/middle/3481.txt/3', 'test/middle/3481.txt/4', 'test/middle/4590.txt/0', 'test/middle/4590.txt/1', 'test/middle/4590.txt/2', 'test/middle/4590.txt/3', 'test/middle/4590.txt/4', 'test/middle/1193.txt/0', 'test/middle/1193.txt/1', 'test/middle/1193.txt/2', 'test/middle/1193.txt/3', 'test/middle/1193.txt/4', 'test/middle/118.txt/0', 'test/middle/118.txt/1', 'test/middle/118.txt/2', 'test/middle/118.txt/3', 'test/middle/118.txt/4', 'test/middle/8101.txt/0', 'test/middle/8101.txt/1', 'test/middle/8101.txt/2', 'test/middle/8101.txt/3', 'test/middle/8101.txt/4', 'test/middle/7476.txt/0', 'test/middle/7476.txt/1', 'test/middle/7476.txt/2', 'test/middle/7476.txt/3', 'test/middle/7476.txt/4'])"
      ]
     },
     "execution_count": 1202,
     "metadata": {},
     "output_type": "execute_result"
    }
   ],
   "source": [
    "debate_logs[0].keys()"
   ]
  },
  {
   "cell_type": "code",
   "execution_count": 1203,
   "metadata": {
    "scrolled": false
   },
   "outputs": [
    {
     "name": "stdout",
     "output_type": "stream",
     "text": [
      "{'a': (0.5620039682539683, 96),\n",
      " 'b': (0.5501488095238095, 128),\n",
      " 'c': (0.6290343915343916, 216),\n",
      " 'd': (0.5456873315363882, 212),\n",
      " 'e': (0.47239583333333335, 64)}\n",
      "[5 5 5 5 5 5 5 5 5 5 5 5 5 5 5 5 5 5 5 5 5 5 5 5 5 5 5 5 5 5 5 5 5 5 5 5 5\n",
      " 5 5 5 5 5 5 5 5 5 5 5 5 5 5 5 5 5 5 5 5 5 5 5 5 5 5 5 5 5 5 5 5 5 5 5 5 5\n",
      " 5 5 5 5 5 5 5 5 5 5 5 5 5 5 5 5 5 5 5 5 5 5 5 5 5 5 5 5 5 5 5 5 5 5 5 5 5\n",
      " 5 5 5 5 5 5 5 5 5 5 5 5 5 5 5 5 5 5 5 5 5 5 5 5 5 5 5 5 5 5 5 5 5 5 5 5 5\n",
      " 5 5 5 5 5 5 5 5 5 5 5 5 5 5 5 5 5 5 5 5 5 5 5 5 5 5 5 5 5 5 5 5 5 5 5 5 5\n",
      " 5 5 5 5 5 5 5 5 5 5 5 5 5 5 5 5 5 5 5 5 5 5 5 5 5 5 5 5 5 5 5 5 5 5 5 5 5\n",
      " 5 5 5 5 5 5 5 5 5 5 5 5 5 5 5 5 5 5 5 5 5 5 5 5 5 5 5 5 5 5 5 5 5 5 5 5 5\n",
      " 5 5 5 5 5 5 5 5 5 5 5 5 5 5 5 5 5 5 5 5 5 5 5 5 5 5 5 5 5 5 5 5 5 5 5 5 5\n",
      " 5 5 5 5 5 5 5 5 5 5 5 5 5 5 5 5 5 5 5 5 5 5 5 5 6 6 6 6 6 6 6 6 6 6 6 6 6\n",
      " 6 6 6 6 6 6 6 6 6 6 6 6 6 6 6 6 6 6 6 6 6 6 6 6 6 6 6 6 6 6 6 6 6 6 6 6 6\n",
      " 6 6 6 6 6 6 6 6 6 6 7 7 7 7 7 7 7 7 7 7 7 7 7 7 7 7 7 7 7 7]\n",
      "Evals per sample: 5.25\n",
      "Fraction insuffient evals: 0.0\n",
      "Convinced: 33.49 % ( 33.48809523809524 )\n",
      "- Agent is right: 69.58 % ( 69.58095238095238 )\n",
      "- Agent is wrong: 21.46 % ( 21.457142857142856 )\n",
      "24\n",
      "32\n",
      "54\n",
      "53\n",
      "16\n",
      "Accuracy: 56.66 %\n",
      "Accuracy: 56.65595238095238 %\n"
     ]
    }
   ],
   "source": [
    "accuracy_by_qtype = {qtype: [] for qtype in question_type_labels}\n",
    "accuracy_by_sample = []\n",
    "accuracy_by_sample_correct_debate_mode = []\n",
    "accuracy_by_sample_incorrect_debate_mode = []\n",
    "convinced_by_qtype = {qtype: [] for qtype in question_type_labels}\n",
    "convinced_freqs = []\n",
    "convinced_freqs_with_correct_debate_mode = []\n",
    "convinced_freqs_with_incorrect_debate_mode = []\n",
    "convinced_freqs_by_qtype = {qtype: [] for qtype in question_type_labels}\n",
    "convinced_freqs_with_correct_debate_mode_by_qtype = {qtype: [] for qtype in question_type_labels}\n",
    "convinced_freqs_with_incorrect_debate_mode_by_qtype = {qtype: [] for qtype in question_type_labels}\n",
    "num_evals_by_sample = []\n",
    "convinced_by_sample = []\n",
    "# qtypes = []\n",
    "# qtypes_with_correct_debate_mode = []\n",
    "# qtypes_with_incorrect_debate_mode = []\n",
    "stance_prob_to_convinced_freqs = {}\n",
    "bucket_size = .125\n",
    "\n",
    "for qid in qids:\n",
    "    qid_metrics = metrics[qid]\n",
    "    answer = qid_metrics['answer']\n",
    "    for qid_metric_key, prompt in qid_metrics.items():\n",
    "        if qid_metric_key in question_type_labels:\n",
    "#             qtype = qid_metric_key\n",
    "#             if qid_metrics[qtype]['num'] > 0:\n",
    "#                 accuracy_by_qtype[qtype].append(qid_metrics[qtype]['num_correct'] / qid_metrics[qtype]['num'])\n",
    "#                 convinced_by_qtype[qtype].append(qid_metrics[qtype][])\n",
    "            continue\n",
    "        if not (qid_metric_key in [None] + options):\n",
    "            continue\n",
    "        stance = qid_metric_key\n",
    "\n",
    "        # Q-only stats\n",
    "        prompt_metrics = qid_metrics[stance]\n",
    "        num_evals_by_sample.append(prompt_metrics['num'])\n",
    "        convinced_by_sample.append(prompt_metrics['is_debate_mode_response'])\n",
    "        accuracy_by_sample.append(prompt_metrics['num_correct'] / prompt_metrics['num'])\n",
    "        for qtype in qid_metrics['qtype']:\n",
    "            accuracy_by_qtype[qtype].append(prompt_metrics['num_correct'] / prompt_metrics['num'])\n",
    "        if stance is None:\n",
    "            continue\n",
    "        \n",
    "        # Debater stats\n",
    "#         if 'num_debate_mode_responses' not in prompt_metrics:\n",
    "#             print(qid_metric_key, prompt_metrics)\n",
    "        convinced_freq = prompt_metrics['num_debate_mode_responses'] / prompt_metrics['num']\n",
    "        if stance == answer:\n",
    "            convinced_freqs_with_correct_debate_mode.append(convinced_freq)\n",
    "            for qtype in qid_metrics['qtype']:\n",
    "                convinced_freqs_with_correct_debate_mode_by_qtype[qtype].append(convinced_freq)\n",
    "#             qtypes_with_correct_debate_mode.append(qid_metrics['qtype'])\n",
    "            accuracy_by_sample_correct_debate_mode.append(\n",
    "                prompt_metrics['num_correct_with_correct_debate_mode'] /\n",
    "                prompt_metrics['num_correct_debate_mode'])\n",
    "        else:\n",
    "            convinced_freqs_with_incorrect_debate_mode.append(convinced_freq)\n",
    "            for qtype in qid_metrics['qtype']:\n",
    "                convinced_freqs_with_incorrect_debate_mode_by_qtype[qtype].append(convinced_freq)\n",
    "#             qtypes_with_incorrect_debate_mode.append(qid_metrics['qtype'])\n",
    "            accuracy_by_sample_incorrect_debate_mode.append(\n",
    "                prompt_metrics['num_correct_with_incorrect_debate_mode'] /\n",
    "                prompt_metrics['num_incorrect_debate_mode'])\n",
    "        convinced_freqs.append(convinced_freq)\n",
    "        for qtype in qid_metrics['qtype']:\n",
    "            convinced_freqs_by_qtype[qtype].append(convinced_freq)\n",
    "#         qtypes.append(qid_metrics['qtype'])\n",
    "#         stance_prob = debate_logs[options.index(stance)][qid]['prob_dist'][0][options.index(stance)]\n",
    "        stance_prob = debate_logs[options.index(stance)][qid]['prob']\n",
    "        stance_prob_bucket = stance_prob // bucket_size\n",
    "        stance_prob_to_convinced_freqs[stance_prob_bucket] = stance_prob_to_convinced_freqs.get(stance_prob_bucket, [])\n",
    "        stance_prob_to_convinced_freqs[stance_prob_bucket].append(convinced_freq)\n",
    "#         print(qid, stance, stance_prob, convinced_freq)\n",
    "\n",
    "# qtypes = np.array(qtypes)\n",
    "# qtypes_with_correct_debate_mode = np.array(qtypes_with_correct_debate_mode)\n",
    "# qtypes_with_incorrect_debate_mode = np.array(qtypes_with_incorrect_debate_mode)\n",
    "\n",
    "# print(accuracy_by_qtype)\n",
    "accuracy_by_qtype = {qtype: (np.array(accuracy_by_qtype[qtype]).mean(), len(accuracy_by_qtype[qtype])) for qtype in question_type_labels}\n",
    "pprint(accuracy_by_qtype)\n",
    "\n",
    "num_evals_by_sample = np.array(num_evals_by_sample)\n",
    "num_evals_by_sample.sort()\n",
    "print(num_evals_by_sample)\n",
    "print('Evals per sample:', num_evals_by_sample.mean())\n",
    "print('Fraction insuffient evals:', (num_evals_by_sample < 5).mean())\n",
    "\n",
    "convinced_freqs = np.array(convinced_freqs)\n",
    "print('Convinced:', round(100 * convinced_freqs.mean(), 2), '% (', 100 * convinced_freqs.mean(), ')')\n",
    "convinced_freqs_with_correct_debate_mode = np.array(convinced_freqs_with_correct_debate_mode)\n",
    "print('- Agent is right:', round(100 * convinced_freqs_with_correct_debate_mode.mean(), 2), '% (', 100 * convinced_freqs_with_correct_debate_mode.mean(), ')')\n",
    "convinced_freqs_with_incorrect_debate_mode = np.array(convinced_freqs_with_incorrect_debate_mode)\n",
    "print('- Agent is wrong:', round(100 * convinced_freqs_with_incorrect_debate_mode.mean(), 2), '% (', 100 * convinced_freqs_with_incorrect_debate_mode.mean(), ')')\n",
    "\n",
    "for qtype in question_type_labels:\n",
    "#     print(len(convinced_freqs_by_qtype[qtype]))\n",
    "    convinced_freqs_by_qtype[qtype] = np.array(convinced_freqs_by_qtype[qtype]).mean()\n",
    "    print(len(convinced_freqs_with_correct_debate_mode_by_qtype[qtype]))\n",
    "    convinced_freqs_with_correct_debate_mode_by_qtype[qtype] = np.array(convinced_freqs_with_correct_debate_mode_by_qtype[qtype]).mean()\n",
    "#     print(len(convinced_freqs_with_incorrect_debate_mode_by_qtype[qtype]))\n",
    "    convinced_freqs_with_incorrect_debate_mode_by_qtype[qtype] = np.array(convinced_freqs_with_incorrect_debate_mode_by_qtype[qtype]).mean()\n",
    "\n",
    "accuracy_by_sample = np.array(accuracy_by_sample)\n",
    "print('Accuracy:', round(100 * accuracy_by_sample.mean(), 2), '%')\n",
    "print('Accuracy:', 100 * accuracy_by_sample.mean(), '%')\n",
    "accuracy_by_sample_correct_debate_mode = np.array(accuracy_by_sample_correct_debate_mode)\n",
    "\n",
    "num_target_evals = 5\n",
    "# print('Extra Evals:', round(((100. * (num_evals_by_sample - num_target_evals).sum()) / num_evals_by_sample.sum()), 2), '%')\n",
    "# num_evals_by_sample.sort()\n",
    "# print('Evals per sample distribution:', num_evals_by_sample)\n",
    "# 1.5*3.1*60/(917.5684545454544*26/(20*60))"
   ]
  },
  {
   "cell_type": "code",
   "execution_count": 1204,
   "metadata": {},
   "outputs": [],
   "source": [
    "stance_prob_to_convinced_freq = {k: np.array(v).mean() for k, v in stance_prob_to_convinced_freqs.items()}\n",
    "stance_probs = list(stance_prob_to_convinced_freq.keys())\n",
    "stance_probs.sort()\n",
    "\n",
    "stance_prob_by_convinced_freq = [stance_prob_to_convinced_freq[stance_prob] for stance_prob in stance_probs]"
   ]
  },
  {
   "cell_type": "code",
   "execution_count": 1206,
   "metadata": {},
   "outputs": [
    {
     "data": {
      "image/png": "[encoded data removed]",
      "text/plain": [
       "<Figure size 432x288 with 1 Axes>"
      ]
     },
     "metadata": {
      "needs_background": "light"
     },
     "output_type": "display_data"
    }
   ],
   "source": [
    "plt.plot([(i) * bucket_size for i in range(len(bert_base_stance_prob_by_convinced_freq))], bert_base_stance_prob_by_convinced_freq)\n",
    "plt.plot([(i) * bucket_size for i in range(len(bert_large_stance_prob_by_convinced_freq))], bert_large_stance_prob_by_convinced_freq)\n",
    "plt.plot([(i) * bucket_size for i in range(len(fasttext_o_stance_prob_by_convinced_freq))], fasttext_o_stance_prob_by_convinced_freq)\n",
    "plt.plot([(i) * bucket_size for i in range(len(tfidf_o_stance_prob_by_convinced_freq))], tfidf_o_stance_prob_by_convinced_freq)\n",
    "plt.plot([(i) * bucket_size for i in range(len(tfidf_o_q_stance_prob_by_convinced_freq))], tfidf_o_q_stance_prob_by_convinced_freq)\n",
    "\n",
    "plt.xlabel('P(A)')\n",
    "plt.ylabel('How Often Agent Persuaded Human')\n",
    "plt.xlim(0.0, 1.0)\n",
    "# plt.ylim(0, 1.0)\n",
    "plt.title('Evidence Persuasiveness by P(A)')\n",
    "# plt.legend(loc='upper left', title='Agent learns\\nto predict:')\n",
    "plt.show()"
   ]
  },
  {
   "cell_type": "code",
   "execution_count": 1149,
   "metadata": {},
   "outputs": [
    {
     "data": {
      "text/plain": [
       "[0.15656814449917897,\n",
       " 0.21388888888888888,\n",
       " 0.2565217391304348,\n",
       " 0.2409090909090909,\n",
       " 0.31870748299319723,\n",
       " 0.3592592592592593,\n",
       " 0.3998357963875206,\n",
       " 0.5286691086691087,\n",
       " 0.7833333333333333]"
      ]
     },
     "execution_count": 1149,
     "metadata": {},
     "output_type": "execute_result"
    }
   ],
   "source": [
    "bert_large_stance_prob_by_convinced_freq"
   ]
  },
  {
   "cell_type": "code",
   "execution_count": 1205,
   "metadata": {},
   "outputs": [],
   "source": [
    "tfidf_o_q_stance_prob_by_convinced_freq = stance_prob_by_convinced_freq.copy()"
   ]
  },
  {
   "cell_type": "code",
   "execution_count": 1197,
   "metadata": {},
   "outputs": [],
   "source": [
    "tfidf_o_stance_prob_by_convinced_freq = stance_prob_by_convinced_freq.copy()"
   ]
  },
  {
   "cell_type": "code",
   "execution_count": 1163,
   "metadata": {},
   "outputs": [],
   "source": [
    "fasttext_o_stance_prob_by_convinced_freq = stance_prob_by_convinced_freq.copy()"
   ]
  },
  {
   "cell_type": "code",
   "execution_count": 1146,
   "metadata": {},
   "outputs": [],
   "source": [
    "bert_base_stance_prob_by_convinced_freq = stance_prob_by_convinced_freq.copy()"
   ]
  },
  {
   "cell_type": "code",
   "execution_count": 1132,
   "metadata": {},
   "outputs": [],
   "source": [
    "bert_large_stance_prob_by_convinced_freq = stance_prob_by_convinced_freq.copy()"
   ]
  },
  {
   "cell_type": "code",
   "execution_count": 1110,
   "metadata": {
    "scrolled": false
   },
   "outputs": [
    {
     "name": "stdout",
     "output_type": "stream",
     "text": [
      "{'BERT Base': array([41.25, 39.25, 36.5 , 36.  , 39.  ]),\n",
      " 'BERT Large': array([44.25, 37.25, 39.5 , 38.75, 41.25])}\n",
      "***** BERT Large *****\n",
      "MEAN: 40.2\n",
      "STD: 2.4\n",
      "STDERR: 1.07\n",
      "\n",
      "***** BERT Base *****\n",
      "MEAN: 38.4\n",
      "STD: 1.93\n",
      "STDERR: 0.86\n",
      "\n",
      "BERT Large / BERT Large : 1.0\n",
      "BERT Large / BERT Base : 0.2774\n",
      "BERT Base / BERT Large : 0.2774\n",
      "BERT Base / BERT Base : 1.0\n"
     ]
    }
   ],
   "source": [
    "evals[name] = []\n",
    "for eval_no in range(num_evals):\n",
    "    evals[name].append([convinced_array[eval_no] for convinced_array in convinced_by_sample])\n",
    "\n",
    "evals[name] = 100. * np.array(evals[name]).mean(axis=1)\n",
    "pprint(evals)\n",
    "\n",
    "for n, eval_values in evals.items():\n",
    "    print('*****', n, '*****')\n",
    "    print('MEAN:', round(eval_values.mean(), 1))\n",
    "    print('STD:', round(eval_values.std(), 2))\n",
    "    print('STDERR:', round(eval_values.std() / np.sqrt(eval_values.shape[0]), 2))\n",
    "    print()\n",
    "\n",
    "for n1, eval_values1 in evals.items():\n",
    "    for n2, eval_values2 in evals.items():\n",
    "        print(n1, '/', n2, ':', round(ttest_ind(eval_values1, eval_values2, equal_var=False)[1], 4))"
   ]
  },
  {
   "cell_type": "code",
   "execution_count": 1111,
   "metadata": {},
   "outputs": [
    {
     "name": "stdout",
     "output_type": "stream",
     "text": [
      "49.49\n",
      "51.2\n",
      "50.87\n",
      "48.95\n",
      "45.22\n"
     ]
    }
   ],
   "source": [
    "# print('Accuracy/Num-Samples by Q Type:')\n",
    "if len(accuracy_by_qtype) > 0:\n",
    "    for qtype in question_type_labels:\n",
    "        print(round(100. * accuracy_by_qtype[qtype][0], 2))"
   ]
  },
  {
   "cell_type": "code",
   "execution_count": 1112,
   "metadata": {},
   "outputs": [],
   "source": [
    "# print(100. * convinced_freqs.mean())\n",
    "# print(100. * convinced_freqs_with_correct_debate_mode.mean())\n",
    "# print(100. * convinced_freqs_with_incorrect_debate_mode.mean())"
   ]
  },
  {
   "cell_type": "code",
   "execution_count": 1113,
   "metadata": {},
   "outputs": [],
   "source": [
    "# for qtype in question_type_labels:\n",
    "#     print(100. * convinced_freqs[qtypes == qtype].mean(), convinced_freqs[qtypes == qtype].sum())\n",
    "    \n",
    "# for qtype in question_type_labels:\n",
    "#     print(100. * convinced_freqs_with_correct_debate_mode[qtypes_with_correct_debate_mode == qtype].mean(), convinced_freqs_with_correct_debate_mode[qtypes_with_correct_debate_mode == qtype].sum())\n",
    "    \n",
    "# for qtype in question_type_labels:\n",
    "#     print(100. * convinced_freqs_with_incorrect_debate_mode[qtypes_with_incorrect_debate_mode == qtype].mean(), convinced_freqs_with_incorrect_debate_mode[qtypes_with_incorrect_debate_mode == qtype].sum())"
   ]
  },
  {
   "cell_type": "code",
   "execution_count": 1114,
   "metadata": {
    "scrolled": true
   },
   "outputs": [
    {
     "name": "stdout",
     "output_type": "stream",
     "text": [
      "41.29960317460317\n",
      "38.798363095238095\n",
      "39.854497354497354\n",
      "41.98562443845463\n",
      "39.0029761904762\n",
      "77.77777777777779\n",
      "68.52678571428571\n",
      "73.64197530864197\n",
      "72.51572327044025\n",
      "64.79166666666667\n",
      "29.14021164021164\n",
      "28.888888888888893\n",
      "28.592004703115816\n",
      "31.80892482779275\n",
      "30.406746031746028\n"
     ]
    }
   ],
   "source": [
    "for qtype in question_type_labels:\n",
    "    print(100. * convinced_freqs_by_qtype[qtype])\n",
    "for qtype in question_type_labels:\n",
    "    print(100. * convinced_freqs_with_correct_debate_mode_by_qtype[qtype])\n",
    "for qtype in question_type_labels:\n",
    "    print(100. * convinced_freqs_with_incorrect_debate_mode_by_qtype[qtype])"
   ]
  },
  {
   "cell_type": "code",
   "execution_count": 1115,
   "metadata": {},
   "outputs": [
    {
     "name": "stdout",
     "output_type": "stream",
     "text": [
      "49.375\n",
      "49.49404761904763\n",
      "51.201636904761905\n",
      "50.870811287477956\n",
      "48.94654088050314\n",
      "45.223214285714285\n"
     ]
    }
   ],
   "source": [
    "print(100. * accuracy_by_sample.mean())\n",
    "for qtype in question_type_labels:\n",
    "    print(100. * accuracy_by_qtype[qtype][0])"
   ]
  },
  {
   "cell_type": "code",
   "execution_count": 1116,
   "metadata": {},
   "outputs": [],
   "source": []
  },
  {
   "cell_type": "code",
   "execution_count": 1117,
   "metadata": {},
   "outputs": [],
   "source": []
  },
  {
   "cell_type": "code",
   "execution_count": 1124,
   "metadata": {},
   "outputs": [
    {
     "data": {
      "text/plain": [
       "[0.15656814449917897,\n",
       " 0.21388888888888888,\n",
       " 0.2565217391304348,\n",
       " 0.2409090909090909,\n",
       " 0.31870748299319723,\n",
       " 0.3592592592592593,\n",
       " 0.3998357963875206,\n",
       " 0.5286691086691087,\n",
       " 0.7833333333333333]"
      ]
     },
     "execution_count": 1124,
     "metadata": {},
     "output_type": "execute_result"
    }
   ],
   "source": [
    "stance_prob_by_convinced_freq"
   ]
  },
  {
   "cell_type": "code",
   "execution_count": 1122,
   "metadata": {},
   "outputs": [
    {
     "data": {
      "image/png": "[encoded data removed]",
      "text/plain": [
       "<Figure size 432x288 with 1 Axes>"
      ]
     },
     "metadata": {
      "needs_background": "light"
     },
     "output_type": "display_data"
    }
   ],
   "source": []
  },
  {
   "cell_type": "code",
   "execution_count": 1066,
   "metadata": {},
   "outputs": [],
   "source": [
    "\n"
   ]
  },
  {
   "cell_type": "code",
   "execution_count": 1105,
   "metadata": {},
   "outputs": [],
   "source": []
  },
  {
   "cell_type": "code",
   "execution_count": 1120,
   "metadata": {},
   "outputs": [],
   "source": []
  },
  {
   "cell_type": "code",
   "execution_count": null,
   "metadata": {},
   "outputs": [],
   "source": []
  }
 ],
 "metadata": {
  "kernelspec": {
   "display_name": "Python 3",
   "language": "python",
   "name": "python3"
  },
  "language_info": {
   "codemirror_mode": {
    "name": "ipython",
    "version": 3
   },
   "file_extension": ".py",
   "mimetype": "text/x-python",
   "name": "python",
   "nbconvert_exporter": "python",
   "pygments_lexer": "ipython3",
   "version": "3.6.8"
  }
 },
 "nbformat": 4,
 "nbformat_minor": 2
}

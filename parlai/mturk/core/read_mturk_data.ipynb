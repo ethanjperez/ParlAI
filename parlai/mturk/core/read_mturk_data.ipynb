{
 "cells": [
  {
   "cell_type": "code",
   "execution_count": 26,
   "metadata": {},
   "outputs": [
    {
     "name": "stdout",
     "output_type": "stream",
     "text": [
      "# HIT Files: 124\n",
      "# Passed Test: 26 / 98 = 26.53 %\n"
     ]
    }
   ],
   "source": [
    "import json\n",
    "import numpy as np\n",
    "import os\n",
    "from pprint import pprint\n",
    "\n",
    "task_dir = '/Users/ethanperez/research/ParlAI/parlai/mturk/core/run_data/live/context_evaluator_'\n",
    "\n",
    "### RACE: Unfiltered Workers\n",
    "# prompt_type, task_id = 'question', '1553982706'  # Q-only\n",
    "# prompt_type, task_id = 'context_question', 1553790696  # TFIDF\n",
    "# prompt_type, task_id = 'context_question', 1553901953  # FastText\n",
    "### RACE: Filtered Workers\n",
    "# prompt_type, task_id = 'question', '1554052233'  # Q-only\n",
    "# prompt_type, task_id = 'quote and question', 1554006689  # TFIDF(Q+O)\n",
    "# prompt_type, task_id = 'quote and question', 1554130485  # TFIDF(O)\n",
    "# prompt_type, task_id = 'quote and question', 1554069931  # Search\n",
    "# prompt_type, task_id = 'quote and question', 1554072277  # SL\n",
    "# prompt_type, task_id = 'quote and question', 1554132868  # SL-Influence\n",
    "# dataset = 'race'\n",
    "\n",
    "### DREAM\n",
    "dataset = 'dream'\n",
    "# prompt_type, task_id = 'question', 1554582693  # Q-only\n",
    "# prompt_type, task_id = 'quote and question', 1554596686  # TFIDF(Q+O)\n",
    "# prompt_type, task_id = 'quote and question', 1554587404  # TFIDF(O)\n",
    "# prompt_type, task_id = 'quote and question', 1554662280  # FastText(O)\n",
    "# prompt_type, task_id = 'quote and question', 1554675304  # Search\n",
    "# prompt_type, task_id = 'quote and question', 1554685131  # SL\n",
    "# prompt_type, task_id = 'quote and question', 1554692472  # SL-Sents\n",
    "# prompt_type, task_id = 'quote and question', 1554729998  # SL-Sents-Influence\n",
    "# prompt_type, task_id = 'quote and question', 1555333992  # SL-Theory-of-Mind\n",
    "## All answers at once\n",
    "# prompt_type, task_id = 'question, answers, and quotes', 1555707929  # TFIDF(O)\n",
    "prompt_type, task_id = 'question, answers, and quotes', 1555722489  # Search\n",
    "\n",
    "# split = 'middle'\n",
    "split = None\n",
    "\n",
    "# Set useful variables\n",
    "task_dir += str(task_id)\n",
    "num_options = 3 if dataset == 'dream' else 4\n",
    "options = ['A', 'B', 'C', 'D'][:num_options]\n",
    "debate_mode_to_option = {'Ⅰ': 'A', 'Ⅱ': 'B', 'Ⅲ': 'C', 'Ⅳ': 'D', 'ⅰ': 'A', 'ⅱ': 'B', 'ⅲ': 'C', 'ⅳ': 'D', None: None}\n",
    "\n",
    "# Read HIT data\n",
    "print('# HIT Files:', len(os.listdir(task_dir)))\n",
    "hit_results = []\n",
    "num_passed_test = 0\n",
    "for hit_dir in os.listdir(task_dir):\n",
    "    if hit_dir.startswith('o_'):\n",
    "        continue\n",
    "    num_passed_test += 1\n",
    "    with open(os.path.join(task_dir, hit_dir, 'custom/data.json'), 'r') as file:\n",
    "        hit_results.append(json.load(file))\n",
    "        file.close()\n",
    "if len(os.listdir(task_dir)) != num_passed_test:\n",
    "    num_total_tested = len(os.listdir(task_dir)) - num_passed_test\n",
    "    print('# Passed Test:', num_passed_test, '/', num_total_tested, '=', round((100. * num_passed_test) / num_total_tested, 2), '%')"
   ]
  },
  {
   "cell_type": "code",
   "execution_count": 27,
   "metadata": {
    "scrolled": false
   },
   "outputs": [
    {
     "name": "stdout",
     "output_type": "stream",
     "text": [
      "| Time: 11.8 | Acc: 70 | Max Freq: 45.0 | Rate: 9 | Feedback: unsure | Quote Rating: 7 | Quote Desc: thought provoking\n",
      "| Time: 15.9 | Acc: 75 | Max Freq: 50.0 | Rate: 10 | Feedback: it is pretty good right now. More examples and explanations might be nice. | Quote Rating: 9 | Quote Desc: short and interesting, helpful sometimes, unhelpful a couple times.\n",
      "| Time: 12.3 | Acc: 50 | Max Freq: 55.0 | Rate: 7 | Feedback: good | Quote Rating: 9 | Quote Desc: it's very good\n",
      "| Time: 23.2 | Acc: 85 | Max Freq: 45.0 | Rate: 10 | Feedback: make things a little more clearer | Quote Rating: 8 | Quote Desc: some did not make as much sense as others\n",
      "| Time: 17.6 | Acc: 55 | Max Freq: 40.0 | Rate: 10 | Feedback: BE CLEAR | Quote Rating: 8 | Quote Desc: well\n",
      "| Time: 18.1 | Acc: 70 | Max Freq: 45.0 | Rate: 10 | Feedback: Make the quotes a little more clear and put them before the answer instead of after.  I was often reading the second sentence first in order to figure out which was correct. | Quote Rating: 9 | Quote Desc: Easy to understand\n",
      "| Time: 40.0 | Acc: 75 | Max Freq: 35.0 | Rate: 4 | Feedback: increase the pay or decrease the number of questions | Quote Rating: 7 | Quote Desc: They provided context.\n",
      "| Time: 21.8 | Acc: 80 | Max Freq: 45.0 | Rate: 8 | Feedback: It's good | Quote Rating: 8 | Quote Desc: useful\n",
      "| Time: 37.2 | Acc: 90 | Max Freq: 50.0 | Rate: 8 | Feedback: I think if you are getting the data you wnat then no changes are needed | Quote Rating: 7 | Quote Desc: They were ambiguos but if you concentrated and paid attention there was some help to be found\n",
      "| Time: 21.3 | Acc: 85 | Max Freq: 55.0 | Rate: 7 | Feedback: Not sure. | Quote Rating: 7 | Quote Desc: Sometimes not specific enough, but good enough for the most part to make an educated guess.\n",
      "| Time: 27.0 | Acc: 55 | Max Freq: 50.0 | Rate: 8 | Feedback: Providing more details in the quotes if possible.  | Quote Rating: 6 | Quote Desc: The passage quotes were brief and sometimes a little bit misleading or vague. \n",
      "| Time: 11.6 | Acc: 55 | Max Freq: 45.0 | Rate: 6 | Feedback: make it clearer exactly what you're looking for and don't reject workers that give a fair go at the work even if they're not what you expect the quality to be | Quote Rating: 4 | Quote Desc: tangentially relevant \n",
      "| Time: 13.1 | Acc: 60 | Max Freq: 45.0 | Rate: 8 | Feedback: It's fine | Quote Rating: 7 | Quote Desc: Strange. \n",
      "| Time: 12.9 | Acc: 60 | Max Freq: 35.0 | Rate: 6 | Feedback: Ensure the quotes are not reptitive and less vague. | Quote Rating: 4 | Quote Desc: Some of them were repetitive and that made it more difficult to decide which option was the correct answer.\n",
      "| Time: 18.7 | Acc: 50 | Max Freq: 40.0 | Rate: 10 | Feedback: Not much. It is pretty simple as it is now. | Quote Rating: 8 | Quote Desc: Vague but enough information most of the time.\n",
      "| Time: 9.6 | Acc: 50 | Max Freq: 35.0 | Rate: 7 | Feedback: Maybe give more of a quote? Sometimes they just don't seem to relate at all. | Quote Rating: 10 | Quote Desc: Slightly vague, I felt sometimes as if none of the answers related in any way to the quote.\n",
      "| Time: 20.4 | Acc: 85 | Max Freq: 50.0 | Rate: 10 | Feedback: better instructions. they were a bit confusing | Quote Rating: 8 | Quote Desc: interesting.\n",
      "| Time: 22.7 | Acc: 80 | Max Freq: 55.0 | Rate: 8 | Feedback: It is fine the way it is. | Quote Rating: 7 | Quote Desc: They had limited but somewhat useful information.\n",
      "A3I8HU3ZCHOROC 3YGXWBAF71W2UMZTHDW2TMI7XQSC4P | reject_reasons: ['median_duration = 4089'] | block_reasons: [] | bonus_reasons: []\n",
      "| Time: 4.0 | Acc: 25 | Max Freq: 40.0 | Rate: 10 | Feedback: Still more make sure with some more instructions | Quote Rating: 9 | Quote Desc: They are like some idioms and phrases with similar meanings\n",
      "| Time: 20.9 | Acc: 80 | Max Freq: 50.0 | Rate: 8 | Feedback: No real suggestions | Quote Rating: 6 | Quote Desc: Often, taken as support for an individual answer, they lacked context, but the (probable) answer could be gleaned from taking all the quotes together.\n",
      "| Time: 16.9 | Acc: 50 | Max Freq: 40.0 | Rate: 8 | Feedback: Help provide more examples of what is right. | Quote Rating: 8 | Quote Desc: I thought they were focused more on international places and metro areas.   \n",
      "| Time: 15.2 | Acc: 70 | Max Freq: 40.0 | Rate: 10 | Feedback: Provide a few more examples. | Quote Rating: C | Quote Desc: Good\n",
      "| Time: 18.5 | Acc: 40 | Max Freq: 45.0 | Rate: 2 | Feedback: I dont know. | Quote Rating: 6 | Quote Desc: Some were obvious while others were confusing and forced me to think about whether they were best the choice for the question.\n",
      "| Time: 12.3 | Acc: 85 | Max Freq: 50.0 | Rate: 9 | Feedback: I think its good | Quote Rating: 8 | Quote Desc: some were kind of vauge, but others were quite helpful\n",
      "| Time: 13.9 | Acc: 60 | Max Freq: 50.0 | Rate: 8 | Feedback: Improve the formatting of the options | Quote Rating: 7 | Quote Desc: Generally about the same topics, but not exactly\n",
      "REJECTED: 1\n",
      "INCOMPLETE: 1\n",
      "VALID: 25\n",
      "Median Question Duration: 17.436\n",
      "Median Worker Duration: 17.557000000000002\n",
      "Median Worker Accuracy: 0.7\n",
      "Median Max Response Freq: 0.45\n",
      "Quote Rating: | Mean: 7.38 | Median: 7.5 | Std: 1.44\n"
     ]
    }
   ],
   "source": [
    "num_valid_hits, num_rejected_hits, num_incomplete_hits = 0, 0, 0\n",
    "metrics = {}\n",
    "task_ratings = {i: 0 for i in range(11)}\n",
    "quote_ratings = []\n",
    "durations = []\n",
    "durations_by_worker = []\n",
    "accuracy_by_worker = {}\n",
    "max_response_freqs = []\n",
    "worker_ids = []\n",
    "\n",
    "for hit_result in hit_results:\n",
    "    if ((len(hit_result['reject_reasons']) > 0) or\n",
    "        (len(hit_result['block_reasons']) > 0)):\n",
    "        num_rejected_hits += 1\n",
    "        print(hit_result['worker_id'], hit_result['assignment_id'],\n",
    "              '| reject_reasons:', hit_result['reject_reasons'],\n",
    "              '| block_reasons:', hit_result['block_reasons'],\n",
    "              '| bonus_reasons: ' + str(hit_result['bonus_reasons']) if 'bonus_reasons' in hit_result else '')\n",
    "    elif hit_result['feedback'] is None:\n",
    "        num_incomplete_hits += 1\n",
    "        continue\n",
    "    \n",
    "    worker_ids.append(hit_result['worker_id'])\n",
    "#     if hit_result['worker_id'] == 'A1PUHCEBSOWETV':\n",
    "#         print('*** A1PUHCEBSOWETV ***', hit_result['assignment_id'])\n",
    "    num_valid_hits += 1\n",
    "    if (hit_result['task_rating'] is not None) and (hit_result['task_rating'].isdigit()):\n",
    "        task_ratings[int(hit_result['task_rating'])] += 1\n",
    "    if (hit_result['quote_rating'] is not None) and (hit_result['quote_rating'].isdigit()):\n",
    "        quote_ratings.append(int(hit_result['quote_rating']))\n",
    "    for qtype, qtype_accuracy in hit_result['accuracy'].items():\n",
    "        accuracy_by_worker[qtype] = accuracy_by_worker.get(qtype, []) + [qtype_accuracy]\n",
    "    \n",
    "    hit_durations = []\n",
    "    response_option_counts = {option: 0 for option in options}\n",
    "    responses = []\n",
    "    for prompt in hit_result['data']:\n",
    "        qid = prompt['sample']['qid']\n",
    "        if (split is not None) and (split not in qid):\n",
    "            continue\n",
    "        model_stance = debate_mode_to_option[prompt['sample']['debate_mode']]\n",
    "        answer = prompt['sample']['eval_labels'][0]\n",
    "        human_correct = (prompt['response'] == answer)\n",
    "        assert answer in options, 'Answer must be in options.'\n",
    "        \n",
    "        # Calculate metrics\n",
    "        if qid not in metrics:\n",
    "            metrics[qid] = {\n",
    "                option: {\n",
    "                    'num': 0,\n",
    "                    'num_correct': 0,\n",
    "                    'num_correct_debate_mode': 0,\n",
    "                    'num_incorrect_debate_mode': 0,\n",
    "                    'num_correct_with_correct_debate_mode': 0,\n",
    "                    'num_correct_with_incorrect_debate_mode': 0,\n",
    "                    'num_debate_mode_responses': 0,\n",
    "                }\n",
    "                for option in ([None] if model_stance is None else options)\n",
    "            }\n",
    "            metrics[qid]['answer'] = answer\n",
    "        prompt_metrics = metrics[qid][model_stance]\n",
    "        prompt_metrics['num'] += 1\n",
    "        prompt_metrics['num_correct'] += human_correct\n",
    "        if model_stance == answer:\n",
    "            prompt_metrics['num_correct_with_correct_debate_mode'] += human_correct\n",
    "            prompt_metrics['num_correct_debate_mode'] += 1\n",
    "        else:\n",
    "            prompt_metrics['num_correct_with_incorrect_debate_mode'] += human_correct\n",
    "            prompt_metrics['num_incorrect_debate_mode'] += 1\n",
    "        prompt_metrics['num_debate_mode_responses'] += (prompt['response'] == model_stance)\n",
    "        \n",
    "        hit_durations.append(prompt['duration'] / 1000.)\n",
    "        response_option_counts[prompt['response']] += 1\n",
    "        responses.append(prompt['response'])\n",
    "    duration = np.median(np.array(hit_durations))\n",
    "    durations_by_worker.append(duration)\n",
    "    durations += hit_durations\n",
    "    response_options_array = np.array(list(response_option_counts.values()))\n",
    "    response_options_array = response_options_array / response_options_array.sum()\n",
    "    max_response_freq = response_options_array.max()\n",
    "    max_response_freqs.append(max_response_freq)\n",
    "    print('| Time:', round(duration, 1),\n",
    "          '| Acc:', round(100 * hit_result['accuracy'][prompt_type]),\n",
    "          '| Max Freq:', round(100 * max_response_freq, 1),\n",
    "          '| Rate:', hit_result['task_rating'],\n",
    "          '| Feedback:', hit_result['feedback'],\n",
    "          '| Quote Rating:', None if 'quote_rating' not in hit_result else hit_result['quote_rating'], \n",
    "          '| Quote Desc:', None if 'quote_description' not in hit_result else hit_result['quote_description'])\n",
    "\n",
    "quote_ratings = np.array(quote_ratings)\n",
    "durations = np.array(durations)\n",
    "durations_by_worker = np.array(durations_by_worker)\n",
    "max_response_freqs = np.array(max_response_freqs)\n",
    "durations.sort()\n",
    "durations_by_worker.sort()\n",
    "max_response_freqs.sort()\n",
    "for qtype in accuracy_by_worker:\n",
    "    accuracy_by_worker[qtype] = np.array(accuracy_by_worker[qtype])\n",
    "    accuracy_by_worker[qtype].sort()\n",
    "print('REJECTED:', num_rejected_hits)\n",
    "print('INCOMPLETE:', num_incomplete_hits)\n",
    "print('VALID:', num_valid_hits)\n",
    "print('Median Question Duration:', np.median(durations))\n",
    "print('Median Worker Duration:', np.median(durations_by_worker))\n",
    "print('Median Worker Accuracy:', np.median(accuracy_by_worker[prompt_type]))\n",
    "print('Median Max Response Freq:', np.median(max_response_freqs))\n",
    "print('Quote Rating:',\n",
    "      '| Mean:', round(quote_ratings.mean(), 2),\n",
    "      '| Median:', round(np.median(quote_ratings), 2),\n",
    "      '| Std:', round(np.std(quote_ratings), 2))\n",
    "# pprint(hit_results[0]['data'][0])\n",
    "# pprint(hit_results[0]['worker_id'])"
   ]
  },
  {
   "cell_type": "code",
   "execution_count": 28,
   "metadata": {
    "scrolled": false
   },
   "outputs": [
    {
     "name": "stdout",
     "output_type": "stream",
     "text": [
      "Evals per sample: 5.0\n",
      "Fraction insuffient evals: 0.2\n",
      "Convinced: nan %\n",
      "- Correct debater: nan %\n",
      "- Incorrect debater: nan %\n",
      "Accuracy: 65.38 %\n",
      "- Correct debater: nan %\n",
      "- Incorrect debater: nan %\n",
      "Extra Evals: 0.0 %\n",
      "Evals per sample distribution: [4 4 4 4 4 4 4 4 4 4 4 4 4 4 4 4 4 4 4 4 5 5 5 5 5 5 5 5 5 5 5 5 5 5 5 5 5\n",
      " 5 5 5 5 5 5 5 5 5 5 5 5 5 5 5 5 5 5 5 5 5 5 5 5 5 5 5 5 5 5 5 5 5 5 5 5 5\n",
      " 5 5 5 5 5 5 6 6 6 6 6 6 6 6 6 6 6 6 6 6 6 6 6 6 6 6]\n"
     ]
    },
    {
     "name": "stderr",
     "output_type": "stream",
     "text": [
      "/anaconda3/lib/python3.6/site-packages/ipykernel_launcher.py:42: RuntimeWarning: Mean of empty slice.\n",
      "/anaconda3/lib/python3.6/site-packages/numpy/core/_methods.py:80: RuntimeWarning: invalid value encountered in double_scalars\n",
      "  ret = ret.dtype.type(ret / rcount)\n",
      "/anaconda3/lib/python3.6/site-packages/ipykernel_launcher.py:44: RuntimeWarning: Mean of empty slice.\n",
      "/anaconda3/lib/python3.6/site-packages/ipykernel_launcher.py:46: RuntimeWarning: Mean of empty slice.\n",
      "/anaconda3/lib/python3.6/site-packages/ipykernel_launcher.py:51: RuntimeWarning: Mean of empty slice.\n",
      "/anaconda3/lib/python3.6/site-packages/ipykernel_launcher.py:53: RuntimeWarning: Mean of empty slice.\n"
     ]
    }
   ],
   "source": [
    "accuracy_by_sample = []\n",
    "accuracy_by_sample_correct_debate_mode = []\n",
    "accuracy_by_sample_incorrect_debate_mode = []\n",
    "convinced_freqs = []\n",
    "convinced_freqs_with_correct_debate_mode = []\n",
    "convinced_freqs_with_incorrect_debate_mode = []\n",
    "num_evals_by_sample = []\n",
    "for qid, qid_metrics in metrics.items():\n",
    "    answer = metrics[qid]['answer']\n",
    "    for model_stance, prompt in qid_metrics.items():\n",
    "        if not (model_stance in [None] + options):\n",
    "            continue\n",
    "\n",
    "        # Q-only stats\n",
    "        prompt_metrics = metrics[qid][model_stance]\n",
    "        num_evals_by_sample.append(prompt_metrics['num'])\n",
    "        accuracy_by_sample.append(prompt_metrics['num_correct'] / prompt_metrics['num'])\n",
    "        if model_stance is None:\n",
    "            continue\n",
    "        \n",
    "        # Debater stats\n",
    "        convinced_freq = prompt_metrics['num_debate_mode_responses'] / prompt_metrics['num']\n",
    "        if model_stance == answer:\n",
    "            convinced_freqs_with_correct_debate_mode.append(convinced_freq)\n",
    "            accuracy_by_sample_correct_debate_mode.append(\n",
    "                prompt_metrics['num_correct_with_correct_debate_mode'] /\n",
    "                prompt_metrics['num_correct_debate_mode'])\n",
    "        else:\n",
    "            convinced_freqs_with_incorrect_debate_mode.append(convinced_freq)\n",
    "            accuracy_by_sample_incorrect_debate_mode.append(\n",
    "                prompt_metrics['num_correct_with_incorrect_debate_mode'] /\n",
    "                prompt_metrics['num_incorrect_debate_mode'])\n",
    "        convinced_freqs.append(convinced_freq)\n",
    "\n",
    "worker_ids = set(worker_ids)\n",
    "        \n",
    "num_evals_by_sample = np.array(num_evals_by_sample)\n",
    "print('Evals per sample:', num_evals_by_sample.mean())\n",
    "print('Fraction insuffient evals:', (num_evals_by_sample < 5).mean())\n",
    "\n",
    "convinced_freqs = np.array(convinced_freqs)\n",
    "print('Convinced:', round(100 * convinced_freqs.mean(), 2), '%')\n",
    "convinced_freqs_with_correct_debate_mode = np.array(convinced_freqs_with_correct_debate_mode)\n",
    "print('- Correct debater:', round(100 * convinced_freqs_with_correct_debate_mode.mean(), 2), '%')\n",
    "convinced_freqs_with_incorrect_debate_mode = np.array(convinced_freqs_with_incorrect_debate_mode)\n",
    "print('- Incorrect debater:', round(100 * convinced_freqs_with_incorrect_debate_mode.mean(), 2), '%')\n",
    "\n",
    "accuracy_by_sample = np.array(accuracy_by_sample)\n",
    "print('Accuracy:', round(100 * accuracy_by_sample.mean(), 2), '%')\n",
    "accuracy_by_sample_correct_debate_mode = np.array(accuracy_by_sample_correct_debate_mode)\n",
    "print('- Correct debater:', round(100 * accuracy_by_sample_correct_debate_mode.mean(), 2), '%')\n",
    "accuracy_by_sample_incorrect_debate_mode = np.array(accuracy_by_sample_incorrect_debate_mode)\n",
    "print('- Incorrect debater:', round(100 * accuracy_by_sample_incorrect_debate_mode.mean(), 2), '%')\n",
    "\n",
    "num_target_evals = 5\n",
    "print('Extra Evals:', round(((100. * (num_evals_by_sample - num_target_evals).sum()) / num_evals_by_sample.sum()), 2), '%')\n",
    "num_evals_by_sample.sort()\n",
    "print('Evals per sample distribution:', num_evals_by_sample)"
   ]
  },
  {
   "cell_type": "code",
   "execution_count": 29,
   "metadata": {},
   "outputs": [
    {
     "name": "stdout",
     "output_type": "stream",
     "text": [
      "NPS, Mean: (24.0, 8.04)\n"
     ]
    }
   ],
   "source": [
    "def nps(task_ratings):\n",
    "    num_ratings = sum(list(task_ratings.values()))\n",
    "    if num_ratings == 0:\n",
    "        return None\n",
    "\n",
    "    nps_sum_ratings = 0\n",
    "    sum_ratings = 0\n",
    "    for score, num_raters in task_ratings.items():\n",
    "        sum_ratings += num_raters * score\n",
    "        if score >= 9:\n",
    "            nps_sum_ratings += num_raters\n",
    "        elif score <= 6:\n",
    "            nps_sum_ratings -= num_raters\n",
    "    return round(100 * (nps_sum_ratings / float(num_ratings)), 2), round((sum_ratings / float(num_ratings)), 2)\n",
    "\n",
    "print('NPS, Mean:', nps(task_ratings))"
   ]
  },
  {
   "cell_type": "code",
   "execution_count": 30,
   "metadata": {},
   "outputs": [
    {
     "data": {
      "text/plain": [
       "array([ 4.019 ,  9.5575, 11.6475, 11.8295, 12.3205, 12.3345, 12.914 ,\n",
       "       13.1315, 13.9005, 15.169 , 15.8785, 16.9375, 17.557 , 18.0995,\n",
       "       18.5235, 18.706 , 20.36  , 20.889 , 21.2705, 21.8405, 22.66  ,\n",
       "       23.1675, 27.0325, 37.157 , 40.004 ])"
      ]
     },
     "execution_count": 30,
     "metadata": {},
     "output_type": "execute_result"
    }
   ],
   "source": [
    "durations_by_worker"
   ]
  },
  {
   "cell_type": "code",
   "execution_count": 23,
   "metadata": {},
   "outputs": [
    {
     "data": {
      "text/plain": [
       "0.6559999999999999"
      ]
     },
     "execution_count": 23,
     "metadata": {},
     "output_type": "execute_result"
    }
   ],
   "source": [
    "np.mean(accuracy_by_worker[prompt_type])"
   ]
  },
  {
   "cell_type": "code",
   "execution_count": 18,
   "metadata": {},
   "outputs": [
    {
     "data": {
      "text/plain": [
       "{0: 0, 1: 0, 2: 1, 3: 0, 4: 1, 5: 0, 6: 2, 7: 3, 8: 8, 9: 2, 10: 8}"
      ]
     },
     "execution_count": 18,
     "metadata": {},
     "output_type": "execute_result"
    }
   ],
   "source": [
    "task_ratings"
   ]
  },
  {
   "cell_type": "code",
   "execution_count": null,
   "metadata": {},
   "outputs": [],
   "source": []
  }
 ],
 "metadata": {
  "kernelspec": {
   "display_name": "Python 3",
   "language": "python",
   "name": "python3"
  },
  "language_info": {
   "codemirror_mode": {
    "name": "ipython",
    "version": 3
   },
   "file_extension": ".py",
   "mimetype": "text/x-python",
   "name": "python",
   "nbconvert_exporter": "python",
   "pygments_lexer": "ipython3",
   "version": "3.6.5"
  }
 },
 "nbformat": 4,
 "nbformat_minor": 2
}
